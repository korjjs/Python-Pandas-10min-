{
  "nbformat": 4,
  "nbformat_minor": 0,
  "metadata": {
    "accelerator": "GPU",
    "colab": {
      "name": "index.ipynb",
      "provenance": [],
      "collapsed_sections": [
        "DeXaTXAdp6ne",
        "izNpv79bsGV7",
        "v7BFmgcRLNif",
        "ZYenx0CU2Lvc"
      ],
      "include_colab_link": true
    },
    "kernelspec": {
      "display_name": "Python 3",
      "language": "python",
      "name": "python3"
    },
    "language_info": {
      "codemirror_mode": {
        "name": "ipython",
        "version": 3
      },
      "file_extension": ".py",
      "mimetype": "text/x-python",
      "name": "python",
      "nbconvert_exporter": "python",
      "pygments_lexer": "ipython3",
      "version": "3.6.5"
    }
  },
  "cells": [
    {
      "cell_type": "markdown",
      "metadata": {
        "id": "view-in-github",
        "colab_type": "text"
      },
      "source": [
        "<a href=\"https://colab.research.google.com/github/korjjs/Python-Pandas-10min-/blob/master/index.ipynb\" target=\"_parent\"><img src=\"https://colab.research.google.com/assets/colab-badge.svg\" alt=\"Open In Colab\"/></a>"
      ]
    },
    {
      "cell_type": "markdown",
      "metadata": {
        "colab_type": "text",
        "id": "_SA4MsmkCMEL"
      },
      "source": [
        "# Pandas 10분 완성"
      ]
    },
    {
      "cell_type": "markdown",
      "metadata": {
        "id": "zbN9WSYWJPre",
        "colab_type": "text"
      },
      "source": [
        "*역자 주 : 본 자료는 10 Minutes to Pandas(하단 원문 링크 참조)의 한글 번역 자료로, 번역은 데잇걸즈2 프로그램 교육생 모두가 함께 진행하였습니다. 데잇걸즈2는 과학기술정보통신부와 한국정보화진흥원이 주관하는 SW여성인재 빅데이터 분석 교육과정으로, 상세한 소개는 [홈페이지](http://dataitgirls2.pagedemo.co/)를 참조 부탁 드립니다.* <br>\n",
        "*본 자료의 저작권은 BSD-3-Clause([나무위키 참조](https://namu.wiki/w/BSD%20%EB%9D%BC%EC%9D%B4%EC%84%A0%EC%8A%A4))인 점을 참조하여 주세요.* <br><br>\n",
        "*This documentation is a Korean translation material of '10 Minutes to Pandas'. Every members of DATAITGIRLS2 program participated in the translation. If you want to know about DATAITGIRLS2 program, please visit [DATAITGIRLS2 program's homepage](http://dataitgirls2.pagedemo.co/).*<br>\n",
        "*The copyright conditions of this documentation are BSD-3-Clause.* <br><br>"
      ]
    },
    {
      "cell_type": "markdown",
      "metadata": {
        "colab_type": "text",
        "id": "q3iuQdonkHB5"
      },
      "source": [
        "*역자 주(참조 자료) : [10 Minuts to Pandas 원문](https://pandas.pydata.org/pandas-docs/stable/10min.html), [판다스 개발자의 PyCon Korea 2016 발표 : Keynote](https://www.youtube.com/watch?v=O5uFF1H0R0M), [Pandas 10분 완성 원문의 인터넷 강의 영상](https://vimeo.com/59324550), [Pandas Cheat Sheet](http://pandas.pydata.org/Pandas_Cheat_Sheet.pdf)* <br><br><br>\n"
      ]
    },
    {
      "cell_type": "markdown",
      "metadata": {
        "colab_type": "text",
        "id": "6vTEdOiaLNf5"
      },
      "source": [
        "이 소개서는 주로 신규 사용자를 대상으로 한 판다스에 대한 간략한 소개입니다. 더 복잡한 방법은 [Cookbook](https://pandas.pydata.org/pandas-docs/stable/cookbook.html#cookbook) 에서 볼 수 있습니다.\n",
        "\n",
        "\n",
        "일반적으로 다음과 같이 불러옵니다."
      ]
    },
    {
      "cell_type": "code",
      "metadata": {
        "colab_type": "code",
        "id": "u8AvydKWLNf6",
        "colab": {}
      },
      "source": [
        "import pandas as pd"
      ],
      "execution_count": 0,
      "outputs": []
    },
    {
      "cell_type": "code",
      "metadata": {
        "colab_type": "code",
        "id": "gt_2tMD2LNf9",
        "colab": {}
      },
      "source": [
        "import numpy as np"
      ],
      "execution_count": 0,
      "outputs": []
    },
    {
      "cell_type": "code",
      "metadata": {
        "colab_type": "code",
        "id": "y6Eq4MTnLNf_",
        "colab": {}
      },
      "source": [
        "import matplotlib.pyplot as plt"
      ],
      "execution_count": 0,
      "outputs": []
    },
    {
      "cell_type": "markdown",
      "metadata": {
        "colab_type": "text",
        "id": "X9rrAHzu2Vab"
      },
      "source": [
        "## Object Creation (객체 생성)"
      ]
    },
    {
      "cell_type": "markdown",
      "metadata": {
        "colab_type": "text",
        "id": "5hgd3fkZ3DKl"
      },
      "source": [
        "[데이터 구조 소개 섹션](https://pandas.pydata.org/pandas-docs/stable/dsintro.html#dsintro)을 참조하세요.\n",
        "\n",
        "pandas는 값을 가지고 있는 리스트를 통해 [시리즈](https://pandas.pydata.org/pandas-docs/stable/generated/pandas.Series.html#pandas.Series)를 만들고, 정수로 만들어진 인덱스를 기본값으로 불러올 것입니다."
      ]
    },
    {
      "cell_type": "code",
      "metadata": {
        "colab_type": "code",
        "id": "qg9Rcvn83IIA",
        "colab": {}
      },
      "source": [
        "s = pd.Series([1,3,5,np.nan,6,8])"
      ],
      "execution_count": 0,
      "outputs": []
    },
    {
      "cell_type": "code",
      "metadata": {
        "colab_type": "code",
        "id": "ulVQdi2w3J98",
        "outputId": "8d7dd4e9-fc60-45a4-cd33-3b0dc74f1c9d",
        "colab": {
          "base_uri": "https://localhost:8080/",
          "height": 143
        }
      },
      "source": [
        "s"
      ],
      "execution_count": 5,
      "outputs": [
        {
          "output_type": "execute_result",
          "data": {
            "text/plain": [
              "0    1.0\n",
              "1    3.0\n",
              "2    5.0\n",
              "3    NaN\n",
              "4    6.0\n",
              "5    8.0\n",
              "dtype: float64"
            ]
          },
          "metadata": {
            "tags": []
          },
          "execution_count": 5
        }
      ]
    },
    {
      "cell_type": "markdown",
      "metadata": {
        "colab_type": "text",
        "id": "lea8Y7Rq3tWL"
      },
      "source": [
        "datetime 인덱스와 레이블이 있는 열을 가지고 있는 NumPy 배열을 전달하여 데이터프레임을 만듭니다."
      ]
    },
    {
      "cell_type": "code",
      "metadata": {
        "colab_type": "code",
        "id": "Cj4sCmrH3R71",
        "colab": {}
      },
      "source": [
        "dates = pd.date_range('20130101', periods=6)"
      ],
      "execution_count": 0,
      "outputs": []
    },
    {
      "cell_type": "code",
      "metadata": {
        "colab_type": "code",
        "id": "yM54opp63Sfg",
        "outputId": "96002b7b-12fe-4a11-aa10-b2a8b2c2acce",
        "colab": {
          "base_uri": "https://localhost:8080/",
          "height": 71
        }
      },
      "source": [
        "dates"
      ],
      "execution_count": 7,
      "outputs": [
        {
          "output_type": "execute_result",
          "data": {
            "text/plain": [
              "DatetimeIndex(['2013-01-01', '2013-01-02', '2013-01-03', '2013-01-04',\n",
              "               '2013-01-05', '2013-01-06'],\n",
              "              dtype='datetime64[ns]', freq='D')"
            ]
          },
          "metadata": {
            "tags": []
          },
          "execution_count": 7
        }
      ]
    },
    {
      "cell_type": "code",
      "metadata": {
        "colab_type": "code",
        "id": "YQCGP5R43XVT",
        "colab": {}
      },
      "source": [
        "df = pd.DataFrame(np.random.randn(6,4), index=dates, columns=list('ABCD'))"
      ],
      "execution_count": 0,
      "outputs": []
    },
    {
      "cell_type": "code",
      "metadata": {
        "colab_type": "code",
        "id": "fkU_8Hwg3ZTg",
        "outputId": "3c958163-3dba-4fea-939c-960685f54ab0",
        "colab": {
          "base_uri": "https://localhost:8080/",
          "height": 235
        }
      },
      "source": [
        "df"
      ],
      "execution_count": 9,
      "outputs": [
        {
          "output_type": "execute_result",
          "data": {
            "text/html": [
              "<div>\n",
              "<style scoped>\n",
              "    .dataframe tbody tr th:only-of-type {\n",
              "        vertical-align: middle;\n",
              "    }\n",
              "\n",
              "    .dataframe tbody tr th {\n",
              "        vertical-align: top;\n",
              "    }\n",
              "\n",
              "    .dataframe thead th {\n",
              "        text-align: right;\n",
              "    }\n",
              "</style>\n",
              "<table border=\"1\" class=\"dataframe\">\n",
              "  <thead>\n",
              "    <tr style=\"text-align: right;\">\n",
              "      <th></th>\n",
              "      <th>A</th>\n",
              "      <th>B</th>\n",
              "      <th>C</th>\n",
              "      <th>D</th>\n",
              "    </tr>\n",
              "  </thead>\n",
              "  <tbody>\n",
              "    <tr>\n",
              "      <th>2013-01-01</th>\n",
              "      <td>-0.020580</td>\n",
              "      <td>0.026153</td>\n",
              "      <td>1.158884</td>\n",
              "      <td>1.309540</td>\n",
              "    </tr>\n",
              "    <tr>\n",
              "      <th>2013-01-02</th>\n",
              "      <td>0.515252</td>\n",
              "      <td>-1.760506</td>\n",
              "      <td>-1.643187</td>\n",
              "      <td>0.063676</td>\n",
              "    </tr>\n",
              "    <tr>\n",
              "      <th>2013-01-03</th>\n",
              "      <td>-0.181640</td>\n",
              "      <td>1.841062</td>\n",
              "      <td>0.237141</td>\n",
              "      <td>1.262215</td>\n",
              "    </tr>\n",
              "    <tr>\n",
              "      <th>2013-01-04</th>\n",
              "      <td>1.558132</td>\n",
              "      <td>-0.591268</td>\n",
              "      <td>0.122389</td>\n",
              "      <td>0.529590</td>\n",
              "    </tr>\n",
              "    <tr>\n",
              "      <th>2013-01-05</th>\n",
              "      <td>-1.245534</td>\n",
              "      <td>0.474623</td>\n",
              "      <td>1.135444</td>\n",
              "      <td>0.480303</td>\n",
              "    </tr>\n",
              "    <tr>\n",
              "      <th>2013-01-06</th>\n",
              "      <td>0.132386</td>\n",
              "      <td>1.956173</td>\n",
              "      <td>-0.166938</td>\n",
              "      <td>0.265629</td>\n",
              "    </tr>\n",
              "  </tbody>\n",
              "</table>\n",
              "</div>"
            ],
            "text/plain": [
              "                   A         B         C         D\n",
              "2013-01-01 -0.020580  0.026153  1.158884  1.309540\n",
              "2013-01-02  0.515252 -1.760506 -1.643187  0.063676\n",
              "2013-01-03 -0.181640  1.841062  0.237141  1.262215\n",
              "2013-01-04  1.558132 -0.591268  0.122389  0.529590\n",
              "2013-01-05 -1.245534  0.474623  1.135444  0.480303\n",
              "2013-01-06  0.132386  1.956173 -0.166938  0.265629"
            ]
          },
          "metadata": {
            "tags": []
          },
          "execution_count": 9
        }
      ]
    },
    {
      "cell_type": "markdown",
      "metadata": {
        "colab_type": "text",
        "id": "rYnipdkELNgC"
      },
      "source": [
        "시리즈와 같은 것으로 변환될 수 있는 객체들의 dict로 구성된 데이터프레임을 만듭니다."
      ]
    },
    {
      "cell_type": "code",
      "metadata": {
        "colab_type": "code",
        "id": "cKpPtOIVLNgC",
        "colab": {}
      },
      "source": [
        "df2 = pd.DataFrame({'A' : 1.,\n",
        "                    'B' : pd.Timestamp('20130102'),\n",
        "                    'C' : pd.Series(1,index=list(range(4)),dtype='float32'),\n",
        "                    'D' : np.array([3] * 4,dtype='int32'),\n",
        "                    'E' : pd.Categorical([\"test\",\"train\",\"test\",\"train\"]),\n",
        "                    'F' : 'foo' })"
      ],
      "execution_count": 0,
      "outputs": []
    },
    {
      "cell_type": "code",
      "metadata": {
        "colab_type": "code",
        "id": "QDm61ULjLNgE",
        "outputId": "1bebf933-b0b2-410f-de9d-ea2a690d273e",
        "colab": {
          "base_uri": "https://localhost:8080/",
          "height": 173
        }
      },
      "source": [
        "df2"
      ],
      "execution_count": 11,
      "outputs": [
        {
          "output_type": "execute_result",
          "data": {
            "text/html": [
              "<div>\n",
              "<style scoped>\n",
              "    .dataframe tbody tr th:only-of-type {\n",
              "        vertical-align: middle;\n",
              "    }\n",
              "\n",
              "    .dataframe tbody tr th {\n",
              "        vertical-align: top;\n",
              "    }\n",
              "\n",
              "    .dataframe thead th {\n",
              "        text-align: right;\n",
              "    }\n",
              "</style>\n",
              "<table border=\"1\" class=\"dataframe\">\n",
              "  <thead>\n",
              "    <tr style=\"text-align: right;\">\n",
              "      <th></th>\n",
              "      <th>A</th>\n",
              "      <th>B</th>\n",
              "      <th>C</th>\n",
              "      <th>D</th>\n",
              "      <th>E</th>\n",
              "      <th>F</th>\n",
              "    </tr>\n",
              "  </thead>\n",
              "  <tbody>\n",
              "    <tr>\n",
              "      <th>0</th>\n",
              "      <td>1.0</td>\n",
              "      <td>2013-01-02</td>\n",
              "      <td>1.0</td>\n",
              "      <td>3</td>\n",
              "      <td>test</td>\n",
              "      <td>foo</td>\n",
              "    </tr>\n",
              "    <tr>\n",
              "      <th>1</th>\n",
              "      <td>1.0</td>\n",
              "      <td>2013-01-02</td>\n",
              "      <td>1.0</td>\n",
              "      <td>3</td>\n",
              "      <td>train</td>\n",
              "      <td>foo</td>\n",
              "    </tr>\n",
              "    <tr>\n",
              "      <th>2</th>\n",
              "      <td>1.0</td>\n",
              "      <td>2013-01-02</td>\n",
              "      <td>1.0</td>\n",
              "      <td>3</td>\n",
              "      <td>test</td>\n",
              "      <td>foo</td>\n",
              "    </tr>\n",
              "    <tr>\n",
              "      <th>3</th>\n",
              "      <td>1.0</td>\n",
              "      <td>2013-01-02</td>\n",
              "      <td>1.0</td>\n",
              "      <td>3</td>\n",
              "      <td>train</td>\n",
              "      <td>foo</td>\n",
              "    </tr>\n",
              "  </tbody>\n",
              "</table>\n",
              "</div>"
            ],
            "text/plain": [
              "     A          B    C  D      E    F\n",
              "0  1.0 2013-01-02  1.0  3   test  foo\n",
              "1  1.0 2013-01-02  1.0  3  train  foo\n",
              "2  1.0 2013-01-02  1.0  3   test  foo\n",
              "3  1.0 2013-01-02  1.0  3  train  foo"
            ]
          },
          "metadata": {
            "tags": []
          },
          "execution_count": 11
        }
      ]
    },
    {
      "cell_type": "markdown",
      "metadata": {
        "colab_type": "text",
        "id": "Hlagj-SMLNgI"
      },
      "source": [
        "데이터프레임 결과물의 열은 다양한 데이터 타입(dtypes)으로 구성됩니다."
      ]
    },
    {
      "cell_type": "code",
      "metadata": {
        "colab_type": "code",
        "id": "eFzVncepLNgJ",
        "outputId": "fb1decab-8ef4-4143-c90a-d1f7c2b6bb3c",
        "colab": {
          "base_uri": "https://localhost:8080/",
          "height": 143
        }
      },
      "source": [
        "df2.dtypes"
      ],
      "execution_count": 12,
      "outputs": [
        {
          "output_type": "execute_result",
          "data": {
            "text/plain": [
              "A           float64\n",
              "B    datetime64[ns]\n",
              "C           float32\n",
              "D             int32\n",
              "E          category\n",
              "F            object\n",
              "dtype: object"
            ]
          },
          "metadata": {
            "tags": []
          },
          "execution_count": 12
        }
      ]
    },
    {
      "cell_type": "markdown",
      "metadata": {
        "colab_type": "text",
        "id": "oOt1V164LNgN"
      },
      "source": [
        "IPython을 이용하고 계시다면, (공용 속성을 포함한) 열 이름에 대한 Tap 자동완성 기능이 자동으로 활성화됩니다. <br>\n",
        "다음은 완성될 속성에 대한 부분집합(subset)입니다. \n",
        "\n",
        "*역자 주 : 아래 제시된 코드의 경우, IPython이 아닌 환경(Google Colaboratory, Jupyter 등)에서는 사용이 불가능한 코드인 점에 주의하세요.*"
      ]
    },
    {
      "cell_type": "code",
      "metadata": {
        "colab_type": "code",
        "id": "Me53oH4ZkZHt",
        "colab": {}
      },
      "source": [
        "# df2.<TAB>      #Google Colab에서는 <Ctrl>+<Space> 입력"
      ],
      "execution_count": 0,
      "outputs": []
    },
    {
      "cell_type": "markdown",
      "metadata": {
        "colab_type": "text",
        "id": "Itt3P3rQ5DV-"
      },
      "source": [
        "*역자 주 : IPython에서 실행하면 다음과 같은 결과값이 나옵니다.*\n",
        "\n",
        "```\n",
        "df2.A                  df2.bool\n",
        "df2.abs                df2.boxplot\n",
        "df2.add                df2.C\n",
        "df2.add_prefix         df2.clip\n",
        "df2.add_suffix         df2.clip_lower\n",
        "df2.align              df2.clip_upper\n",
        "df2.all                df2.columns\n",
        "df2.any                df2.combine\n",
        "df2.append             df2.combine_first\n",
        "df2.apply              df2.compound\n",
        "df2.applymap           df2.consolidate\n",
        "df2.D\n",
        "```"
      ]
    },
    {
      "cell_type": "markdown",
      "metadata": {
        "colab_type": "text",
        "id": "YHLdSINuLNgS"
      },
      "source": [
        "보시다시피, A, B, C 그리고 D 열이 Tab 자동완성 기능으로 실행됩니다. 물론 E도 있습니다. 나머지 속성들은 간결하게 잘라버렸습니다. "
      ]
    },
    {
      "cell_type": "markdown",
      "metadata": {
        "colab_type": "text",
        "id": "lkJcyM0ILNgT"
      },
      "source": [
        "## Viewing Data(데이터 확인하기)"
      ]
    },
    {
      "cell_type": "markdown",
      "metadata": {
        "colab_type": "text",
        "id": "2108prOVLNgY"
      },
      "source": [
        "[Basic Section](https://pandas.pydata.org/pandas-docs/stable/basics.html#basics)을 참조하세요.\n",
        "\n",
        "데이터프레임의 가장 윗 줄과 마지막 줄을 확인하고 싶을 때에 사용하는 방법은 다음과 같습니다. <br>\n",
        "\n",
        "*역자 주 <br>\n",
        "괄호()안에는 숫자가 들어갈 수도 있고 안 들어갈 수도 있습니다. <br>\n",
        "숫자가 들어간다면, 윗/마지막 줄의 특정 줄을 불러올 수 있습니다. <br>\n",
        "숫자가 들어가지 않다면, 기본값인 5로 처리됩니다.*\n",
        "\n",
        "*예시 <br>\n",
        "df.tail(3) - 끝에서 마지막 3줄을 불러옴 <br>\n",
        "df.tail() - 끝에서 마지막 5줄 불러옴*"
      ]
    },
    {
      "cell_type": "code",
      "metadata": {
        "colab_type": "code",
        "id": "bW82qnwBLNga",
        "outputId": "980c110c-53fe-401e-c533-bdf3c25bbdaf",
        "colab": {
          "base_uri": "https://localhost:8080/",
          "height": 204
        }
      },
      "source": [
        "df.head()"
      ],
      "execution_count": 13,
      "outputs": [
        {
          "output_type": "execute_result",
          "data": {
            "text/html": [
              "<div>\n",
              "<style scoped>\n",
              "    .dataframe tbody tr th:only-of-type {\n",
              "        vertical-align: middle;\n",
              "    }\n",
              "\n",
              "    .dataframe tbody tr th {\n",
              "        vertical-align: top;\n",
              "    }\n",
              "\n",
              "    .dataframe thead th {\n",
              "        text-align: right;\n",
              "    }\n",
              "</style>\n",
              "<table border=\"1\" class=\"dataframe\">\n",
              "  <thead>\n",
              "    <tr style=\"text-align: right;\">\n",
              "      <th></th>\n",
              "      <th>A</th>\n",
              "      <th>B</th>\n",
              "      <th>C</th>\n",
              "      <th>D</th>\n",
              "    </tr>\n",
              "  </thead>\n",
              "  <tbody>\n",
              "    <tr>\n",
              "      <th>2013-01-01</th>\n",
              "      <td>-0.020580</td>\n",
              "      <td>0.026153</td>\n",
              "      <td>1.158884</td>\n",
              "      <td>1.309540</td>\n",
              "    </tr>\n",
              "    <tr>\n",
              "      <th>2013-01-02</th>\n",
              "      <td>0.515252</td>\n",
              "      <td>-1.760506</td>\n",
              "      <td>-1.643187</td>\n",
              "      <td>0.063676</td>\n",
              "    </tr>\n",
              "    <tr>\n",
              "      <th>2013-01-03</th>\n",
              "      <td>-0.181640</td>\n",
              "      <td>1.841062</td>\n",
              "      <td>0.237141</td>\n",
              "      <td>1.262215</td>\n",
              "    </tr>\n",
              "    <tr>\n",
              "      <th>2013-01-04</th>\n",
              "      <td>1.558132</td>\n",
              "      <td>-0.591268</td>\n",
              "      <td>0.122389</td>\n",
              "      <td>0.529590</td>\n",
              "    </tr>\n",
              "    <tr>\n",
              "      <th>2013-01-05</th>\n",
              "      <td>-1.245534</td>\n",
              "      <td>0.474623</td>\n",
              "      <td>1.135444</td>\n",
              "      <td>0.480303</td>\n",
              "    </tr>\n",
              "  </tbody>\n",
              "</table>\n",
              "</div>"
            ],
            "text/plain": [
              "                   A         B         C         D\n",
              "2013-01-01 -0.020580  0.026153  1.158884  1.309540\n",
              "2013-01-02  0.515252 -1.760506 -1.643187  0.063676\n",
              "2013-01-03 -0.181640  1.841062  0.237141  1.262215\n",
              "2013-01-04  1.558132 -0.591268  0.122389  0.529590\n",
              "2013-01-05 -1.245534  0.474623  1.135444  0.480303"
            ]
          },
          "metadata": {
            "tags": []
          },
          "execution_count": 13
        }
      ]
    },
    {
      "cell_type": "code",
      "metadata": {
        "colab_type": "code",
        "id": "mDFQ0TnFLNgg",
        "outputId": "31d7b072-0e31-479d-f0d5-fa27ec81f391",
        "colab": {
          "base_uri": "https://localhost:8080/",
          "height": 142
        }
      },
      "source": [
        "df.tail(3)"
      ],
      "execution_count": 14,
      "outputs": [
        {
          "output_type": "execute_result",
          "data": {
            "text/html": [
              "<div>\n",
              "<style scoped>\n",
              "    .dataframe tbody tr th:only-of-type {\n",
              "        vertical-align: middle;\n",
              "    }\n",
              "\n",
              "    .dataframe tbody tr th {\n",
              "        vertical-align: top;\n",
              "    }\n",
              "\n",
              "    .dataframe thead th {\n",
              "        text-align: right;\n",
              "    }\n",
              "</style>\n",
              "<table border=\"1\" class=\"dataframe\">\n",
              "  <thead>\n",
              "    <tr style=\"text-align: right;\">\n",
              "      <th></th>\n",
              "      <th>A</th>\n",
              "      <th>B</th>\n",
              "      <th>C</th>\n",
              "      <th>D</th>\n",
              "    </tr>\n",
              "  </thead>\n",
              "  <tbody>\n",
              "    <tr>\n",
              "      <th>2013-01-04</th>\n",
              "      <td>1.558132</td>\n",
              "      <td>-0.591268</td>\n",
              "      <td>0.122389</td>\n",
              "      <td>0.529590</td>\n",
              "    </tr>\n",
              "    <tr>\n",
              "      <th>2013-01-05</th>\n",
              "      <td>-1.245534</td>\n",
              "      <td>0.474623</td>\n",
              "      <td>1.135444</td>\n",
              "      <td>0.480303</td>\n",
              "    </tr>\n",
              "    <tr>\n",
              "      <th>2013-01-06</th>\n",
              "      <td>0.132386</td>\n",
              "      <td>1.956173</td>\n",
              "      <td>-0.166938</td>\n",
              "      <td>0.265629</td>\n",
              "    </tr>\n",
              "  </tbody>\n",
              "</table>\n",
              "</div>"
            ],
            "text/plain": [
              "                   A         B         C         D\n",
              "2013-01-04  1.558132 -0.591268  0.122389  0.529590\n",
              "2013-01-05 -1.245534  0.474623  1.135444  0.480303\n",
              "2013-01-06  0.132386  1.956173 -0.166938  0.265629"
            ]
          },
          "metadata": {
            "tags": []
          },
          "execution_count": 14
        }
      ]
    },
    {
      "cell_type": "markdown",
      "metadata": {
        "colab_type": "text",
        "id": "GAZJV4orLNgj"
      },
      "source": [
        "인덱스(Index), 열(Column) 그리고 NumPy 데이터에 대한 세부 정보를 봅니다."
      ]
    },
    {
      "cell_type": "code",
      "metadata": {
        "colab_type": "code",
        "id": "QjyY5q21LNgj",
        "outputId": "fdc41df9-a659-4a48-8c73-df2dacd398cd",
        "colab": {
          "base_uri": "https://localhost:8080/",
          "height": 71
        }
      },
      "source": [
        "df.index"
      ],
      "execution_count": 15,
      "outputs": [
        {
          "output_type": "execute_result",
          "data": {
            "text/plain": [
              "DatetimeIndex(['2013-01-01', '2013-01-02', '2013-01-03', '2013-01-04',\n",
              "               '2013-01-05', '2013-01-06'],\n",
              "              dtype='datetime64[ns]', freq='D')"
            ]
          },
          "metadata": {
            "tags": []
          },
          "execution_count": 15
        }
      ]
    },
    {
      "cell_type": "code",
      "metadata": {
        "colab_type": "code",
        "id": "uMLtdmlTLNgm",
        "outputId": "f7eb9dbe-d1d0-4129-8a3f-8bb14dd97261",
        "colab": {
          "base_uri": "https://localhost:8080/",
          "height": 35
        }
      },
      "source": [
        "df.columns"
      ],
      "execution_count": 16,
      "outputs": [
        {
          "output_type": "execute_result",
          "data": {
            "text/plain": [
              "Index(['A', 'B', 'C', 'D'], dtype='object')"
            ]
          },
          "metadata": {
            "tags": []
          },
          "execution_count": 16
        }
      ]
    },
    {
      "cell_type": "code",
      "metadata": {
        "colab_type": "code",
        "id": "nyBJBmQ6LNgq",
        "outputId": "ebf71e2b-2a4c-43d1-fb3a-a191a0a4a7ce",
        "colab": {
          "base_uri": "https://localhost:8080/",
          "height": 125
        }
      },
      "source": [
        "df.values"
      ],
      "execution_count": 17,
      "outputs": [
        {
          "output_type": "execute_result",
          "data": {
            "text/plain": [
              "array([[-0.02057958,  0.02615278,  1.15888392,  1.30953986],\n",
              "       [ 0.51525228, -1.76050552, -1.64318715,  0.06367563],\n",
              "       [-0.18163967,  1.84106192,  0.23714137,  1.2622151 ],\n",
              "       [ 1.55813193, -0.59126803,  0.12238921,  0.52959008],\n",
              "       [-1.2455338 ,  0.4746227 ,  1.13544364,  0.48030279],\n",
              "       [ 0.13238572,  1.95617341, -0.16693784,  0.26562898]])"
            ]
          },
          "metadata": {
            "tags": []
          },
          "execution_count": 17
        }
      ]
    },
    {
      "cell_type": "markdown",
      "metadata": {
        "colab_type": "text",
        "id": "_ZTvIW8iLNgt"
      },
      "source": [
        "[describe()](https://pandas.pydata.org/pandas-docs/stable/generated/pandas.DataFrame.describe.html#pandas.DataFrame.describe)는 데이터의 대략적인 통계적 정보 요약을 보여줍니다."
      ]
    },
    {
      "cell_type": "code",
      "metadata": {
        "colab_type": "code",
        "id": "xZngU-19LNgt",
        "outputId": "37419a0f-11c9-47ee-af31-bce154215fdc",
        "colab": {
          "base_uri": "https://localhost:8080/",
          "height": 297
        }
      },
      "source": [
        "df.describe()"
      ],
      "execution_count": 0,
      "outputs": [
        {
          "output_type": "execute_result",
          "data": {
            "text/html": [
              "<div>\n",
              "<style scoped>\n",
              "    .dataframe tbody tr th:only-of-type {\n",
              "        vertical-align: middle;\n",
              "    }\n",
              "\n",
              "    .dataframe tbody tr th {\n",
              "        vertical-align: top;\n",
              "    }\n",
              "\n",
              "    .dataframe thead th {\n",
              "        text-align: right;\n",
              "    }\n",
              "</style>\n",
              "<table border=\"1\" class=\"dataframe\">\n",
              "  <thead>\n",
              "    <tr style=\"text-align: right;\">\n",
              "      <th></th>\n",
              "      <th>A</th>\n",
              "      <th>B</th>\n",
              "      <th>C</th>\n",
              "      <th>D</th>\n",
              "    </tr>\n",
              "  </thead>\n",
              "  <tbody>\n",
              "    <tr>\n",
              "      <th>count</th>\n",
              "      <td>6.000000</td>\n",
              "      <td>6.000000</td>\n",
              "      <td>6.000000</td>\n",
              "      <td>6.000000</td>\n",
              "    </tr>\n",
              "    <tr>\n",
              "      <th>mean</th>\n",
              "      <td>-0.450022</td>\n",
              "      <td>-0.447900</td>\n",
              "      <td>-0.134979</td>\n",
              "      <td>-0.198379</td>\n",
              "    </tr>\n",
              "    <tr>\n",
              "      <th>std</th>\n",
              "      <td>1.647755</td>\n",
              "      <td>1.127290</td>\n",
              "      <td>0.706005</td>\n",
              "      <td>0.972158</td>\n",
              "    </tr>\n",
              "    <tr>\n",
              "      <th>min</th>\n",
              "      <td>-2.364223</td>\n",
              "      <td>-2.187468</td>\n",
              "      <td>-0.814971</td>\n",
              "      <td>-1.651954</td>\n",
              "    </tr>\n",
              "    <tr>\n",
              "      <th>25%</th>\n",
              "      <td>-1.894488</td>\n",
              "      <td>-1.092422</td>\n",
              "      <td>-0.534636</td>\n",
              "      <td>-0.465299</td>\n",
              "    </tr>\n",
              "    <tr>\n",
              "      <th>50%</th>\n",
              "      <td>-0.356448</td>\n",
              "      <td>-0.203950</td>\n",
              "      <td>-0.453293</td>\n",
              "      <td>-0.351816</td>\n",
              "    </tr>\n",
              "    <tr>\n",
              "      <th>75%</th>\n",
              "      <td>0.958498</td>\n",
              "      <td>0.280214</td>\n",
              "      <td>0.227556</td>\n",
              "      <td>0.223693</td>\n",
              "    </tr>\n",
              "    <tr>\n",
              "      <th>max</th>\n",
              "      <td>1.387345</td>\n",
              "      <td>0.854944</td>\n",
              "      <td>1.018928</td>\n",
              "      <td>1.252907</td>\n",
              "    </tr>\n",
              "  </tbody>\n",
              "</table>\n",
              "</div>"
            ],
            "text/plain": [
              "              A         B         C         D\n",
              "count  6.000000  6.000000  6.000000  6.000000\n",
              "mean  -0.450022 -0.447900 -0.134979 -0.198379\n",
              "std    1.647755  1.127290  0.706005  0.972158\n",
              "min   -2.364223 -2.187468 -0.814971 -1.651954\n",
              "25%   -1.894488 -1.092422 -0.534636 -0.465299\n",
              "50%   -0.356448 -0.203950 -0.453293 -0.351816\n",
              "75%    0.958498  0.280214  0.227556  0.223693\n",
              "max    1.387345  0.854944  1.018928  1.252907"
            ]
          },
          "metadata": {
            "tags": []
          },
          "execution_count": 21
        }
      ]
    },
    {
      "cell_type": "markdown",
      "metadata": {
        "colab_type": "text",
        "id": "nJd6ga6NA6E1"
      },
      "source": [
        "데이터를 전치합니다."
      ]
    },
    {
      "cell_type": "code",
      "metadata": {
        "colab_type": "code",
        "id": "_YcshrJjAsM4",
        "outputId": "e66a6676-f539-4315-a8b8-91b0b67156fd",
        "colab": {
          "base_uri": "https://localhost:8080/",
          "height": 173
        }
      },
      "source": [
        "df.T"
      ],
      "execution_count": 0,
      "outputs": [
        {
          "output_type": "execute_result",
          "data": {
            "text/html": [
              "<div>\n",
              "<style scoped>\n",
              "    .dataframe tbody tr th:only-of-type {\n",
              "        vertical-align: middle;\n",
              "    }\n",
              "\n",
              "    .dataframe tbody tr th {\n",
              "        vertical-align: top;\n",
              "    }\n",
              "\n",
              "    .dataframe thead th {\n",
              "        text-align: right;\n",
              "    }\n",
              "</style>\n",
              "<table border=\"1\" class=\"dataframe\">\n",
              "  <thead>\n",
              "    <tr style=\"text-align: right;\">\n",
              "      <th></th>\n",
              "      <th>2013-01-01 00:00:00</th>\n",
              "      <th>2013-01-02 00:00:00</th>\n",
              "      <th>2013-01-03 00:00:00</th>\n",
              "      <th>2013-01-04 00:00:00</th>\n",
              "      <th>2013-01-05 00:00:00</th>\n",
              "      <th>2013-01-06 00:00:00</th>\n",
              "    </tr>\n",
              "  </thead>\n",
              "  <tbody>\n",
              "    <tr>\n",
              "      <th>A</th>\n",
              "      <td>1.203664</td>\n",
              "      <td>-0.935893</td>\n",
              "      <td>-2.364223</td>\n",
              "      <td>-2.214020</td>\n",
              "      <td>1.387345</td>\n",
              "      <td>0.222998</td>\n",
              "    </tr>\n",
              "    <tr>\n",
              "      <th>B</th>\n",
              "      <td>0.035199</td>\n",
              "      <td>0.854944</td>\n",
              "      <td>-2.187468</td>\n",
              "      <td>0.361885</td>\n",
              "      <td>-0.443100</td>\n",
              "      <td>-1.308863</td>\n",
              "    </tr>\n",
              "    <tr>\n",
              "      <th>C</th>\n",
              "      <td>-0.516512</td>\n",
              "      <td>-0.814971</td>\n",
              "      <td>1.018928</td>\n",
              "      <td>-0.390074</td>\n",
              "      <td>-0.540677</td>\n",
              "      <td>0.433432</td>\n",
              "    </tr>\n",
              "    <tr>\n",
              "      <th>D</th>\n",
              "      <td>-1.651954</td>\n",
              "      <td>-0.333447</td>\n",
              "      <td>1.252907</td>\n",
              "      <td>-0.497004</td>\n",
              "      <td>-0.370186</td>\n",
              "      <td>0.409407</td>\n",
              "    </tr>\n",
              "  </tbody>\n",
              "</table>\n",
              "</div>"
            ],
            "text/plain": [
              "   2013-01-01  2013-01-02  2013-01-03  2013-01-04  2013-01-05  2013-01-06\n",
              "A    1.203664   -0.935893   -2.364223   -2.214020    1.387345    0.222998\n",
              "B    0.035199    0.854944   -2.187468    0.361885   -0.443100   -1.308863\n",
              "C   -0.516512   -0.814971    1.018928   -0.390074   -0.540677    0.433432\n",
              "D   -1.651954   -0.333447    1.252907   -0.497004   -0.370186    0.409407"
            ]
          },
          "metadata": {
            "tags": []
          },
          "execution_count": 22
        }
      ]
    },
    {
      "cell_type": "markdown",
      "metadata": {
        "colab_type": "text",
        "id": "qgDNXgvsA_MB"
      },
      "source": [
        "축 별로 정렬합니다."
      ]
    },
    {
      "cell_type": "code",
      "metadata": {
        "colab_type": "code",
        "id": "Sd5qldouAuWG",
        "outputId": "5c0c7a57-9707-44ed-ab5d-86d5bd1472ad",
        "colab": {
          "base_uri": "https://localhost:8080/",
          "height": 235
        }
      },
      "source": [
        "df.sort_index(axis=1, ascending=False)   #0:행, 1:열"
      ],
      "execution_count": 24,
      "outputs": [
        {
          "output_type": "execute_result",
          "data": {
            "text/html": [
              "<div>\n",
              "<style scoped>\n",
              "    .dataframe tbody tr th:only-of-type {\n",
              "        vertical-align: middle;\n",
              "    }\n",
              "\n",
              "    .dataframe tbody tr th {\n",
              "        vertical-align: top;\n",
              "    }\n",
              "\n",
              "    .dataframe thead th {\n",
              "        text-align: right;\n",
              "    }\n",
              "</style>\n",
              "<table border=\"1\" class=\"dataframe\">\n",
              "  <thead>\n",
              "    <tr style=\"text-align: right;\">\n",
              "      <th></th>\n",
              "      <th>D</th>\n",
              "      <th>C</th>\n",
              "      <th>B</th>\n",
              "      <th>A</th>\n",
              "    </tr>\n",
              "  </thead>\n",
              "  <tbody>\n",
              "    <tr>\n",
              "      <th>2013-01-01</th>\n",
              "      <td>1.309540</td>\n",
              "      <td>1.158884</td>\n",
              "      <td>0.026153</td>\n",
              "      <td>-0.020580</td>\n",
              "    </tr>\n",
              "    <tr>\n",
              "      <th>2013-01-02</th>\n",
              "      <td>0.063676</td>\n",
              "      <td>-1.643187</td>\n",
              "      <td>-1.760506</td>\n",
              "      <td>0.515252</td>\n",
              "    </tr>\n",
              "    <tr>\n",
              "      <th>2013-01-03</th>\n",
              "      <td>1.262215</td>\n",
              "      <td>0.237141</td>\n",
              "      <td>1.841062</td>\n",
              "      <td>-0.181640</td>\n",
              "    </tr>\n",
              "    <tr>\n",
              "      <th>2013-01-04</th>\n",
              "      <td>0.529590</td>\n",
              "      <td>0.122389</td>\n",
              "      <td>-0.591268</td>\n",
              "      <td>1.558132</td>\n",
              "    </tr>\n",
              "    <tr>\n",
              "      <th>2013-01-05</th>\n",
              "      <td>0.480303</td>\n",
              "      <td>1.135444</td>\n",
              "      <td>0.474623</td>\n",
              "      <td>-1.245534</td>\n",
              "    </tr>\n",
              "    <tr>\n",
              "      <th>2013-01-06</th>\n",
              "      <td>0.265629</td>\n",
              "      <td>-0.166938</td>\n",
              "      <td>1.956173</td>\n",
              "      <td>0.132386</td>\n",
              "    </tr>\n",
              "  </tbody>\n",
              "</table>\n",
              "</div>"
            ],
            "text/plain": [
              "                   D         C         B         A\n",
              "2013-01-01  1.309540  1.158884  0.026153 -0.020580\n",
              "2013-01-02  0.063676 -1.643187 -1.760506  0.515252\n",
              "2013-01-03  1.262215  0.237141  1.841062 -0.181640\n",
              "2013-01-04  0.529590  0.122389 -0.591268  1.558132\n",
              "2013-01-05  0.480303  1.135444  0.474623 -1.245534\n",
              "2013-01-06  0.265629 -0.166938  1.956173  0.132386"
            ]
          },
          "metadata": {
            "tags": []
          },
          "execution_count": 24
        }
      ]
    },
    {
      "cell_type": "markdown",
      "metadata": {
        "colab_type": "text",
        "id": "F88TTYh9BGZ5"
      },
      "source": [
        "값 별로 정렬합니다."
      ]
    },
    {
      "cell_type": "code",
      "metadata": {
        "colab_type": "code",
        "id": "9f7MLCxpAv67",
        "outputId": "951789c1-55b7-456f-d269-9ac994efd859",
        "colab": {
          "base_uri": "https://localhost:8080/",
          "height": 235
        }
      },
      "source": [
        "df.sort_values(by='B')"
      ],
      "execution_count": 23,
      "outputs": [
        {
          "output_type": "execute_result",
          "data": {
            "text/html": [
              "<div>\n",
              "<style scoped>\n",
              "    .dataframe tbody tr th:only-of-type {\n",
              "        vertical-align: middle;\n",
              "    }\n",
              "\n",
              "    .dataframe tbody tr th {\n",
              "        vertical-align: top;\n",
              "    }\n",
              "\n",
              "    .dataframe thead th {\n",
              "        text-align: right;\n",
              "    }\n",
              "</style>\n",
              "<table border=\"1\" class=\"dataframe\">\n",
              "  <thead>\n",
              "    <tr style=\"text-align: right;\">\n",
              "      <th></th>\n",
              "      <th>A</th>\n",
              "      <th>B</th>\n",
              "      <th>C</th>\n",
              "      <th>D</th>\n",
              "    </tr>\n",
              "  </thead>\n",
              "  <tbody>\n",
              "    <tr>\n",
              "      <th>2013-01-02</th>\n",
              "      <td>0.515252</td>\n",
              "      <td>-1.760506</td>\n",
              "      <td>-1.643187</td>\n",
              "      <td>0.063676</td>\n",
              "    </tr>\n",
              "    <tr>\n",
              "      <th>2013-01-04</th>\n",
              "      <td>1.558132</td>\n",
              "      <td>-0.591268</td>\n",
              "      <td>0.122389</td>\n",
              "      <td>0.529590</td>\n",
              "    </tr>\n",
              "    <tr>\n",
              "      <th>2013-01-01</th>\n",
              "      <td>-0.020580</td>\n",
              "      <td>0.026153</td>\n",
              "      <td>1.158884</td>\n",
              "      <td>1.309540</td>\n",
              "    </tr>\n",
              "    <tr>\n",
              "      <th>2013-01-05</th>\n",
              "      <td>-1.245534</td>\n",
              "      <td>0.474623</td>\n",
              "      <td>1.135444</td>\n",
              "      <td>0.480303</td>\n",
              "    </tr>\n",
              "    <tr>\n",
              "      <th>2013-01-03</th>\n",
              "      <td>-0.181640</td>\n",
              "      <td>1.841062</td>\n",
              "      <td>0.237141</td>\n",
              "      <td>1.262215</td>\n",
              "    </tr>\n",
              "    <tr>\n",
              "      <th>2013-01-06</th>\n",
              "      <td>0.132386</td>\n",
              "      <td>1.956173</td>\n",
              "      <td>-0.166938</td>\n",
              "      <td>0.265629</td>\n",
              "    </tr>\n",
              "  </tbody>\n",
              "</table>\n",
              "</div>"
            ],
            "text/plain": [
              "                   A         B         C         D\n",
              "2013-01-02  0.515252 -1.760506 -1.643187  0.063676\n",
              "2013-01-04  1.558132 -0.591268  0.122389  0.529590\n",
              "2013-01-01 -0.020580  0.026153  1.158884  1.309540\n",
              "2013-01-05 -1.245534  0.474623  1.135444  0.480303\n",
              "2013-01-03 -0.181640  1.841062  0.237141  1.262215\n",
              "2013-01-06  0.132386  1.956173 -0.166938  0.265629"
            ]
          },
          "metadata": {
            "tags": []
          },
          "execution_count": 23
        }
      ]
    },
    {
      "cell_type": "markdown",
      "metadata": {
        "colab_type": "text",
        "id": "3Gqmfx7oox22"
      },
      "source": [
        "## Selection (선택)"
      ]
    },
    {
      "cell_type": "markdown",
      "metadata": {
        "colab_type": "text",
        "id": "MJaeG531pyqQ"
      },
      "source": [
        "주석(Note) : 선택과 설정을 위한 Python / Numpy의 표준화된 표현들이 직관적이며, 코드 작성을 위한 양방향 작업에 유용하지만 우리는 Pandas에 최적화된 데이터 접근 방법인 .at, .iat, .loc 및 .iloc 을 추천합니다. "
      ]
    },
    {
      "cell_type": "markdown",
      "metadata": {
        "colab_type": "text",
        "id": "zwO_Qdc3kHES"
      },
      "source": [
        "[데이터 인덱싱 및 선택](https://pandas.pydata.org/pandas-docs/stable/indexing.html#indexing) 문서와 [다중 인덱싱 / 심화 인덱싱](https://pandas.pydata.org/pandas-docs/stable/advanced.html#advanced) 문서를 참조하세요."
      ]
    },
    {
      "cell_type": "markdown",
      "metadata": {
        "colab_type": "text",
        "id": "DeXaTXAdp6ne"
      },
      "source": [
        "### Getting (데이터 얻기)"
      ]
    },
    {
      "cell_type": "markdown",
      "metadata": {
        "colab_type": "text",
        "id": "VnTSMq2XkHEU"
      },
      "source": [
        "df.A 와 동일한 Series를 생성하는 단일 열을 선택합니다."
      ]
    },
    {
      "cell_type": "code",
      "metadata": {
        "colab_type": "code",
        "id": "2i6jOXNMox26",
        "outputId": "bf1752fa-c807-42f1-fcc7-704f6f0d1b2a",
        "colab": {
          "base_uri": "https://localhost:8080/",
          "height": 143
        }
      },
      "source": [
        "df['A']"
      ],
      "execution_count": 27,
      "outputs": [
        {
          "output_type": "execute_result",
          "data": {
            "text/plain": [
              "2013-01-01   -0.020580\n",
              "2013-01-02    0.515252\n",
              "2013-01-03   -0.181640\n",
              "2013-01-04    1.558132\n",
              "2013-01-05   -1.245534\n",
              "2013-01-06    0.132386\n",
              "Freq: D, Name: A, dtype: float64"
            ]
          },
          "metadata": {
            "tags": []
          },
          "execution_count": 27
        }
      ]
    },
    {
      "cell_type": "markdown",
      "metadata": {
        "colab_type": "text",
        "id": "HVumS0kMr2pH"
      },
      "source": [
        "행을 분할하는 []를 통해 선택합니다."
      ]
    },
    {
      "cell_type": "code",
      "metadata": {
        "colab_type": "code",
        "id": "CN4_iAoCr-hd",
        "outputId": "9aea6a8f-763f-4b27-8a55-4b2a05d7c4c1",
        "colab": {
          "base_uri": "https://localhost:8080/",
          "height": 142
        }
      },
      "source": [
        "df[0:3]"
      ],
      "execution_count": 26,
      "outputs": [
        {
          "output_type": "execute_result",
          "data": {
            "text/html": [
              "<div>\n",
              "<style scoped>\n",
              "    .dataframe tbody tr th:only-of-type {\n",
              "        vertical-align: middle;\n",
              "    }\n",
              "\n",
              "    .dataframe tbody tr th {\n",
              "        vertical-align: top;\n",
              "    }\n",
              "\n",
              "    .dataframe thead th {\n",
              "        text-align: right;\n",
              "    }\n",
              "</style>\n",
              "<table border=\"1\" class=\"dataframe\">\n",
              "  <thead>\n",
              "    <tr style=\"text-align: right;\">\n",
              "      <th></th>\n",
              "      <th>A</th>\n",
              "      <th>B</th>\n",
              "      <th>C</th>\n",
              "      <th>D</th>\n",
              "    </tr>\n",
              "  </thead>\n",
              "  <tbody>\n",
              "    <tr>\n",
              "      <th>2013-01-01</th>\n",
              "      <td>-0.020580</td>\n",
              "      <td>0.026153</td>\n",
              "      <td>1.158884</td>\n",
              "      <td>1.309540</td>\n",
              "    </tr>\n",
              "    <tr>\n",
              "      <th>2013-01-02</th>\n",
              "      <td>0.515252</td>\n",
              "      <td>-1.760506</td>\n",
              "      <td>-1.643187</td>\n",
              "      <td>0.063676</td>\n",
              "    </tr>\n",
              "    <tr>\n",
              "      <th>2013-01-03</th>\n",
              "      <td>-0.181640</td>\n",
              "      <td>1.841062</td>\n",
              "      <td>0.237141</td>\n",
              "      <td>1.262215</td>\n",
              "    </tr>\n",
              "  </tbody>\n",
              "</table>\n",
              "</div>"
            ],
            "text/plain": [
              "                   A         B         C         D\n",
              "2013-01-01 -0.020580  0.026153  1.158884  1.309540\n",
              "2013-01-02  0.515252 -1.760506 -1.643187  0.063676\n",
              "2013-01-03 -0.181640  1.841062  0.237141  1.262215"
            ]
          },
          "metadata": {
            "tags": []
          },
          "execution_count": 26
        }
      ]
    },
    {
      "cell_type": "code",
      "metadata": {
        "colab_type": "code",
        "id": "rfj3fFBSsQyB",
        "outputId": "50bc8c98-2504-415c-b61c-a1b2124a5e76",
        "colab": {
          "base_uri": "https://localhost:8080/",
          "height": 142
        }
      },
      "source": [
        "df['20130102':'20130104']"
      ],
      "execution_count": 28,
      "outputs": [
        {
          "output_type": "execute_result",
          "data": {
            "text/html": [
              "<div>\n",
              "<style scoped>\n",
              "    .dataframe tbody tr th:only-of-type {\n",
              "        vertical-align: middle;\n",
              "    }\n",
              "\n",
              "    .dataframe tbody tr th {\n",
              "        vertical-align: top;\n",
              "    }\n",
              "\n",
              "    .dataframe thead th {\n",
              "        text-align: right;\n",
              "    }\n",
              "</style>\n",
              "<table border=\"1\" class=\"dataframe\">\n",
              "  <thead>\n",
              "    <tr style=\"text-align: right;\">\n",
              "      <th></th>\n",
              "      <th>A</th>\n",
              "      <th>B</th>\n",
              "      <th>C</th>\n",
              "      <th>D</th>\n",
              "    </tr>\n",
              "  </thead>\n",
              "  <tbody>\n",
              "    <tr>\n",
              "      <th>2013-01-02</th>\n",
              "      <td>0.515252</td>\n",
              "      <td>-1.760506</td>\n",
              "      <td>-1.643187</td>\n",
              "      <td>0.063676</td>\n",
              "    </tr>\n",
              "    <tr>\n",
              "      <th>2013-01-03</th>\n",
              "      <td>-0.181640</td>\n",
              "      <td>1.841062</td>\n",
              "      <td>0.237141</td>\n",
              "      <td>1.262215</td>\n",
              "    </tr>\n",
              "    <tr>\n",
              "      <th>2013-01-04</th>\n",
              "      <td>1.558132</td>\n",
              "      <td>-0.591268</td>\n",
              "      <td>0.122389</td>\n",
              "      <td>0.529590</td>\n",
              "    </tr>\n",
              "  </tbody>\n",
              "</table>\n",
              "</div>"
            ],
            "text/plain": [
              "                   A         B         C         D\n",
              "2013-01-02  0.515252 -1.760506 -1.643187  0.063676\n",
              "2013-01-03 -0.181640  1.841062  0.237141  1.262215\n",
              "2013-01-04  1.558132 -0.591268  0.122389  0.529590"
            ]
          },
          "metadata": {
            "tags": []
          },
          "execution_count": 28
        }
      ]
    },
    {
      "cell_type": "markdown",
      "metadata": {
        "colab_type": "text",
        "id": "izNpv79bsGV7"
      },
      "source": [
        "### Selection by Label (Label 을 통한 선택)"
      ]
    },
    {
      "cell_type": "markdown",
      "metadata": {
        "colab_type": "text",
        "id": "MevvK6S4kHEq"
      },
      "source": [
        "[Label을 통한 선택](https://pandas.pydata.org/pandas-docs/stable/indexing.html#indexing-label)에서 더 많은 내용을 확인하세요.\n",
        "\n",
        "라벨을 사용하여 횡단면을 얻습니다."
      ]
    },
    {
      "cell_type": "code",
      "metadata": {
        "colab_type": "code",
        "id": "SiL6JlaRs7DM",
        "outputId": "06534298-670a-48fc-e27f-32da8339ae5f",
        "colab": {
          "base_uri": "https://localhost:8080/",
          "height": 107
        }
      },
      "source": [
        "df.loc[dates[0]]"
      ],
      "execution_count": 29,
      "outputs": [
        {
          "output_type": "execute_result",
          "data": {
            "text/plain": [
              "A   -0.020580\n",
              "B    0.026153\n",
              "C    1.158884\n",
              "D    1.309540\n",
              "Name: 2013-01-01 00:00:00, dtype: float64"
            ]
          },
          "metadata": {
            "tags": []
          },
          "execution_count": 29
        }
      ]
    },
    {
      "cell_type": "markdown",
      "metadata": {
        "colab_type": "text",
        "id": "wqEiM9ZKsVDW"
      },
      "source": [
        "라벨을 사용하여 여러 축(의 데이터)을 얻습니다."
      ]
    },
    {
      "cell_type": "code",
      "metadata": {
        "colab_type": "code",
        "id": "ujryWjpRtV9f",
        "outputId": "dbc938c3-29fb-40c1-95f4-ed3f228f5bae",
        "colab": {
          "base_uri": "https://localhost:8080/",
          "height": 235
        }
      },
      "source": [
        "df.loc[:,['A','B']]"
      ],
      "execution_count": 30,
      "outputs": [
        {
          "output_type": "execute_result",
          "data": {
            "text/html": [
              "<div>\n",
              "<style scoped>\n",
              "    .dataframe tbody tr th:only-of-type {\n",
              "        vertical-align: middle;\n",
              "    }\n",
              "\n",
              "    .dataframe tbody tr th {\n",
              "        vertical-align: top;\n",
              "    }\n",
              "\n",
              "    .dataframe thead th {\n",
              "        text-align: right;\n",
              "    }\n",
              "</style>\n",
              "<table border=\"1\" class=\"dataframe\">\n",
              "  <thead>\n",
              "    <tr style=\"text-align: right;\">\n",
              "      <th></th>\n",
              "      <th>A</th>\n",
              "      <th>B</th>\n",
              "    </tr>\n",
              "  </thead>\n",
              "  <tbody>\n",
              "    <tr>\n",
              "      <th>2013-01-01</th>\n",
              "      <td>-0.020580</td>\n",
              "      <td>0.026153</td>\n",
              "    </tr>\n",
              "    <tr>\n",
              "      <th>2013-01-02</th>\n",
              "      <td>0.515252</td>\n",
              "      <td>-1.760506</td>\n",
              "    </tr>\n",
              "    <tr>\n",
              "      <th>2013-01-03</th>\n",
              "      <td>-0.181640</td>\n",
              "      <td>1.841062</td>\n",
              "    </tr>\n",
              "    <tr>\n",
              "      <th>2013-01-04</th>\n",
              "      <td>1.558132</td>\n",
              "      <td>-0.591268</td>\n",
              "    </tr>\n",
              "    <tr>\n",
              "      <th>2013-01-05</th>\n",
              "      <td>-1.245534</td>\n",
              "      <td>0.474623</td>\n",
              "    </tr>\n",
              "    <tr>\n",
              "      <th>2013-01-06</th>\n",
              "      <td>0.132386</td>\n",
              "      <td>1.956173</td>\n",
              "    </tr>\n",
              "  </tbody>\n",
              "</table>\n",
              "</div>"
            ],
            "text/plain": [
              "                   A         B\n",
              "2013-01-01 -0.020580  0.026153\n",
              "2013-01-02  0.515252 -1.760506\n",
              "2013-01-03 -0.181640  1.841062\n",
              "2013-01-04  1.558132 -0.591268\n",
              "2013-01-05 -1.245534  0.474623\n",
              "2013-01-06  0.132386  1.956173"
            ]
          },
          "metadata": {
            "tags": []
          },
          "execution_count": 30
        }
      ]
    },
    {
      "cell_type": "markdown",
      "metadata": {
        "colab_type": "text",
        "id": "SuyHx40itars"
      },
      "source": [
        "양쪽 종단점을 포함한 라벨 슬라이싱을 봅니다."
      ]
    },
    {
      "cell_type": "code",
      "metadata": {
        "colab_type": "code",
        "id": "Dxq_ixT7tgMB",
        "outputId": "f8df7dfe-aaa5-40d6-b527-7b7b5a473b26",
        "colab": {
          "base_uri": "https://localhost:8080/",
          "height": 142
        }
      },
      "source": [
        "df.loc['20130102':'20130104', ['A','B']]"
      ],
      "execution_count": 31,
      "outputs": [
        {
          "output_type": "execute_result",
          "data": {
            "text/html": [
              "<div>\n",
              "<style scoped>\n",
              "    .dataframe tbody tr th:only-of-type {\n",
              "        vertical-align: middle;\n",
              "    }\n",
              "\n",
              "    .dataframe tbody tr th {\n",
              "        vertical-align: top;\n",
              "    }\n",
              "\n",
              "    .dataframe thead th {\n",
              "        text-align: right;\n",
              "    }\n",
              "</style>\n",
              "<table border=\"1\" class=\"dataframe\">\n",
              "  <thead>\n",
              "    <tr style=\"text-align: right;\">\n",
              "      <th></th>\n",
              "      <th>A</th>\n",
              "      <th>B</th>\n",
              "    </tr>\n",
              "  </thead>\n",
              "  <tbody>\n",
              "    <tr>\n",
              "      <th>2013-01-02</th>\n",
              "      <td>0.515252</td>\n",
              "      <td>-1.760506</td>\n",
              "    </tr>\n",
              "    <tr>\n",
              "      <th>2013-01-03</th>\n",
              "      <td>-0.181640</td>\n",
              "      <td>1.841062</td>\n",
              "    </tr>\n",
              "    <tr>\n",
              "      <th>2013-01-04</th>\n",
              "      <td>1.558132</td>\n",
              "      <td>-0.591268</td>\n",
              "    </tr>\n",
              "  </tbody>\n",
              "</table>\n",
              "</div>"
            ],
            "text/plain": [
              "                   A         B\n",
              "2013-01-02  0.515252 -1.760506\n",
              "2013-01-03 -0.181640  1.841062\n",
              "2013-01-04  1.558132 -0.591268"
            ]
          },
          "metadata": {
            "tags": []
          },
          "execution_count": 31
        }
      ]
    },
    {
      "cell_type": "markdown",
      "metadata": {
        "colab_type": "text",
        "id": "NByKKdFXtsnP"
      },
      "source": [
        "반환되는 객체의 차원를 줄입니다."
      ]
    },
    {
      "cell_type": "code",
      "metadata": {
        "colab_type": "code",
        "id": "ih2FqQaStyEv",
        "outputId": "c04e346d-5fc1-4373-d04a-ae77bb4b1c62",
        "colab": {
          "base_uri": "https://localhost:8080/",
          "height": 71
        }
      },
      "source": [
        "df.loc['20130102',['A','B']]"
      ],
      "execution_count": 32,
      "outputs": [
        {
          "output_type": "execute_result",
          "data": {
            "text/plain": [
              "A    0.515252\n",
              "B   -1.760506\n",
              "Name: 2013-01-02 00:00:00, dtype: float64"
            ]
          },
          "metadata": {
            "tags": []
          },
          "execution_count": 32
        }
      ]
    },
    {
      "cell_type": "markdown",
      "metadata": {
        "colab_type": "text",
        "id": "Mgdkhb3at1wM"
      },
      "source": [
        "스칼라 값을 얻습니다."
      ]
    },
    {
      "cell_type": "code",
      "metadata": {
        "colab_type": "code",
        "id": "umW1SZZQt5Q0",
        "outputId": "32763a1e-76cd-4219-98c0-4e93c90d36d0",
        "colab": {
          "base_uri": "https://localhost:8080/",
          "height": 35
        }
      },
      "source": [
        "df.loc[dates[0],'A']"
      ],
      "execution_count": 33,
      "outputs": [
        {
          "output_type": "execute_result",
          "data": {
            "text/plain": [
              "-0.020579581918848316"
            ]
          },
          "metadata": {
            "tags": []
          },
          "execution_count": 33
        }
      ]
    },
    {
      "cell_type": "markdown",
      "metadata": {
        "colab_type": "text",
        "id": "8DN1MLxHt9Xb"
      },
      "source": [
        "스칼라 값을 더 빠르게 구하는 방법입니다. (앞선 메소드와 동일합니다.)"
      ]
    },
    {
      "cell_type": "code",
      "metadata": {
        "colab_type": "code",
        "id": "FxxN4hauuDLB",
        "outputId": "08bc0b13-1375-4c32-9955-1b1fb494140e",
        "colab": {
          "base_uri": "https://localhost:8080/",
          "height": 35
        }
      },
      "source": [
        "df.at[dates[0],'A']"
      ],
      "execution_count": 34,
      "outputs": [
        {
          "output_type": "execute_result",
          "data": {
            "text/plain": [
              "-0.020579581918848316"
            ]
          },
          "metadata": {
            "tags": []
          },
          "execution_count": 34
        }
      ]
    },
    {
      "cell_type": "markdown",
      "metadata": {
        "colab_type": "text",
        "id": "v7BFmgcRLNif"
      },
      "source": [
        "### Selection by Position (위치로 선택하기)"
      ]
    },
    {
      "cell_type": "markdown",
      "metadata": {
        "colab_type": "text",
        "id": "HdUlCKcMLNig"
      },
      "source": [
        "자세한 내용은 [위치로 선택하기](https://pandas.pydata.org/pandas-docs/stable/indexing.html#indexing-integer)를 참고해주세요.\n",
        "\n",
        "넘겨받은 정수의 위치를 기준으로 선택합니다."
      ]
    },
    {
      "cell_type": "code",
      "metadata": {
        "colab_type": "code",
        "id": "CI_RX7HL2dbm",
        "outputId": "bd01bb17-8100-4f33-b402-afb6e43cb026",
        "colab": {
          "base_uri": "https://localhost:8080/",
          "height": 107
        }
      },
      "source": [
        "df.iloc[3]"
      ],
      "execution_count": 35,
      "outputs": [
        {
          "output_type": "execute_result",
          "data": {
            "text/plain": [
              "A    1.558132\n",
              "B   -0.591268\n",
              "C    0.122389\n",
              "D    0.529590\n",
              "Name: 2013-01-04 00:00:00, dtype: float64"
            ]
          },
          "metadata": {
            "tags": []
          },
          "execution_count": 35
        }
      ]
    },
    {
      "cell_type": "markdown",
      "metadata": {
        "colab_type": "text",
        "id": "oARGkVI-23ZC"
      },
      "source": [
        "정수(로 표기된) 슬라이스들을 통해, numpy/python과 유사하게 작동합니다."
      ]
    },
    {
      "cell_type": "code",
      "metadata": {
        "colab_type": "code",
        "id": "ZVV94o9-24yW",
        "outputId": "379d8934-8839-4ac0-c40a-cb1ef6e70087",
        "colab": {
          "base_uri": "https://localhost:8080/",
          "height": 111
        }
      },
      "source": [
        "df.iloc[3:5,0:2]"
      ],
      "execution_count": 36,
      "outputs": [
        {
          "output_type": "execute_result",
          "data": {
            "text/html": [
              "<div>\n",
              "<style scoped>\n",
              "    .dataframe tbody tr th:only-of-type {\n",
              "        vertical-align: middle;\n",
              "    }\n",
              "\n",
              "    .dataframe tbody tr th {\n",
              "        vertical-align: top;\n",
              "    }\n",
              "\n",
              "    .dataframe thead th {\n",
              "        text-align: right;\n",
              "    }\n",
              "</style>\n",
              "<table border=\"1\" class=\"dataframe\">\n",
              "  <thead>\n",
              "    <tr style=\"text-align: right;\">\n",
              "      <th></th>\n",
              "      <th>A</th>\n",
              "      <th>B</th>\n",
              "    </tr>\n",
              "  </thead>\n",
              "  <tbody>\n",
              "    <tr>\n",
              "      <th>2013-01-04</th>\n",
              "      <td>1.558132</td>\n",
              "      <td>-0.591268</td>\n",
              "    </tr>\n",
              "    <tr>\n",
              "      <th>2013-01-05</th>\n",
              "      <td>-1.245534</td>\n",
              "      <td>0.474623</td>\n",
              "    </tr>\n",
              "  </tbody>\n",
              "</table>\n",
              "</div>"
            ],
            "text/plain": [
              "                   A         B\n",
              "2013-01-04  1.558132 -0.591268\n",
              "2013-01-05 -1.245534  0.474623"
            ]
          },
          "metadata": {
            "tags": []
          },
          "execution_count": 36
        }
      ]
    },
    {
      "cell_type": "markdown",
      "metadata": {
        "colab_type": "text",
        "id": "Y2gjiEGT27yA"
      },
      "source": [
        "정수(로 표기된) 위치값의 리스트들을 통해, numpy/python의 스타일과 유사해집니다."
      ]
    },
    {
      "cell_type": "code",
      "metadata": {
        "colab_type": "code",
        "id": "u3AnE1li2-sH",
        "outputId": "cc6a3e5b-2d9f-4ad4-b984-37020613020c",
        "colab": {
          "base_uri": "https://localhost:8080/",
          "height": 142
        }
      },
      "source": [
        "df.iloc[[1,2,4],[0,2]]"
      ],
      "execution_count": 37,
      "outputs": [
        {
          "output_type": "execute_result",
          "data": {
            "text/html": [
              "<div>\n",
              "<style scoped>\n",
              "    .dataframe tbody tr th:only-of-type {\n",
              "        vertical-align: middle;\n",
              "    }\n",
              "\n",
              "    .dataframe tbody tr th {\n",
              "        vertical-align: top;\n",
              "    }\n",
              "\n",
              "    .dataframe thead th {\n",
              "        text-align: right;\n",
              "    }\n",
              "</style>\n",
              "<table border=\"1\" class=\"dataframe\">\n",
              "  <thead>\n",
              "    <tr style=\"text-align: right;\">\n",
              "      <th></th>\n",
              "      <th>A</th>\n",
              "      <th>C</th>\n",
              "    </tr>\n",
              "  </thead>\n",
              "  <tbody>\n",
              "    <tr>\n",
              "      <th>2013-01-02</th>\n",
              "      <td>0.515252</td>\n",
              "      <td>-1.643187</td>\n",
              "    </tr>\n",
              "    <tr>\n",
              "      <th>2013-01-03</th>\n",
              "      <td>-0.181640</td>\n",
              "      <td>0.237141</td>\n",
              "    </tr>\n",
              "    <tr>\n",
              "      <th>2013-01-05</th>\n",
              "      <td>-1.245534</td>\n",
              "      <td>1.135444</td>\n",
              "    </tr>\n",
              "  </tbody>\n",
              "</table>\n",
              "</div>"
            ],
            "text/plain": [
              "                   A         C\n",
              "2013-01-02  0.515252 -1.643187\n",
              "2013-01-03 -0.181640  0.237141\n",
              "2013-01-05 -1.245534  1.135444"
            ]
          },
          "metadata": {
            "tags": []
          },
          "execution_count": 37
        }
      ]
    },
    {
      "cell_type": "markdown",
      "metadata": {
        "colab_type": "text",
        "id": "h5yyrWSQ3AmB"
      },
      "source": [
        "명시적으로 행을 나누고자 하는 경우입니다."
      ]
    },
    {
      "cell_type": "code",
      "metadata": {
        "colab_type": "code",
        "id": "aeiKSATs3CwL",
        "outputId": "0bc528eb-b624-4bf6-84d8-20b31b72eb61",
        "colab": {
          "base_uri": "https://localhost:8080/",
          "height": 111
        }
      },
      "source": [
        "df.iloc[1:3,:]"
      ],
      "execution_count": 38,
      "outputs": [
        {
          "output_type": "execute_result",
          "data": {
            "text/html": [
              "<div>\n",
              "<style scoped>\n",
              "    .dataframe tbody tr th:only-of-type {\n",
              "        vertical-align: middle;\n",
              "    }\n",
              "\n",
              "    .dataframe tbody tr th {\n",
              "        vertical-align: top;\n",
              "    }\n",
              "\n",
              "    .dataframe thead th {\n",
              "        text-align: right;\n",
              "    }\n",
              "</style>\n",
              "<table border=\"1\" class=\"dataframe\">\n",
              "  <thead>\n",
              "    <tr style=\"text-align: right;\">\n",
              "      <th></th>\n",
              "      <th>A</th>\n",
              "      <th>B</th>\n",
              "      <th>C</th>\n",
              "      <th>D</th>\n",
              "    </tr>\n",
              "  </thead>\n",
              "  <tbody>\n",
              "    <tr>\n",
              "      <th>2013-01-02</th>\n",
              "      <td>0.515252</td>\n",
              "      <td>-1.760506</td>\n",
              "      <td>-1.643187</td>\n",
              "      <td>0.063676</td>\n",
              "    </tr>\n",
              "    <tr>\n",
              "      <th>2013-01-03</th>\n",
              "      <td>-0.181640</td>\n",
              "      <td>1.841062</td>\n",
              "      <td>0.237141</td>\n",
              "      <td>1.262215</td>\n",
              "    </tr>\n",
              "  </tbody>\n",
              "</table>\n",
              "</div>"
            ],
            "text/plain": [
              "                   A         B         C         D\n",
              "2013-01-02  0.515252 -1.760506 -1.643187  0.063676\n",
              "2013-01-03 -0.181640  1.841062  0.237141  1.262215"
            ]
          },
          "metadata": {
            "tags": []
          },
          "execution_count": 38
        }
      ]
    },
    {
      "cell_type": "markdown",
      "metadata": {
        "colab_type": "text",
        "id": "DLvxy1xF3GhR"
      },
      "source": [
        "명시적으로 열을 나누고자 하는 경우입니다."
      ]
    },
    {
      "cell_type": "code",
      "metadata": {
        "colab_type": "code",
        "id": "wAS-Ezax3IZC",
        "outputId": "6cca97e3-6eec-48b8-e64f-c1f2b8aaabcd",
        "colab": {
          "base_uri": "https://localhost:8080/",
          "height": 235
        }
      },
      "source": [
        "df.iloc[:,1:3]"
      ],
      "execution_count": 39,
      "outputs": [
        {
          "output_type": "execute_result",
          "data": {
            "text/html": [
              "<div>\n",
              "<style scoped>\n",
              "    .dataframe tbody tr th:only-of-type {\n",
              "        vertical-align: middle;\n",
              "    }\n",
              "\n",
              "    .dataframe tbody tr th {\n",
              "        vertical-align: top;\n",
              "    }\n",
              "\n",
              "    .dataframe thead th {\n",
              "        text-align: right;\n",
              "    }\n",
              "</style>\n",
              "<table border=\"1\" class=\"dataframe\">\n",
              "  <thead>\n",
              "    <tr style=\"text-align: right;\">\n",
              "      <th></th>\n",
              "      <th>B</th>\n",
              "      <th>C</th>\n",
              "    </tr>\n",
              "  </thead>\n",
              "  <tbody>\n",
              "    <tr>\n",
              "      <th>2013-01-01</th>\n",
              "      <td>0.026153</td>\n",
              "      <td>1.158884</td>\n",
              "    </tr>\n",
              "    <tr>\n",
              "      <th>2013-01-02</th>\n",
              "      <td>-1.760506</td>\n",
              "      <td>-1.643187</td>\n",
              "    </tr>\n",
              "    <tr>\n",
              "      <th>2013-01-03</th>\n",
              "      <td>1.841062</td>\n",
              "      <td>0.237141</td>\n",
              "    </tr>\n",
              "    <tr>\n",
              "      <th>2013-01-04</th>\n",
              "      <td>-0.591268</td>\n",
              "      <td>0.122389</td>\n",
              "    </tr>\n",
              "    <tr>\n",
              "      <th>2013-01-05</th>\n",
              "      <td>0.474623</td>\n",
              "      <td>1.135444</td>\n",
              "    </tr>\n",
              "    <tr>\n",
              "      <th>2013-01-06</th>\n",
              "      <td>1.956173</td>\n",
              "      <td>-0.166938</td>\n",
              "    </tr>\n",
              "  </tbody>\n",
              "</table>\n",
              "</div>"
            ],
            "text/plain": [
              "                   B         C\n",
              "2013-01-01  0.026153  1.158884\n",
              "2013-01-02 -1.760506 -1.643187\n",
              "2013-01-03  1.841062  0.237141\n",
              "2013-01-04 -0.591268  0.122389\n",
              "2013-01-05  0.474623  1.135444\n",
              "2013-01-06  1.956173 -0.166938"
            ]
          },
          "metadata": {
            "tags": []
          },
          "execution_count": 39
        }
      ]
    },
    {
      "cell_type": "markdown",
      "metadata": {
        "colab_type": "text",
        "id": "QH-roZC_3Jvj"
      },
      "source": [
        "명시적으로 (특정한) 값을 얻고자 하는 경우입니다."
      ]
    },
    {
      "cell_type": "code",
      "metadata": {
        "colab_type": "code",
        "id": "YM9Q-Ami3LeF",
        "outputId": "b37ab4f5-ff5b-4024-aa63-bf6a4283c9d7",
        "colab": {
          "base_uri": "https://localhost:8080/",
          "height": 35
        }
      },
      "source": [
        "df.iloc[1,1]"
      ],
      "execution_count": 40,
      "outputs": [
        {
          "output_type": "execute_result",
          "data": {
            "text/plain": [
              "-1.7605055204813589"
            ]
          },
          "metadata": {
            "tags": []
          },
          "execution_count": 40
        }
      ]
    },
    {
      "cell_type": "markdown",
      "metadata": {
        "colab_type": "text",
        "id": "R_2xOsp13O13"
      },
      "source": [
        "스칼라 값을 빠르게 얻는 방법입니다. (위의 방식과 동일합니다.)"
      ]
    },
    {
      "cell_type": "code",
      "metadata": {
        "colab_type": "code",
        "id": "asy0eDSB3PO6",
        "outputId": "0a63acc0-f27b-48be-eafe-6a361b964973",
        "colab": {
          "base_uri": "https://localhost:8080/",
          "height": 35
        }
      },
      "source": [
        "df.iat[1,1]"
      ],
      "execution_count": 41,
      "outputs": [
        {
          "output_type": "execute_result",
          "data": {
            "text/plain": [
              "-1.7605055204813589"
            ]
          },
          "metadata": {
            "tags": []
          },
          "execution_count": 41
        }
      ]
    },
    {
      "cell_type": "markdown",
      "metadata": {
        "colab_type": "text",
        "id": "FTKvfT0oDv3x"
      },
      "source": [
        "### Boolean Indexing"
      ]
    },
    {
      "cell_type": "markdown",
      "metadata": {
        "colab_type": "text",
        "id": "J0pm13XREbg6"
      },
      "source": [
        "데이터를 선택하기 위해 단일 열의 값을 사용합니다."
      ]
    },
    {
      "cell_type": "code",
      "metadata": {
        "colab_type": "code",
        "id": "gFiUEOadDlBY",
        "outputId": "c4e20e4c-f50e-4978-db93-a5c8d07df620",
        "colab": {
          "base_uri": "https://localhost:8080/",
          "height": 142
        }
      },
      "source": [
        "df[df.A > 0]"
      ],
      "execution_count": 42,
      "outputs": [
        {
          "output_type": "execute_result",
          "data": {
            "text/html": [
              "<div>\n",
              "<style scoped>\n",
              "    .dataframe tbody tr th:only-of-type {\n",
              "        vertical-align: middle;\n",
              "    }\n",
              "\n",
              "    .dataframe tbody tr th {\n",
              "        vertical-align: top;\n",
              "    }\n",
              "\n",
              "    .dataframe thead th {\n",
              "        text-align: right;\n",
              "    }\n",
              "</style>\n",
              "<table border=\"1\" class=\"dataframe\">\n",
              "  <thead>\n",
              "    <tr style=\"text-align: right;\">\n",
              "      <th></th>\n",
              "      <th>A</th>\n",
              "      <th>B</th>\n",
              "      <th>C</th>\n",
              "      <th>D</th>\n",
              "    </tr>\n",
              "  </thead>\n",
              "  <tbody>\n",
              "    <tr>\n",
              "      <th>2013-01-02</th>\n",
              "      <td>0.515252</td>\n",
              "      <td>-1.760506</td>\n",
              "      <td>-1.643187</td>\n",
              "      <td>0.063676</td>\n",
              "    </tr>\n",
              "    <tr>\n",
              "      <th>2013-01-04</th>\n",
              "      <td>1.558132</td>\n",
              "      <td>-0.591268</td>\n",
              "      <td>0.122389</td>\n",
              "      <td>0.529590</td>\n",
              "    </tr>\n",
              "    <tr>\n",
              "      <th>2013-01-06</th>\n",
              "      <td>0.132386</td>\n",
              "      <td>1.956173</td>\n",
              "      <td>-0.166938</td>\n",
              "      <td>0.265629</td>\n",
              "    </tr>\n",
              "  </tbody>\n",
              "</table>\n",
              "</div>"
            ],
            "text/plain": [
              "                   A         B         C         D\n",
              "2013-01-02  0.515252 -1.760506 -1.643187  0.063676\n",
              "2013-01-04  1.558132 -0.591268  0.122389  0.529590\n",
              "2013-01-06  0.132386  1.956173 -0.166938  0.265629"
            ]
          },
          "metadata": {
            "tags": []
          },
          "execution_count": 42
        }
      ]
    },
    {
      "cell_type": "markdown",
      "metadata": {
        "colab_type": "text",
        "id": "3sGsFS1sEqT6"
      },
      "source": [
        "Boolean 조건을 충족하는 데이터프레임에서 값을 선택합니다."
      ]
    },
    {
      "cell_type": "code",
      "metadata": {
        "colab_type": "code",
        "id": "tZhjIBa2Eqou",
        "outputId": "915b47e5-c966-4679-ea63-8bd90a7793a7",
        "colab": {
          "base_uri": "https://localhost:8080/",
          "height": 235
        }
      },
      "source": [
        "df[df > 0]"
      ],
      "execution_count": 43,
      "outputs": [
        {
          "output_type": "execute_result",
          "data": {
            "text/html": [
              "<div>\n",
              "<style scoped>\n",
              "    .dataframe tbody tr th:only-of-type {\n",
              "        vertical-align: middle;\n",
              "    }\n",
              "\n",
              "    .dataframe tbody tr th {\n",
              "        vertical-align: top;\n",
              "    }\n",
              "\n",
              "    .dataframe thead th {\n",
              "        text-align: right;\n",
              "    }\n",
              "</style>\n",
              "<table border=\"1\" class=\"dataframe\">\n",
              "  <thead>\n",
              "    <tr style=\"text-align: right;\">\n",
              "      <th></th>\n",
              "      <th>A</th>\n",
              "      <th>B</th>\n",
              "      <th>C</th>\n",
              "      <th>D</th>\n",
              "    </tr>\n",
              "  </thead>\n",
              "  <tbody>\n",
              "    <tr>\n",
              "      <th>2013-01-01</th>\n",
              "      <td>NaN</td>\n",
              "      <td>0.026153</td>\n",
              "      <td>1.158884</td>\n",
              "      <td>1.309540</td>\n",
              "    </tr>\n",
              "    <tr>\n",
              "      <th>2013-01-02</th>\n",
              "      <td>0.515252</td>\n",
              "      <td>NaN</td>\n",
              "      <td>NaN</td>\n",
              "      <td>0.063676</td>\n",
              "    </tr>\n",
              "    <tr>\n",
              "      <th>2013-01-03</th>\n",
              "      <td>NaN</td>\n",
              "      <td>1.841062</td>\n",
              "      <td>0.237141</td>\n",
              "      <td>1.262215</td>\n",
              "    </tr>\n",
              "    <tr>\n",
              "      <th>2013-01-04</th>\n",
              "      <td>1.558132</td>\n",
              "      <td>NaN</td>\n",
              "      <td>0.122389</td>\n",
              "      <td>0.529590</td>\n",
              "    </tr>\n",
              "    <tr>\n",
              "      <th>2013-01-05</th>\n",
              "      <td>NaN</td>\n",
              "      <td>0.474623</td>\n",
              "      <td>1.135444</td>\n",
              "      <td>0.480303</td>\n",
              "    </tr>\n",
              "    <tr>\n",
              "      <th>2013-01-06</th>\n",
              "      <td>0.132386</td>\n",
              "      <td>1.956173</td>\n",
              "      <td>NaN</td>\n",
              "      <td>0.265629</td>\n",
              "    </tr>\n",
              "  </tbody>\n",
              "</table>\n",
              "</div>"
            ],
            "text/plain": [
              "                   A         B         C         D\n",
              "2013-01-01       NaN  0.026153  1.158884  1.309540\n",
              "2013-01-02  0.515252       NaN       NaN  0.063676\n",
              "2013-01-03       NaN  1.841062  0.237141  1.262215\n",
              "2013-01-04  1.558132       NaN  0.122389  0.529590\n",
              "2013-01-05       NaN  0.474623  1.135444  0.480303\n",
              "2013-01-06  0.132386  1.956173       NaN  0.265629"
            ]
          },
          "metadata": {
            "tags": []
          },
          "execution_count": 43
        }
      ]
    },
    {
      "cell_type": "markdown",
      "metadata": {
        "colab_type": "text",
        "id": "vzBroT61Eu78"
      },
      "source": [
        "필터링을 위한 메소드 [isin()](https://pandas.pydata.org/pandas-docs/stable/generated/pandas.Series.isin.html#pandas.Series.isin)을 사용합니다."
      ]
    },
    {
      "cell_type": "code",
      "metadata": {
        "colab_type": "code",
        "id": "aMskyf_-E4MI",
        "colab": {}
      },
      "source": [
        "df2 = df.copy()"
      ],
      "execution_count": 0,
      "outputs": []
    },
    {
      "cell_type": "code",
      "metadata": {
        "colab_type": "code",
        "id": "513jhj4ZE4eW",
        "colab": {}
      },
      "source": [
        "df2['E'] = ['one', 'one', 'two', 'three', 'four', 'three']"
      ],
      "execution_count": 0,
      "outputs": []
    },
    {
      "cell_type": "code",
      "metadata": {
        "colab_type": "code",
        "id": "oJyqTZ08E4ml",
        "outputId": "65ade77a-93d5-4409-a856-d9c009ff9819",
        "colab": {
          "base_uri": "https://localhost:8080/",
          "height": 235
        }
      },
      "source": [
        "df2"
      ],
      "execution_count": 47,
      "outputs": [
        {
          "output_type": "execute_result",
          "data": {
            "text/html": [
              "<div>\n",
              "<style scoped>\n",
              "    .dataframe tbody tr th:only-of-type {\n",
              "        vertical-align: middle;\n",
              "    }\n",
              "\n",
              "    .dataframe tbody tr th {\n",
              "        vertical-align: top;\n",
              "    }\n",
              "\n",
              "    .dataframe thead th {\n",
              "        text-align: right;\n",
              "    }\n",
              "</style>\n",
              "<table border=\"1\" class=\"dataframe\">\n",
              "  <thead>\n",
              "    <tr style=\"text-align: right;\">\n",
              "      <th></th>\n",
              "      <th>A</th>\n",
              "      <th>B</th>\n",
              "      <th>C</th>\n",
              "      <th>D</th>\n",
              "      <th>E</th>\n",
              "    </tr>\n",
              "  </thead>\n",
              "  <tbody>\n",
              "    <tr>\n",
              "      <th>2013-01-01</th>\n",
              "      <td>-0.020580</td>\n",
              "      <td>0.026153</td>\n",
              "      <td>1.158884</td>\n",
              "      <td>1.309540</td>\n",
              "      <td>one</td>\n",
              "    </tr>\n",
              "    <tr>\n",
              "      <th>2013-01-02</th>\n",
              "      <td>0.515252</td>\n",
              "      <td>-1.760506</td>\n",
              "      <td>-1.643187</td>\n",
              "      <td>0.063676</td>\n",
              "      <td>one</td>\n",
              "    </tr>\n",
              "    <tr>\n",
              "      <th>2013-01-03</th>\n",
              "      <td>-0.181640</td>\n",
              "      <td>1.841062</td>\n",
              "      <td>0.237141</td>\n",
              "      <td>1.262215</td>\n",
              "      <td>two</td>\n",
              "    </tr>\n",
              "    <tr>\n",
              "      <th>2013-01-04</th>\n",
              "      <td>1.558132</td>\n",
              "      <td>-0.591268</td>\n",
              "      <td>0.122389</td>\n",
              "      <td>0.529590</td>\n",
              "      <td>three</td>\n",
              "    </tr>\n",
              "    <tr>\n",
              "      <th>2013-01-05</th>\n",
              "      <td>-1.245534</td>\n",
              "      <td>0.474623</td>\n",
              "      <td>1.135444</td>\n",
              "      <td>0.480303</td>\n",
              "      <td>four</td>\n",
              "    </tr>\n",
              "    <tr>\n",
              "      <th>2013-01-06</th>\n",
              "      <td>0.132386</td>\n",
              "      <td>1.956173</td>\n",
              "      <td>-0.166938</td>\n",
              "      <td>0.265629</td>\n",
              "      <td>three</td>\n",
              "    </tr>\n",
              "  </tbody>\n",
              "</table>\n",
              "</div>"
            ],
            "text/plain": [
              "                   A         B         C         D      E\n",
              "2013-01-01 -0.020580  0.026153  1.158884  1.309540    one\n",
              "2013-01-02  0.515252 -1.760506 -1.643187  0.063676    one\n",
              "2013-01-03 -0.181640  1.841062  0.237141  1.262215    two\n",
              "2013-01-04  1.558132 -0.591268  0.122389  0.529590  three\n",
              "2013-01-05 -1.245534  0.474623  1.135444  0.480303   four\n",
              "2013-01-06  0.132386  1.956173 -0.166938  0.265629  three"
            ]
          },
          "metadata": {
            "tags": []
          },
          "execution_count": 47
        }
      ]
    },
    {
      "cell_type": "code",
      "metadata": {
        "colab_type": "code",
        "id": "VgrLcC_5FCEC",
        "outputId": "10d006d1-7add-4ba8-d9d3-a54045593230",
        "colab": {
          "base_uri": "https://localhost:8080/",
          "height": 111
        }
      },
      "source": [
        "df2[df2['E'].isin(['two','four'])]"
      ],
      "execution_count": 48,
      "outputs": [
        {
          "output_type": "execute_result",
          "data": {
            "text/html": [
              "<div>\n",
              "<style scoped>\n",
              "    .dataframe tbody tr th:only-of-type {\n",
              "        vertical-align: middle;\n",
              "    }\n",
              "\n",
              "    .dataframe tbody tr th {\n",
              "        vertical-align: top;\n",
              "    }\n",
              "\n",
              "    .dataframe thead th {\n",
              "        text-align: right;\n",
              "    }\n",
              "</style>\n",
              "<table border=\"1\" class=\"dataframe\">\n",
              "  <thead>\n",
              "    <tr style=\"text-align: right;\">\n",
              "      <th></th>\n",
              "      <th>A</th>\n",
              "      <th>B</th>\n",
              "      <th>C</th>\n",
              "      <th>D</th>\n",
              "      <th>E</th>\n",
              "    </tr>\n",
              "  </thead>\n",
              "  <tbody>\n",
              "    <tr>\n",
              "      <th>2013-01-03</th>\n",
              "      <td>-0.181640</td>\n",
              "      <td>1.841062</td>\n",
              "      <td>0.237141</td>\n",
              "      <td>1.262215</td>\n",
              "      <td>two</td>\n",
              "    </tr>\n",
              "    <tr>\n",
              "      <th>2013-01-05</th>\n",
              "      <td>-1.245534</td>\n",
              "      <td>0.474623</td>\n",
              "      <td>1.135444</td>\n",
              "      <td>0.480303</td>\n",
              "      <td>four</td>\n",
              "    </tr>\n",
              "  </tbody>\n",
              "</table>\n",
              "</div>"
            ],
            "text/plain": [
              "                   A         B         C         D     E\n",
              "2013-01-03 -0.181640  1.841062  0.237141  1.262215   two\n",
              "2013-01-05 -1.245534  0.474623  1.135444  0.480303  four"
            ]
          },
          "metadata": {
            "tags": []
          },
          "execution_count": 48
        }
      ]
    },
    {
      "cell_type": "markdown",
      "metadata": {
        "colab_type": "text",
        "id": "qTihaKMQLNjE"
      },
      "source": [
        "### Setting (설정)"
      ]
    },
    {
      "cell_type": "markdown",
      "metadata": {
        "colab_type": "text",
        "id": "R2K2Oay2kHHP"
      },
      "source": [
        "새 열을 설정하면 데이터가 인덱스 별로 자동 정렬됩니다.\n"
      ]
    },
    {
      "cell_type": "code",
      "metadata": {
        "colab_type": "code",
        "id": "fvQJ2s5SLNjE",
        "colab": {}
      },
      "source": [
        "s1 = pd.Series([1,2,3,4,5,6], index=pd.date_range('20130102', periods=6))"
      ],
      "execution_count": 0,
      "outputs": []
    },
    {
      "cell_type": "code",
      "metadata": {
        "colab_type": "code",
        "id": "PQDBCDXh7TKl",
        "outputId": "de939b79-d5bc-4ee5-b93a-67f4ee12aa02",
        "colab": {
          "base_uri": "https://localhost:8080/",
          "height": 143
        }
      },
      "source": [
        "s1"
      ],
      "execution_count": 50,
      "outputs": [
        {
          "output_type": "execute_result",
          "data": {
            "text/plain": [
              "2013-01-02    1\n",
              "2013-01-03    2\n",
              "2013-01-04    3\n",
              "2013-01-05    4\n",
              "2013-01-06    5\n",
              "2013-01-07    6\n",
              "Freq: D, dtype: int64"
            ]
          },
          "metadata": {
            "tags": []
          },
          "execution_count": 50
        }
      ]
    },
    {
      "cell_type": "code",
      "metadata": {
        "colab_type": "code",
        "id": "Rby6vIlw7ZBZ",
        "colab": {}
      },
      "source": [
        "df['F'] = s1"
      ],
      "execution_count": 0,
      "outputs": []
    },
    {
      "cell_type": "markdown",
      "metadata": {
        "colab_type": "text",
        "id": "uzRnbME87d3c"
      },
      "source": [
        "라벨에 의해 값을 설정합니다."
      ]
    },
    {
      "cell_type": "code",
      "metadata": {
        "colab_type": "code",
        "id": "y7IBkcwrLNjG",
        "colab": {}
      },
      "source": [
        "df.at[dates[0],'A'] = 0"
      ],
      "execution_count": 0,
      "outputs": []
    },
    {
      "cell_type": "markdown",
      "metadata": {
        "colab_type": "text",
        "id": "sMtaX7Ac8cH_"
      },
      "source": [
        "위치에 의해 값을 설정합니다."
      ]
    },
    {
      "cell_type": "code",
      "metadata": {
        "colab_type": "code",
        "id": "-gJFmCz47iSS",
        "colab": {}
      },
      "source": [
        "df.iat[0,1] = 0"
      ],
      "execution_count": 0,
      "outputs": []
    },
    {
      "cell_type": "markdown",
      "metadata": {
        "colab_type": "text",
        "id": "ogxVud9A81yE"
      },
      "source": [
        "NumPy 배열을 사용한 할당에 의해 값을 설정합니다."
      ]
    },
    {
      "cell_type": "code",
      "metadata": {
        "colab_type": "code",
        "id": "oP7RrCLm8zAT",
        "colab": {}
      },
      "source": [
        "df.loc[:,'D'] = np.array([5] * len(df))"
      ],
      "execution_count": 0,
      "outputs": []
    },
    {
      "cell_type": "markdown",
      "metadata": {
        "colab_type": "text",
        "id": "tGHZXR-K9IBc"
      },
      "source": [
        "위 설정대로 작동한 결과입니다."
      ]
    },
    {
      "cell_type": "code",
      "metadata": {
        "colab_type": "code",
        "id": "TH7YbAYFLNjM",
        "outputId": "1403cb79-8c46-4032-be6b-3708ba798e0a",
        "colab": {
          "base_uri": "https://localhost:8080/",
          "height": 235
        }
      },
      "source": [
        "df"
      ],
      "execution_count": 58,
      "outputs": [
        {
          "output_type": "execute_result",
          "data": {
            "text/html": [
              "<div>\n",
              "<style scoped>\n",
              "    .dataframe tbody tr th:only-of-type {\n",
              "        vertical-align: middle;\n",
              "    }\n",
              "\n",
              "    .dataframe tbody tr th {\n",
              "        vertical-align: top;\n",
              "    }\n",
              "\n",
              "    .dataframe thead th {\n",
              "        text-align: right;\n",
              "    }\n",
              "</style>\n",
              "<table border=\"1\" class=\"dataframe\">\n",
              "  <thead>\n",
              "    <tr style=\"text-align: right;\">\n",
              "      <th></th>\n",
              "      <th>A</th>\n",
              "      <th>B</th>\n",
              "      <th>C</th>\n",
              "      <th>D</th>\n",
              "      <th>F</th>\n",
              "    </tr>\n",
              "  </thead>\n",
              "  <tbody>\n",
              "    <tr>\n",
              "      <th>2013-01-01</th>\n",
              "      <td>0.000000</td>\n",
              "      <td>0.000000</td>\n",
              "      <td>1.158884</td>\n",
              "      <td>5</td>\n",
              "      <td>NaN</td>\n",
              "    </tr>\n",
              "    <tr>\n",
              "      <th>2013-01-02</th>\n",
              "      <td>0.515252</td>\n",
              "      <td>-1.760506</td>\n",
              "      <td>-1.643187</td>\n",
              "      <td>5</td>\n",
              "      <td>1.0</td>\n",
              "    </tr>\n",
              "    <tr>\n",
              "      <th>2013-01-03</th>\n",
              "      <td>-0.181640</td>\n",
              "      <td>1.841062</td>\n",
              "      <td>0.237141</td>\n",
              "      <td>5</td>\n",
              "      <td>2.0</td>\n",
              "    </tr>\n",
              "    <tr>\n",
              "      <th>2013-01-04</th>\n",
              "      <td>1.558132</td>\n",
              "      <td>-0.591268</td>\n",
              "      <td>0.122389</td>\n",
              "      <td>5</td>\n",
              "      <td>3.0</td>\n",
              "    </tr>\n",
              "    <tr>\n",
              "      <th>2013-01-05</th>\n",
              "      <td>-1.245534</td>\n",
              "      <td>0.474623</td>\n",
              "      <td>1.135444</td>\n",
              "      <td>5</td>\n",
              "      <td>4.0</td>\n",
              "    </tr>\n",
              "    <tr>\n",
              "      <th>2013-01-06</th>\n",
              "      <td>0.132386</td>\n",
              "      <td>1.956173</td>\n",
              "      <td>-0.166938</td>\n",
              "      <td>5</td>\n",
              "      <td>5.0</td>\n",
              "    </tr>\n",
              "  </tbody>\n",
              "</table>\n",
              "</div>"
            ],
            "text/plain": [
              "                   A         B         C  D    F\n",
              "2013-01-01  0.000000  0.000000  1.158884  5  NaN\n",
              "2013-01-02  0.515252 -1.760506 -1.643187  5  1.0\n",
              "2013-01-03 -0.181640  1.841062  0.237141  5  2.0\n",
              "2013-01-04  1.558132 -0.591268  0.122389  5  3.0\n",
              "2013-01-05 -1.245534  0.474623  1.135444  5  4.0\n",
              "2013-01-06  0.132386  1.956173 -0.166938  5  5.0"
            ]
          },
          "metadata": {
            "tags": []
          },
          "execution_count": 58
        }
      ]
    },
    {
      "cell_type": "markdown",
      "metadata": {
        "colab_type": "text",
        "id": "ATHUfgEp-afg"
      },
      "source": [
        "where 연산을 설정합니다."
      ]
    },
    {
      "cell_type": "code",
      "metadata": {
        "colab_type": "code",
        "id": "CYGS8DZeLNjN",
        "colab": {}
      },
      "source": [
        "df2 = df.copy()"
      ],
      "execution_count": 0,
      "outputs": []
    },
    {
      "cell_type": "code",
      "metadata": {
        "colab_type": "code",
        "id": "ENx6j5B3-T4P",
        "colab": {}
      },
      "source": [
        "df2[df2 > 0] = -df2"
      ],
      "execution_count": 0,
      "outputs": []
    },
    {
      "cell_type": "code",
      "metadata": {
        "colab_type": "code",
        "id": "C-4V1gy8-YME",
        "outputId": "99990d0c-e92e-4e1d-fc36-134773beb1b1",
        "colab": {
          "base_uri": "https://localhost:8080/",
          "height": 235
        }
      },
      "source": [
        "df2"
      ],
      "execution_count": 61,
      "outputs": [
        {
          "output_type": "execute_result",
          "data": {
            "text/html": [
              "<div>\n",
              "<style scoped>\n",
              "    .dataframe tbody tr th:only-of-type {\n",
              "        vertical-align: middle;\n",
              "    }\n",
              "\n",
              "    .dataframe tbody tr th {\n",
              "        vertical-align: top;\n",
              "    }\n",
              "\n",
              "    .dataframe thead th {\n",
              "        text-align: right;\n",
              "    }\n",
              "</style>\n",
              "<table border=\"1\" class=\"dataframe\">\n",
              "  <thead>\n",
              "    <tr style=\"text-align: right;\">\n",
              "      <th></th>\n",
              "      <th>A</th>\n",
              "      <th>B</th>\n",
              "      <th>C</th>\n",
              "      <th>D</th>\n",
              "      <th>F</th>\n",
              "    </tr>\n",
              "  </thead>\n",
              "  <tbody>\n",
              "    <tr>\n",
              "      <th>2013-01-01</th>\n",
              "      <td>0.000000</td>\n",
              "      <td>0.000000</td>\n",
              "      <td>-1.158884</td>\n",
              "      <td>-5</td>\n",
              "      <td>NaN</td>\n",
              "    </tr>\n",
              "    <tr>\n",
              "      <th>2013-01-02</th>\n",
              "      <td>-0.515252</td>\n",
              "      <td>-1.760506</td>\n",
              "      <td>-1.643187</td>\n",
              "      <td>-5</td>\n",
              "      <td>-1.0</td>\n",
              "    </tr>\n",
              "    <tr>\n",
              "      <th>2013-01-03</th>\n",
              "      <td>-0.181640</td>\n",
              "      <td>-1.841062</td>\n",
              "      <td>-0.237141</td>\n",
              "      <td>-5</td>\n",
              "      <td>-2.0</td>\n",
              "    </tr>\n",
              "    <tr>\n",
              "      <th>2013-01-04</th>\n",
              "      <td>-1.558132</td>\n",
              "      <td>-0.591268</td>\n",
              "      <td>-0.122389</td>\n",
              "      <td>-5</td>\n",
              "      <td>-3.0</td>\n",
              "    </tr>\n",
              "    <tr>\n",
              "      <th>2013-01-05</th>\n",
              "      <td>-1.245534</td>\n",
              "      <td>-0.474623</td>\n",
              "      <td>-1.135444</td>\n",
              "      <td>-5</td>\n",
              "      <td>-4.0</td>\n",
              "    </tr>\n",
              "    <tr>\n",
              "      <th>2013-01-06</th>\n",
              "      <td>-0.132386</td>\n",
              "      <td>-1.956173</td>\n",
              "      <td>-0.166938</td>\n",
              "      <td>-5</td>\n",
              "      <td>-5.0</td>\n",
              "    </tr>\n",
              "  </tbody>\n",
              "</table>\n",
              "</div>"
            ],
            "text/plain": [
              "                   A         B         C  D    F\n",
              "2013-01-01  0.000000  0.000000 -1.158884 -5  NaN\n",
              "2013-01-02 -0.515252 -1.760506 -1.643187 -5 -1.0\n",
              "2013-01-03 -0.181640 -1.841062 -0.237141 -5 -2.0\n",
              "2013-01-04 -1.558132 -0.591268 -0.122389 -5 -3.0\n",
              "2013-01-05 -1.245534 -0.474623 -1.135444 -5 -4.0\n",
              "2013-01-06 -0.132386 -1.956173 -0.166938 -5 -5.0"
            ]
          },
          "metadata": {
            "tags": []
          },
          "execution_count": 61
        }
      ]
    },
    {
      "cell_type": "markdown",
      "metadata": {
        "colab_type": "text",
        "id": "f7mkUirR5hit"
      },
      "source": [
        "## Missing Data (결측치)"
      ]
    },
    {
      "cell_type": "markdown",
      "metadata": {
        "colab_type": "text",
        "id": "p1uohebm9Emf"
      },
      "source": [
        "pandas는 결측치를 표현하기 위해 주로 np.nan 값을 사용합니다. 이 방법은 기본 설정값이지만 계산에는 포함되지 않습니다. <br>\n",
        "[Missing Data section](https://pandas.pydata.org/pandas-docs/stable/missing_data.html#missing-data)를 참조하세요."
      ]
    },
    {
      "cell_type": "markdown",
      "metadata": {
        "colab_type": "text",
        "id": "xAVZmDGC96Nn"
      },
      "source": [
        "Reindexing으로 지정된 축 상의 인덱스를 변경/추가/삭제할 수 있습니다. Reindexing은 데이터의 복사본을 반환합니다."
      ]
    },
    {
      "cell_type": "code",
      "metadata": {
        "colab_type": "code",
        "id": "zCxw1r4M-Pmt",
        "colab": {}
      },
      "source": [
        "df1 = df.reindex(index=dates[0:4], columns=list(df.columns) + ['E'])"
      ],
      "execution_count": 0,
      "outputs": []
    },
    {
      "cell_type": "code",
      "metadata": {
        "colab_type": "code",
        "id": "Oi_hYCsu-hfJ",
        "colab": {}
      },
      "source": [
        "df1.loc[dates[0]:dates[1],'E'] = 1"
      ],
      "execution_count": 0,
      "outputs": []
    },
    {
      "cell_type": "code",
      "metadata": {
        "colab_type": "code",
        "id": "w6yiTzDK-jwg",
        "outputId": "31f2fe81-6331-4512-8782-7d8f10fc60b1",
        "colab": {
          "base_uri": "https://localhost:8080/",
          "height": 173
        }
      },
      "source": [
        "df1"
      ],
      "execution_count": 64,
      "outputs": [
        {
          "output_type": "execute_result",
          "data": {
            "text/html": [
              "<div>\n",
              "<style scoped>\n",
              "    .dataframe tbody tr th:only-of-type {\n",
              "        vertical-align: middle;\n",
              "    }\n",
              "\n",
              "    .dataframe tbody tr th {\n",
              "        vertical-align: top;\n",
              "    }\n",
              "\n",
              "    .dataframe thead th {\n",
              "        text-align: right;\n",
              "    }\n",
              "</style>\n",
              "<table border=\"1\" class=\"dataframe\">\n",
              "  <thead>\n",
              "    <tr style=\"text-align: right;\">\n",
              "      <th></th>\n",
              "      <th>A</th>\n",
              "      <th>B</th>\n",
              "      <th>C</th>\n",
              "      <th>D</th>\n",
              "      <th>F</th>\n",
              "      <th>E</th>\n",
              "    </tr>\n",
              "  </thead>\n",
              "  <tbody>\n",
              "    <tr>\n",
              "      <th>2013-01-01</th>\n",
              "      <td>0.000000</td>\n",
              "      <td>0.000000</td>\n",
              "      <td>1.158884</td>\n",
              "      <td>5</td>\n",
              "      <td>NaN</td>\n",
              "      <td>1.0</td>\n",
              "    </tr>\n",
              "    <tr>\n",
              "      <th>2013-01-02</th>\n",
              "      <td>0.515252</td>\n",
              "      <td>-1.760506</td>\n",
              "      <td>-1.643187</td>\n",
              "      <td>5</td>\n",
              "      <td>1.0</td>\n",
              "      <td>1.0</td>\n",
              "    </tr>\n",
              "    <tr>\n",
              "      <th>2013-01-03</th>\n",
              "      <td>-0.181640</td>\n",
              "      <td>1.841062</td>\n",
              "      <td>0.237141</td>\n",
              "      <td>5</td>\n",
              "      <td>2.0</td>\n",
              "      <td>NaN</td>\n",
              "    </tr>\n",
              "    <tr>\n",
              "      <th>2013-01-04</th>\n",
              "      <td>1.558132</td>\n",
              "      <td>-0.591268</td>\n",
              "      <td>0.122389</td>\n",
              "      <td>5</td>\n",
              "      <td>3.0</td>\n",
              "      <td>NaN</td>\n",
              "    </tr>\n",
              "  </tbody>\n",
              "</table>\n",
              "</div>"
            ],
            "text/plain": [
              "                   A         B         C  D    F    E\n",
              "2013-01-01  0.000000  0.000000  1.158884  5  NaN  1.0\n",
              "2013-01-02  0.515252 -1.760506 -1.643187  5  1.0  1.0\n",
              "2013-01-03 -0.181640  1.841062  0.237141  5  2.0  NaN\n",
              "2013-01-04  1.558132 -0.591268  0.122389  5  3.0  NaN"
            ]
          },
          "metadata": {
            "tags": []
          },
          "execution_count": 64
        }
      ]
    },
    {
      "cell_type": "markdown",
      "metadata": {
        "colab_type": "text",
        "id": "nzGUIHyfAW3Y"
      },
      "source": [
        "결측치를 가지고 있는 행들을 지웁니다."
      ]
    },
    {
      "cell_type": "code",
      "metadata": {
        "colab_type": "code",
        "id": "S-zlTo0pAeyf",
        "outputId": "b9c418ab-c474-4ebf-9352-be30e1ab7f68",
        "colab": {}
      },
      "source": [
        "df1.dropna(how='any')"
      ],
      "execution_count": 0,
      "outputs": [
        {
          "output_type": "execute_result",
          "data": {
            "text/html": [
              "<div>\n",
              "<style scoped>\n",
              "    .dataframe tbody tr th:only-of-type {\n",
              "        vertical-align: middle;\n",
              "    }\n",
              "\n",
              "    .dataframe tbody tr th {\n",
              "        vertical-align: top;\n",
              "    }\n",
              "\n",
              "    .dataframe thead th {\n",
              "        text-align: right;\n",
              "    }\n",
              "</style>\n",
              "<table border=\"1\" class=\"dataframe\">\n",
              "  <thead>\n",
              "    <tr style=\"text-align: right;\">\n",
              "      <th></th>\n",
              "      <th>A</th>\n",
              "      <th>B</th>\n",
              "      <th>C</th>\n",
              "      <th>D</th>\n",
              "      <th>E</th>\n",
              "    </tr>\n",
              "  </thead>\n",
              "  <tbody>\n",
              "    <tr>\n",
              "      <th>2013-01-01</th>\n",
              "      <td>1.203664</td>\n",
              "      <td>0.035199</td>\n",
              "      <td>-0.516512</td>\n",
              "      <td>-1.651954</td>\n",
              "      <td>1.0</td>\n",
              "    </tr>\n",
              "    <tr>\n",
              "      <th>2013-01-02</th>\n",
              "      <td>-0.935893</td>\n",
              "      <td>0.854944</td>\n",
              "      <td>-0.814971</td>\n",
              "      <td>-0.333447</td>\n",
              "      <td>1.0</td>\n",
              "    </tr>\n",
              "  </tbody>\n",
              "</table>\n",
              "</div>"
            ],
            "text/plain": [
              "                   A         B         C         D    E\n",
              "2013-01-01  1.203664  0.035199 -0.516512 -1.651954  1.0\n",
              "2013-01-02 -0.935893  0.854944 -0.814971 -0.333447  1.0"
            ]
          },
          "metadata": {
            "tags": []
          },
          "execution_count": 38
        }
      ]
    },
    {
      "cell_type": "markdown",
      "metadata": {
        "colab_type": "text",
        "id": "vrgy7BjkAfCF"
      },
      "source": [
        "결측치를 채워 넣습니다."
      ]
    },
    {
      "cell_type": "code",
      "metadata": {
        "colab_type": "code",
        "id": "h4nTFHr6AfUt",
        "outputId": "1cc42d85-1b32-4c32-8a18-43f14f24c637",
        "colab": {
          "base_uri": "https://localhost:8080/",
          "height": 173
        }
      },
      "source": [
        "df1.fillna(value=5)"
      ],
      "execution_count": 65,
      "outputs": [
        {
          "output_type": "execute_result",
          "data": {
            "text/html": [
              "<div>\n",
              "<style scoped>\n",
              "    .dataframe tbody tr th:only-of-type {\n",
              "        vertical-align: middle;\n",
              "    }\n",
              "\n",
              "    .dataframe tbody tr th {\n",
              "        vertical-align: top;\n",
              "    }\n",
              "\n",
              "    .dataframe thead th {\n",
              "        text-align: right;\n",
              "    }\n",
              "</style>\n",
              "<table border=\"1\" class=\"dataframe\">\n",
              "  <thead>\n",
              "    <tr style=\"text-align: right;\">\n",
              "      <th></th>\n",
              "      <th>A</th>\n",
              "      <th>B</th>\n",
              "      <th>C</th>\n",
              "      <th>D</th>\n",
              "      <th>F</th>\n",
              "      <th>E</th>\n",
              "    </tr>\n",
              "  </thead>\n",
              "  <tbody>\n",
              "    <tr>\n",
              "      <th>2013-01-01</th>\n",
              "      <td>0.000000</td>\n",
              "      <td>0.000000</td>\n",
              "      <td>1.158884</td>\n",
              "      <td>5</td>\n",
              "      <td>5.0</td>\n",
              "      <td>1.0</td>\n",
              "    </tr>\n",
              "    <tr>\n",
              "      <th>2013-01-02</th>\n",
              "      <td>0.515252</td>\n",
              "      <td>-1.760506</td>\n",
              "      <td>-1.643187</td>\n",
              "      <td>5</td>\n",
              "      <td>1.0</td>\n",
              "      <td>1.0</td>\n",
              "    </tr>\n",
              "    <tr>\n",
              "      <th>2013-01-03</th>\n",
              "      <td>-0.181640</td>\n",
              "      <td>1.841062</td>\n",
              "      <td>0.237141</td>\n",
              "      <td>5</td>\n",
              "      <td>2.0</td>\n",
              "      <td>5.0</td>\n",
              "    </tr>\n",
              "    <tr>\n",
              "      <th>2013-01-04</th>\n",
              "      <td>1.558132</td>\n",
              "      <td>-0.591268</td>\n",
              "      <td>0.122389</td>\n",
              "      <td>5</td>\n",
              "      <td>3.0</td>\n",
              "      <td>5.0</td>\n",
              "    </tr>\n",
              "  </tbody>\n",
              "</table>\n",
              "</div>"
            ],
            "text/plain": [
              "                   A         B         C  D    F    E\n",
              "2013-01-01  0.000000  0.000000  1.158884  5  5.0  1.0\n",
              "2013-01-02  0.515252 -1.760506 -1.643187  5  1.0  1.0\n",
              "2013-01-03 -0.181640  1.841062  0.237141  5  2.0  5.0\n",
              "2013-01-04  1.558132 -0.591268  0.122389  5  3.0  5.0"
            ]
          },
          "metadata": {
            "tags": []
          },
          "execution_count": 65
        }
      ]
    },
    {
      "cell_type": "markdown",
      "metadata": {
        "colab_type": "text",
        "id": "rWuLWklCAkWB"
      },
      "source": [
        "nan인 값에 Boolean(을 통한) 표식을 얻습니다.\n",
        "\n",
        "*역자 주 : 데이터프레임의 모든 값이 Boolean 형태로 표시되도록 하며, nan인 값에만 True가 표시되게 하는 함수입니다.*"
      ]
    },
    {
      "cell_type": "code",
      "metadata": {
        "colab_type": "code",
        "id": "tcWqhC4IBAgI",
        "outputId": "f471724d-bf6a-4740-9c60-3c98de946fbe",
        "colab": {
          "base_uri": "https://localhost:8080/",
          "height": 173
        }
      },
      "source": [
        "pd.isna(df1)"
      ],
      "execution_count": 72,
      "outputs": [
        {
          "output_type": "execute_result",
          "data": {
            "text/html": [
              "<div>\n",
              "<style scoped>\n",
              "    .dataframe tbody tr th:only-of-type {\n",
              "        vertical-align: middle;\n",
              "    }\n",
              "\n",
              "    .dataframe tbody tr th {\n",
              "        vertical-align: top;\n",
              "    }\n",
              "\n",
              "    .dataframe thead th {\n",
              "        text-align: right;\n",
              "    }\n",
              "</style>\n",
              "<table border=\"1\" class=\"dataframe\">\n",
              "  <thead>\n",
              "    <tr style=\"text-align: right;\">\n",
              "      <th></th>\n",
              "      <th>A</th>\n",
              "      <th>B</th>\n",
              "      <th>C</th>\n",
              "      <th>D</th>\n",
              "      <th>F</th>\n",
              "      <th>E</th>\n",
              "    </tr>\n",
              "  </thead>\n",
              "  <tbody>\n",
              "    <tr>\n",
              "      <th>2013-01-01</th>\n",
              "      <td>False</td>\n",
              "      <td>False</td>\n",
              "      <td>False</td>\n",
              "      <td>False</td>\n",
              "      <td>True</td>\n",
              "      <td>False</td>\n",
              "    </tr>\n",
              "    <tr>\n",
              "      <th>2013-01-02</th>\n",
              "      <td>False</td>\n",
              "      <td>False</td>\n",
              "      <td>False</td>\n",
              "      <td>False</td>\n",
              "      <td>False</td>\n",
              "      <td>False</td>\n",
              "    </tr>\n",
              "    <tr>\n",
              "      <th>2013-01-03</th>\n",
              "      <td>False</td>\n",
              "      <td>False</td>\n",
              "      <td>False</td>\n",
              "      <td>False</td>\n",
              "      <td>False</td>\n",
              "      <td>True</td>\n",
              "    </tr>\n",
              "    <tr>\n",
              "      <th>2013-01-04</th>\n",
              "      <td>False</td>\n",
              "      <td>False</td>\n",
              "      <td>False</td>\n",
              "      <td>False</td>\n",
              "      <td>False</td>\n",
              "      <td>True</td>\n",
              "    </tr>\n",
              "  </tbody>\n",
              "</table>\n",
              "</div>"
            ],
            "text/plain": [
              "                A      B      C      D      F      E\n",
              "2013-01-01  False  False  False  False   True  False\n",
              "2013-01-02  False  False  False  False  False  False\n",
              "2013-01-03  False  False  False  False  False   True\n",
              "2013-01-04  False  False  False  False  False   True"
            ]
          },
          "metadata": {
            "tags": []
          },
          "execution_count": 72
        }
      ]
    },
    {
      "cell_type": "markdown",
      "metadata": {
        "colab_type": "text",
        "id": "_Vtbv3Am59wL"
      },
      "source": [
        "## Operation (연산)"
      ]
    },
    {
      "cell_type": "markdown",
      "metadata": {
        "colab_type": "text",
        "id": "rX4XUGEG6gR4"
      },
      "source": [
        "[이진(Binary) 연산의 기본 섹션](https://pandas.pydata.org/pandas-docs/stable/basics.html#basics-binop)을 참조하세요."
      ]
    },
    {
      "cell_type": "markdown",
      "metadata": {
        "colab_type": "text",
        "id": "mcVNuuy_5_wW"
      },
      "source": [
        "### Stats (통계)"
      ]
    },
    {
      "cell_type": "markdown",
      "metadata": {
        "colab_type": "text",
        "id": "iPX_nN0vBiMb"
      },
      "source": [
        "일반적으로 결측치를 제외한 후 연산됩니다.\n",
        "\n",
        "기술통계를 수행합니다."
      ]
    },
    {
      "cell_type": "code",
      "metadata": {
        "colab_type": "code",
        "id": "6W54szbp68LC",
        "outputId": "ea6d6661-b30d-489f-8c90-2b59469529e4",
        "scrolled": true,
        "colab": {
          "base_uri": "https://localhost:8080/",
          "height": 125
        }
      },
      "source": [
        "df.mean()"
      ],
      "execution_count": 73,
      "outputs": [
        {
          "output_type": "execute_result",
          "data": {
            "text/plain": [
              "A    0.129766\n",
              "B    0.320014\n",
              "C    0.140622\n",
              "D    5.000000\n",
              "F    3.000000\n",
              "dtype: float64"
            ]
          },
          "metadata": {
            "tags": []
          },
          "execution_count": 73
        }
      ]
    },
    {
      "cell_type": "markdown",
      "metadata": {
        "colab_type": "text",
        "id": "UdhVHC9A6996"
      },
      "source": [
        "다른 축에서 동일한 연산을 수행합니다."
      ]
    },
    {
      "cell_type": "code",
      "metadata": {
        "colab_type": "code",
        "id": "XC1HZGxN6-MI",
        "outputId": "094acede-e11e-425d-b041-d132eb568f90",
        "colab": {}
      },
      "source": [
        "df.mean(1)"
      ],
      "execution_count": 0,
      "outputs": [
        {
          "output_type": "execute_result",
          "data": {
            "text/plain": [
              "2013-01-01    1.146781\n",
              "2013-01-02    1.014293\n",
              "2013-01-03    1.459981\n",
              "2013-01-04    1.881415\n",
              "2013-01-05    2.189263\n",
              "2013-01-06    2.442146\n",
              "Freq: D, dtype: float64"
            ]
          },
          "metadata": {
            "tags": []
          },
          "execution_count": 62
        }
      ]
    },
    {
      "cell_type": "markdown",
      "metadata": {
        "colab_type": "text",
        "id": "jiGhkFo-7HZf"
      },
      "source": [
        "정렬이 필요하며, 차원이 다른 객체로 연산해보겠습니다. 또한, pandas는 지정된 차원을 따라 자동으로 브로드 캐스팅됩니다.\n",
        "\n",
        "*역자 주 : broadcast란 numpy에서 유래한 용어로, n차원이나 스칼라 값으로 연산을 수행할 때 도출되는 결과의 규칙을 설명하는 것을 의미합니다.*"
      ]
    },
    {
      "cell_type": "code",
      "metadata": {
        "colab_type": "code",
        "id": "h3RUr6U_7Utf",
        "colab": {}
      },
      "source": [
        "s = pd.Series([1,3,5,np.nan,6,8], index=dates).shift(2)"
      ],
      "execution_count": 0,
      "outputs": []
    },
    {
      "cell_type": "code",
      "metadata": {
        "colab_type": "code",
        "id": "e-qo9CjL7XUD",
        "outputId": "47a346a1-017f-4f0a-ee10-5190c2275f50",
        "colab": {
          "base_uri": "https://localhost:8080/",
          "height": 143
        }
      },
      "source": [
        "s"
      ],
      "execution_count": 79,
      "outputs": [
        {
          "output_type": "execute_result",
          "data": {
            "text/plain": [
              "2013-01-01    NaN\n",
              "2013-01-02    NaN\n",
              "2013-01-03    1.0\n",
              "2013-01-04    3.0\n",
              "2013-01-05    5.0\n",
              "2013-01-06    NaN\n",
              "Freq: D, dtype: float64"
            ]
          },
          "metadata": {
            "tags": []
          },
          "execution_count": 79
        }
      ]
    },
    {
      "cell_type": "code",
      "metadata": {
        "colab_type": "code",
        "id": "GowqZoeb7ZZo",
        "outputId": "3e07dc94-ce62-4c19-9865-e1084cc689fa",
        "colab": {
          "base_uri": "https://localhost:8080/",
          "height": 235
        }
      },
      "source": [
        "df.sub(s, axis='index')"
      ],
      "execution_count": 76,
      "outputs": [
        {
          "output_type": "execute_result",
          "data": {
            "text/html": [
              "<div>\n",
              "<style scoped>\n",
              "    .dataframe tbody tr th:only-of-type {\n",
              "        vertical-align: middle;\n",
              "    }\n",
              "\n",
              "    .dataframe tbody tr th {\n",
              "        vertical-align: top;\n",
              "    }\n",
              "\n",
              "    .dataframe thead th {\n",
              "        text-align: right;\n",
              "    }\n",
              "</style>\n",
              "<table border=\"1\" class=\"dataframe\">\n",
              "  <thead>\n",
              "    <tr style=\"text-align: right;\">\n",
              "      <th></th>\n",
              "      <th>A</th>\n",
              "      <th>B</th>\n",
              "      <th>C</th>\n",
              "      <th>D</th>\n",
              "      <th>F</th>\n",
              "    </tr>\n",
              "  </thead>\n",
              "  <tbody>\n",
              "    <tr>\n",
              "      <th>2013-01-01</th>\n",
              "      <td>NaN</td>\n",
              "      <td>NaN</td>\n",
              "      <td>NaN</td>\n",
              "      <td>NaN</td>\n",
              "      <td>NaN</td>\n",
              "    </tr>\n",
              "    <tr>\n",
              "      <th>2013-01-02</th>\n",
              "      <td>NaN</td>\n",
              "      <td>NaN</td>\n",
              "      <td>NaN</td>\n",
              "      <td>NaN</td>\n",
              "      <td>NaN</td>\n",
              "    </tr>\n",
              "    <tr>\n",
              "      <th>2013-01-03</th>\n",
              "      <td>-1.181640</td>\n",
              "      <td>0.841062</td>\n",
              "      <td>-0.762859</td>\n",
              "      <td>4.0</td>\n",
              "      <td>1.0</td>\n",
              "    </tr>\n",
              "    <tr>\n",
              "      <th>2013-01-04</th>\n",
              "      <td>-1.441868</td>\n",
              "      <td>-3.591268</td>\n",
              "      <td>-2.877611</td>\n",
              "      <td>2.0</td>\n",
              "      <td>0.0</td>\n",
              "    </tr>\n",
              "    <tr>\n",
              "      <th>2013-01-05</th>\n",
              "      <td>-6.245534</td>\n",
              "      <td>-4.525377</td>\n",
              "      <td>-3.864556</td>\n",
              "      <td>0.0</td>\n",
              "      <td>-1.0</td>\n",
              "    </tr>\n",
              "    <tr>\n",
              "      <th>2013-01-06</th>\n",
              "      <td>NaN</td>\n",
              "      <td>NaN</td>\n",
              "      <td>NaN</td>\n",
              "      <td>NaN</td>\n",
              "      <td>NaN</td>\n",
              "    </tr>\n",
              "  </tbody>\n",
              "</table>\n",
              "</div>"
            ],
            "text/plain": [
              "                   A         B         C    D    F\n",
              "2013-01-01       NaN       NaN       NaN  NaN  NaN\n",
              "2013-01-02       NaN       NaN       NaN  NaN  NaN\n",
              "2013-01-03 -1.181640  0.841062 -0.762859  4.0  1.0\n",
              "2013-01-04 -1.441868 -3.591268 -2.877611  2.0  0.0\n",
              "2013-01-05 -6.245534 -4.525377 -3.864556  0.0 -1.0\n",
              "2013-01-06       NaN       NaN       NaN  NaN  NaN"
            ]
          },
          "metadata": {
            "tags": []
          },
          "execution_count": 76
        }
      ]
    },
    {
      "cell_type": "markdown",
      "metadata": {
        "colab_type": "text",
        "id": "R7jzj-cH6Ahc"
      },
      "source": [
        "### Apply (적용)"
      ]
    },
    {
      "cell_type": "markdown",
      "metadata": {
        "colab_type": "text",
        "id": "gkSA3r_R7Ea6"
      },
      "source": [
        "데이터에 함수를 적용합니다."
      ]
    },
    {
      "cell_type": "code",
      "metadata": {
        "colab_type": "code",
        "id": "kPNfiNAy7IQZ",
        "outputId": "29bddc54-af46-4272-e0d1-8e5db8a59d1d",
        "colab": {
          "base_uri": "https://localhost:8080/",
          "height": 235
        }
      },
      "source": [
        "df.apply(np.cumsum)"
      ],
      "execution_count": 81,
      "outputs": [
        {
          "output_type": "execute_result",
          "data": {
            "text/html": [
              "<div>\n",
              "<style scoped>\n",
              "    .dataframe tbody tr th:only-of-type {\n",
              "        vertical-align: middle;\n",
              "    }\n",
              "\n",
              "    .dataframe tbody tr th {\n",
              "        vertical-align: top;\n",
              "    }\n",
              "\n",
              "    .dataframe thead th {\n",
              "        text-align: right;\n",
              "    }\n",
              "</style>\n",
              "<table border=\"1\" class=\"dataframe\">\n",
              "  <thead>\n",
              "    <tr style=\"text-align: right;\">\n",
              "      <th></th>\n",
              "      <th>A</th>\n",
              "      <th>B</th>\n",
              "      <th>C</th>\n",
              "      <th>D</th>\n",
              "      <th>F</th>\n",
              "    </tr>\n",
              "  </thead>\n",
              "  <tbody>\n",
              "    <tr>\n",
              "      <th>2013-01-01</th>\n",
              "      <td>0.000000</td>\n",
              "      <td>0.000000</td>\n",
              "      <td>1.158884</td>\n",
              "      <td>5</td>\n",
              "      <td>NaN</td>\n",
              "    </tr>\n",
              "    <tr>\n",
              "      <th>2013-01-02</th>\n",
              "      <td>0.515252</td>\n",
              "      <td>-1.760506</td>\n",
              "      <td>-0.484303</td>\n",
              "      <td>10</td>\n",
              "      <td>1.0</td>\n",
              "    </tr>\n",
              "    <tr>\n",
              "      <th>2013-01-03</th>\n",
              "      <td>0.333613</td>\n",
              "      <td>0.080556</td>\n",
              "      <td>-0.247162</td>\n",
              "      <td>15</td>\n",
              "      <td>3.0</td>\n",
              "    </tr>\n",
              "    <tr>\n",
              "      <th>2013-01-04</th>\n",
              "      <td>1.891745</td>\n",
              "      <td>-0.510712</td>\n",
              "      <td>-0.124773</td>\n",
              "      <td>20</td>\n",
              "      <td>6.0</td>\n",
              "    </tr>\n",
              "    <tr>\n",
              "      <th>2013-01-05</th>\n",
              "      <td>0.646211</td>\n",
              "      <td>-0.036089</td>\n",
              "      <td>1.010671</td>\n",
              "      <td>25</td>\n",
              "      <td>10.0</td>\n",
              "    </tr>\n",
              "    <tr>\n",
              "      <th>2013-01-06</th>\n",
              "      <td>0.778596</td>\n",
              "      <td>1.920084</td>\n",
              "      <td>0.843733</td>\n",
              "      <td>30</td>\n",
              "      <td>15.0</td>\n",
              "    </tr>\n",
              "  </tbody>\n",
              "</table>\n",
              "</div>"
            ],
            "text/plain": [
              "                   A         B         C   D     F\n",
              "2013-01-01  0.000000  0.000000  1.158884   5   NaN\n",
              "2013-01-02  0.515252 -1.760506 -0.484303  10   1.0\n",
              "2013-01-03  0.333613  0.080556 -0.247162  15   3.0\n",
              "2013-01-04  1.891745 -0.510712 -0.124773  20   6.0\n",
              "2013-01-05  0.646211 -0.036089  1.010671  25  10.0\n",
              "2013-01-06  0.778596  1.920084  0.843733  30  15.0"
            ]
          },
          "metadata": {
            "tags": []
          },
          "execution_count": 81
        }
      ]
    },
    {
      "cell_type": "code",
      "metadata": {
        "id": "wFcYpSvPC88v",
        "colab_type": "code",
        "colab": {
          "base_uri": "https://localhost:8080/",
          "height": 235
        },
        "outputId": "2640eded-a31b-4d43-96fe-53cf03bce296"
      },
      "source": [
        "df"
      ],
      "execution_count": 84,
      "outputs": [
        {
          "output_type": "execute_result",
          "data": {
            "text/html": [
              "<div>\n",
              "<style scoped>\n",
              "    .dataframe tbody tr th:only-of-type {\n",
              "        vertical-align: middle;\n",
              "    }\n",
              "\n",
              "    .dataframe tbody tr th {\n",
              "        vertical-align: top;\n",
              "    }\n",
              "\n",
              "    .dataframe thead th {\n",
              "        text-align: right;\n",
              "    }\n",
              "</style>\n",
              "<table border=\"1\" class=\"dataframe\">\n",
              "  <thead>\n",
              "    <tr style=\"text-align: right;\">\n",
              "      <th></th>\n",
              "      <th>A</th>\n",
              "      <th>B</th>\n",
              "      <th>C</th>\n",
              "      <th>D</th>\n",
              "      <th>F</th>\n",
              "    </tr>\n",
              "  </thead>\n",
              "  <tbody>\n",
              "    <tr>\n",
              "      <th>2013-01-01</th>\n",
              "      <td>0.000000</td>\n",
              "      <td>0.000000</td>\n",
              "      <td>1.158884</td>\n",
              "      <td>5</td>\n",
              "      <td>NaN</td>\n",
              "    </tr>\n",
              "    <tr>\n",
              "      <th>2013-01-02</th>\n",
              "      <td>0.515252</td>\n",
              "      <td>-1.760506</td>\n",
              "      <td>-1.643187</td>\n",
              "      <td>5</td>\n",
              "      <td>1.0</td>\n",
              "    </tr>\n",
              "    <tr>\n",
              "      <th>2013-01-03</th>\n",
              "      <td>-0.181640</td>\n",
              "      <td>1.841062</td>\n",
              "      <td>0.237141</td>\n",
              "      <td>5</td>\n",
              "      <td>2.0</td>\n",
              "    </tr>\n",
              "    <tr>\n",
              "      <th>2013-01-04</th>\n",
              "      <td>1.558132</td>\n",
              "      <td>-0.591268</td>\n",
              "      <td>0.122389</td>\n",
              "      <td>5</td>\n",
              "      <td>3.0</td>\n",
              "    </tr>\n",
              "    <tr>\n",
              "      <th>2013-01-05</th>\n",
              "      <td>-1.245534</td>\n",
              "      <td>0.474623</td>\n",
              "      <td>1.135444</td>\n",
              "      <td>5</td>\n",
              "      <td>4.0</td>\n",
              "    </tr>\n",
              "    <tr>\n",
              "      <th>2013-01-06</th>\n",
              "      <td>0.132386</td>\n",
              "      <td>1.956173</td>\n",
              "      <td>-0.166938</td>\n",
              "      <td>5</td>\n",
              "      <td>5.0</td>\n",
              "    </tr>\n",
              "  </tbody>\n",
              "</table>\n",
              "</div>"
            ],
            "text/plain": [
              "                   A         B         C  D    F\n",
              "2013-01-01  0.000000  0.000000  1.158884  5  NaN\n",
              "2013-01-02  0.515252 -1.760506 -1.643187  5  1.0\n",
              "2013-01-03 -0.181640  1.841062  0.237141  5  2.0\n",
              "2013-01-04  1.558132 -0.591268  0.122389  5  3.0\n",
              "2013-01-05 -1.245534  0.474623  1.135444  5  4.0\n",
              "2013-01-06  0.132386  1.956173 -0.166938  5  5.0"
            ]
          },
          "metadata": {
            "tags": []
          },
          "execution_count": 84
        }
      ]
    },
    {
      "cell_type": "code",
      "metadata": {
        "id": "ow5YhH4YC4e_",
        "colab_type": "code",
        "colab": {
          "base_uri": "https://localhost:8080/",
          "height": 125
        },
        "outputId": "e57c37ba-37cc-4955-8ca6-91572304ea3b"
      },
      "source": [
        "df.apply(lambda x: x.max())"
      ],
      "execution_count": 83,
      "outputs": [
        {
          "output_type": "execute_result",
          "data": {
            "text/plain": [
              "A    1.558132\n",
              "B    1.956173\n",
              "C    1.158884\n",
              "D    5.000000\n",
              "F    5.000000\n",
              "dtype: float64"
            ]
          },
          "metadata": {
            "tags": []
          },
          "execution_count": 83
        }
      ]
    },
    {
      "cell_type": "code",
      "metadata": {
        "colab_type": "code",
        "id": "y02IO2qi7QPj",
        "outputId": "171df25d-aa26-4787-d22d-efb19e867741",
        "colab": {
          "base_uri": "https://localhost:8080/",
          "height": 125
        }
      },
      "source": [
        "df.apply(lambda x: x.max() - x.min())"
      ],
      "execution_count": 82,
      "outputs": [
        {
          "output_type": "execute_result",
          "data": {
            "text/plain": [
              "A    2.803666\n",
              "B    3.716679\n",
              "C    2.802071\n",
              "D    0.000000\n",
              "F    4.000000\n",
              "dtype: float64"
            ]
          },
          "metadata": {
            "tags": []
          },
          "execution_count": 82
        }
      ]
    },
    {
      "cell_type": "markdown",
      "metadata": {
        "colab_type": "text",
        "id": "UyvQC_nC6S6g"
      },
      "source": [
        "### Histogramming (히스토그래밍)"
      ]
    },
    {
      "cell_type": "markdown",
      "metadata": {
        "colab_type": "text",
        "id": "lKd5leGq7KDd"
      },
      "source": [
        "더 많은 내용은 [Histogramming and Discretization (히스토그래밍과 이산화)](https://pandas.pydata.org/pandas-docs/stable/basics.html#basics-discretization) 항목을 참조하세요."
      ]
    },
    {
      "cell_type": "code",
      "metadata": {
        "colab_type": "code",
        "id": "TL4MDK3o7I6X",
        "colab": {}
      },
      "source": [
        "s = pd.Series(np.random.randint(0, 7, size=10))"
      ],
      "execution_count": 0,
      "outputs": []
    },
    {
      "cell_type": "code",
      "metadata": {
        "colab_type": "code",
        "id": "1Aa6PhyU7TD0",
        "outputId": "43935cc9-5473-4a6b-afa1-a58777860b93",
        "colab": {
          "base_uri": "https://localhost:8080/",
          "height": 215
        }
      },
      "source": [
        "s"
      ],
      "execution_count": 86,
      "outputs": [
        {
          "output_type": "execute_result",
          "data": {
            "text/plain": [
              "0    2\n",
              "1    4\n",
              "2    4\n",
              "3    0\n",
              "4    6\n",
              "5    5\n",
              "6    2\n",
              "7    0\n",
              "8    3\n",
              "9    1\n",
              "dtype: int64"
            ]
          },
          "metadata": {
            "tags": []
          },
          "execution_count": 86
        }
      ]
    },
    {
      "cell_type": "code",
      "metadata": {
        "colab_type": "code",
        "id": "Jft1Ma0v7VLn",
        "outputId": "aa772992-dda6-44ad-ccc9-45066ae558e5",
        "colab": {
          "base_uri": "https://localhost:8080/",
          "height": 161
        }
      },
      "source": [
        "s.value_counts()"
      ],
      "execution_count": 87,
      "outputs": [
        {
          "output_type": "execute_result",
          "data": {
            "text/plain": [
              "4    2\n",
              "2    2\n",
              "0    2\n",
              "6    1\n",
              "5    1\n",
              "3    1\n",
              "1    1\n",
              "dtype: int64"
            ]
          },
          "metadata": {
            "tags": []
          },
          "execution_count": 87
        }
      ]
    },
    {
      "cell_type": "markdown",
      "metadata": {
        "colab_type": "text",
        "id": "WsQyIOdF6aPw"
      },
      "source": [
        "### String Methods (문자열 메소드)"
      ]
    },
    {
      "cell_type": "markdown",
      "metadata": {
        "colab_type": "text",
        "id": "ap_qOc_x7dwT"
      },
      "source": [
        "Series는 다음의 코드와 같이 문자열 처리 메소드 모음(set)을 가지고 있습니다. <br>\n",
        "이 모음은 배열의 각 요소를 쉽게 조작할 수 있도록 만들어주는 문자열의 속성에 포함되어 있습니다.\n",
        "\n",
        "문자열의 패턴 일치 확인은 기본적으로 정규 표현식을 사용하며, 몇몇 경우에는 항상 정규 표현식을 사용함에 유의하십시오.\n",
        "\n",
        "좀 더 자세한 내용은 [벡터화된 문자열 메소드](https://pandas.pydata.org/pandas-docs/stable/text.html#text-string-methods) 부분에서 확인할 수 있습니다."
      ]
    },
    {
      "cell_type": "code",
      "metadata": {
        "colab_type": "code",
        "id": "jn5Yl6Md7cqb",
        "colab": {}
      },
      "source": [
        "s = pd.Series(['A', 'B', 'C', 'Aaba', 'Baca', np.nan, 'CABA', 'dog', 'cat'])"
      ],
      "execution_count": 0,
      "outputs": []
    },
    {
      "cell_type": "code",
      "metadata": {
        "colab_type": "code",
        "id": "ZL7RxX4k8HHP",
        "outputId": "94c4a305-08f0-4a13-c61a-3179025bbd65",
        "colab": {
          "base_uri": "https://localhost:8080/",
          "height": 197
        }
      },
      "source": [
        "s.str.lower()"
      ],
      "execution_count": 89,
      "outputs": [
        {
          "output_type": "execute_result",
          "data": {
            "text/plain": [
              "0       a\n",
              "1       b\n",
              "2       c\n",
              "3    aaba\n",
              "4    baca\n",
              "5     NaN\n",
              "6    caba\n",
              "7     dog\n",
              "8     cat\n",
              "dtype: object"
            ]
          },
          "metadata": {
            "tags": []
          },
          "execution_count": 89
        }
      ]
    },
    {
      "cell_type": "markdown",
      "metadata": {
        "colab_type": "text",
        "id": "-NpTTJzF34oe"
      },
      "source": [
        "## Merge (병합)"
      ]
    },
    {
      "cell_type": "markdown",
      "metadata": {
        "colab_type": "text",
        "id": "fZWj-N4CLNig"
      },
      "source": [
        "### Concat (연결)"
      ]
    },
    {
      "cell_type": "markdown",
      "metadata": {
        "colab_type": "text",
        "id": "2XQbTp_-LNii"
      },
      "source": [
        "결합(join) / 병합(merge) 형태의 연산에 대한 인덱스, 관계 대수 기능을 위한 다양한 형태의 논리를 포함한 Series, 데이터프레임, Panel 객체를 손쉽게 결합할 수 있도록 하는 다양한 기능을 pandas 에서 제공합니다. "
      ]
    },
    {
      "cell_type": "markdown",
      "metadata": {
        "colab_type": "text",
        "id": "yFuabtnHLNii"
      },
      "source": [
        "[Merging](https://pandas.pydata.org/pandas-docs/stable/merging.html#merging) 부분을 참조하세요. "
      ]
    },
    {
      "cell_type": "markdown",
      "metadata": {
        "colab_type": "text",
        "id": "QcnDHOtILNii"
      },
      "source": [
        "[concat()](https://pandas.pydata.org/pandas-docs/stable/generated/pandas.concat.html#pandas.concat)으로 pandas 객체를 연결합니다. "
      ]
    },
    {
      "cell_type": "code",
      "metadata": {
        "colab_type": "code",
        "id": "TCrlCvfu_IKR",
        "colab": {}
      },
      "source": [
        "df = pd.DataFrame(np.random.randn(10, 4))"
      ],
      "execution_count": 0,
      "outputs": []
    },
    {
      "cell_type": "code",
      "metadata": {
        "colab_type": "code",
        "id": "mdOlcCIKAVri",
        "outputId": "7b2acdb6-6440-4386-f288-abfd25538ef8",
        "colab": {
          "base_uri": "https://localhost:8080/",
          "height": 359
        }
      },
      "source": [
        "df"
      ],
      "execution_count": 91,
      "outputs": [
        {
          "output_type": "execute_result",
          "data": {
            "text/html": [
              "<div>\n",
              "<style scoped>\n",
              "    .dataframe tbody tr th:only-of-type {\n",
              "        vertical-align: middle;\n",
              "    }\n",
              "\n",
              "    .dataframe tbody tr th {\n",
              "        vertical-align: top;\n",
              "    }\n",
              "\n",
              "    .dataframe thead th {\n",
              "        text-align: right;\n",
              "    }\n",
              "</style>\n",
              "<table border=\"1\" class=\"dataframe\">\n",
              "  <thead>\n",
              "    <tr style=\"text-align: right;\">\n",
              "      <th></th>\n",
              "      <th>0</th>\n",
              "      <th>1</th>\n",
              "      <th>2</th>\n",
              "      <th>3</th>\n",
              "    </tr>\n",
              "  </thead>\n",
              "  <tbody>\n",
              "    <tr>\n",
              "      <th>0</th>\n",
              "      <td>-1.192831</td>\n",
              "      <td>1.631692</td>\n",
              "      <td>0.649113</td>\n",
              "      <td>0.029496</td>\n",
              "    </tr>\n",
              "    <tr>\n",
              "      <th>1</th>\n",
              "      <td>-0.045704</td>\n",
              "      <td>1.236789</td>\n",
              "      <td>1.336133</td>\n",
              "      <td>-0.683055</td>\n",
              "    </tr>\n",
              "    <tr>\n",
              "      <th>2</th>\n",
              "      <td>-1.476061</td>\n",
              "      <td>-1.819502</td>\n",
              "      <td>-1.709311</td>\n",
              "      <td>0.627135</td>\n",
              "    </tr>\n",
              "    <tr>\n",
              "      <th>3</th>\n",
              "      <td>-0.785785</td>\n",
              "      <td>0.924148</td>\n",
              "      <td>0.740212</td>\n",
              "      <td>0.970931</td>\n",
              "    </tr>\n",
              "    <tr>\n",
              "      <th>4</th>\n",
              "      <td>-0.110403</td>\n",
              "      <td>1.323929</td>\n",
              "      <td>-0.204571</td>\n",
              "      <td>-0.091414</td>\n",
              "    </tr>\n",
              "    <tr>\n",
              "      <th>5</th>\n",
              "      <td>0.633006</td>\n",
              "      <td>0.759443</td>\n",
              "      <td>-0.227378</td>\n",
              "      <td>-0.007136</td>\n",
              "    </tr>\n",
              "    <tr>\n",
              "      <th>6</th>\n",
              "      <td>0.005386</td>\n",
              "      <td>2.605914</td>\n",
              "      <td>0.344754</td>\n",
              "      <td>1.301141</td>\n",
              "    </tr>\n",
              "    <tr>\n",
              "      <th>7</th>\n",
              "      <td>0.380225</td>\n",
              "      <td>0.139057</td>\n",
              "      <td>-0.221315</td>\n",
              "      <td>-0.665372</td>\n",
              "    </tr>\n",
              "    <tr>\n",
              "      <th>8</th>\n",
              "      <td>0.270744</td>\n",
              "      <td>2.320559</td>\n",
              "      <td>-0.501856</td>\n",
              "      <td>-0.454737</td>\n",
              "    </tr>\n",
              "    <tr>\n",
              "      <th>9</th>\n",
              "      <td>-0.817093</td>\n",
              "      <td>0.469055</td>\n",
              "      <td>-2.609038</td>\n",
              "      <td>-0.913517</td>\n",
              "    </tr>\n",
              "  </tbody>\n",
              "</table>\n",
              "</div>"
            ],
            "text/plain": [
              "          0         1         2         3\n",
              "0 -1.192831  1.631692  0.649113  0.029496\n",
              "1 -0.045704  1.236789  1.336133 -0.683055\n",
              "2 -1.476061 -1.819502 -1.709311  0.627135\n",
              "3 -0.785785  0.924148  0.740212  0.970931\n",
              "4 -0.110403  1.323929 -0.204571 -0.091414\n",
              "5  0.633006  0.759443 -0.227378 -0.007136\n",
              "6  0.005386  2.605914  0.344754  1.301141\n",
              "7  0.380225  0.139057 -0.221315 -0.665372\n",
              "8  0.270744  2.320559 -0.501856 -0.454737\n",
              "9 -0.817093  0.469055 -2.609038 -0.913517"
            ]
          },
          "metadata": {
            "tags": []
          },
          "execution_count": 91
        }
      ]
    },
    {
      "cell_type": "code",
      "metadata": {
        "colab_type": "code",
        "id": "eJgLcGzLAYU-",
        "colab": {
          "base_uri": "https://localhost:8080/",
          "height": 251
        },
        "outputId": "239c0ad3-d095-4bd9-cb1f-97ffc5b84387"
      },
      "source": [
        "# break it into pieces\n",
        "pieces = [df[:3], df[3:7], df[7:]]\n",
        "pieces"
      ],
      "execution_count": 99,
      "outputs": [
        {
          "output_type": "execute_result",
          "data": {
            "text/plain": [
              "[          0         1         2         3\n",
              " 0 -1.192831  1.631692  0.649113  0.029496\n",
              " 1 -0.045704  1.236789  1.336133 -0.683055\n",
              " 2 -1.476061 -1.819502 -1.709311  0.627135,\n",
              "           0         1         2         3\n",
              " 3 -0.785785  0.924148  0.740212  0.970931\n",
              " 4 -0.110403  1.323929 -0.204571 -0.091414\n",
              " 5  0.633006  0.759443 -0.227378 -0.007136\n",
              " 6  0.005386  2.605914  0.344754  1.301141,\n",
              "           0         1         2         3\n",
              " 7  0.380225  0.139057 -0.221315 -0.665372\n",
              " 8  0.270744  2.320559 -0.501856 -0.454737\n",
              " 9 -0.817093  0.469055 -2.609038 -0.913517]"
            ]
          },
          "metadata": {
            "tags": []
          },
          "execution_count": 99
        }
      ]
    },
    {
      "cell_type": "code",
      "metadata": {
        "colab_type": "code",
        "id": "JQE1qIJaxBWK",
        "outputId": "112191a7-2904-415d-e4a4-c37883f31e05",
        "colab": {
          "base_uri": "https://localhost:8080/",
          "height": 359
        }
      },
      "source": [
        "pd.concat(pieces)"
      ],
      "execution_count": 100,
      "outputs": [
        {
          "output_type": "execute_result",
          "data": {
            "text/html": [
              "<div>\n",
              "<style scoped>\n",
              "    .dataframe tbody tr th:only-of-type {\n",
              "        vertical-align: middle;\n",
              "    }\n",
              "\n",
              "    .dataframe tbody tr th {\n",
              "        vertical-align: top;\n",
              "    }\n",
              "\n",
              "    .dataframe thead th {\n",
              "        text-align: right;\n",
              "    }\n",
              "</style>\n",
              "<table border=\"1\" class=\"dataframe\">\n",
              "  <thead>\n",
              "    <tr style=\"text-align: right;\">\n",
              "      <th></th>\n",
              "      <th>0</th>\n",
              "      <th>1</th>\n",
              "      <th>2</th>\n",
              "      <th>3</th>\n",
              "    </tr>\n",
              "  </thead>\n",
              "  <tbody>\n",
              "    <tr>\n",
              "      <th>0</th>\n",
              "      <td>-1.192831</td>\n",
              "      <td>1.631692</td>\n",
              "      <td>0.649113</td>\n",
              "      <td>0.029496</td>\n",
              "    </tr>\n",
              "    <tr>\n",
              "      <th>1</th>\n",
              "      <td>-0.045704</td>\n",
              "      <td>1.236789</td>\n",
              "      <td>1.336133</td>\n",
              "      <td>-0.683055</td>\n",
              "    </tr>\n",
              "    <tr>\n",
              "      <th>2</th>\n",
              "      <td>-1.476061</td>\n",
              "      <td>-1.819502</td>\n",
              "      <td>-1.709311</td>\n",
              "      <td>0.627135</td>\n",
              "    </tr>\n",
              "    <tr>\n",
              "      <th>3</th>\n",
              "      <td>-0.785785</td>\n",
              "      <td>0.924148</td>\n",
              "      <td>0.740212</td>\n",
              "      <td>0.970931</td>\n",
              "    </tr>\n",
              "    <tr>\n",
              "      <th>4</th>\n",
              "      <td>-0.110403</td>\n",
              "      <td>1.323929</td>\n",
              "      <td>-0.204571</td>\n",
              "      <td>-0.091414</td>\n",
              "    </tr>\n",
              "    <tr>\n",
              "      <th>5</th>\n",
              "      <td>0.633006</td>\n",
              "      <td>0.759443</td>\n",
              "      <td>-0.227378</td>\n",
              "      <td>-0.007136</td>\n",
              "    </tr>\n",
              "    <tr>\n",
              "      <th>6</th>\n",
              "      <td>0.005386</td>\n",
              "      <td>2.605914</td>\n",
              "      <td>0.344754</td>\n",
              "      <td>1.301141</td>\n",
              "    </tr>\n",
              "    <tr>\n",
              "      <th>7</th>\n",
              "      <td>0.380225</td>\n",
              "      <td>0.139057</td>\n",
              "      <td>-0.221315</td>\n",
              "      <td>-0.665372</td>\n",
              "    </tr>\n",
              "    <tr>\n",
              "      <th>8</th>\n",
              "      <td>0.270744</td>\n",
              "      <td>2.320559</td>\n",
              "      <td>-0.501856</td>\n",
              "      <td>-0.454737</td>\n",
              "    </tr>\n",
              "    <tr>\n",
              "      <th>9</th>\n",
              "      <td>-0.817093</td>\n",
              "      <td>0.469055</td>\n",
              "      <td>-2.609038</td>\n",
              "      <td>-0.913517</td>\n",
              "    </tr>\n",
              "  </tbody>\n",
              "</table>\n",
              "</div>"
            ],
            "text/plain": [
              "          0         1         2         3\n",
              "0 -1.192831  1.631692  0.649113  0.029496\n",
              "1 -0.045704  1.236789  1.336133 -0.683055\n",
              "2 -1.476061 -1.819502 -1.709311  0.627135\n",
              "3 -0.785785  0.924148  0.740212  0.970931\n",
              "4 -0.110403  1.323929 -0.204571 -0.091414\n",
              "5  0.633006  0.759443 -0.227378 -0.007136\n",
              "6  0.005386  2.605914  0.344754  1.301141\n",
              "7  0.380225  0.139057 -0.221315 -0.665372\n",
              "8  0.270744  2.320559 -0.501856 -0.454737\n",
              "9 -0.817093  0.469055 -2.609038 -0.913517"
            ]
          },
          "metadata": {
            "tags": []
          },
          "execution_count": 100
        }
      ]
    },
    {
      "cell_type": "markdown",
      "metadata": {
        "colab_type": "text",
        "id": "7IBM0m8GLNjX"
      },
      "source": [
        "### Join (결합)"
      ]
    },
    {
      "cell_type": "markdown",
      "metadata": {
        "colab_type": "text",
        "id": "AxRyEICVkHJb"
      },
      "source": [
        "SQL 방식으로 병합합니다. [데이터베이스 스타일 결합](https://pandas.pydata.org/pandas-docs/stable/merging.html#merging-join) 부분을 참고하세요."
      ]
    },
    {
      "cell_type": "code",
      "metadata": {
        "colab_type": "code",
        "id": "e-srIyoILNjX",
        "colab": {}
      },
      "source": [
        "left = pd.DataFrame({'key': ['foo', 'foo'], 'lval': [1, 2]})"
      ],
      "execution_count": 0,
      "outputs": []
    },
    {
      "cell_type": "code",
      "metadata": {
        "colab_type": "code",
        "id": "v5bAleqrLNjZ",
        "colab": {}
      },
      "source": [
        "right = pd.DataFrame({'key': ['foo', 'foo'], 'rval': [4, 5]})"
      ],
      "execution_count": 0,
      "outputs": []
    },
    {
      "cell_type": "code",
      "metadata": {
        "colab_type": "code",
        "id": "wFKpjvEWLNja",
        "outputId": "77591abe-5783-4624-b710-0534076306b0",
        "colab": {
          "base_uri": "https://localhost:8080/",
          "height": 111
        }
      },
      "source": [
        "left"
      ],
      "execution_count": 104,
      "outputs": [
        {
          "output_type": "execute_result",
          "data": {
            "text/html": [
              "<div>\n",
              "<style scoped>\n",
              "    .dataframe tbody tr th:only-of-type {\n",
              "        vertical-align: middle;\n",
              "    }\n",
              "\n",
              "    .dataframe tbody tr th {\n",
              "        vertical-align: top;\n",
              "    }\n",
              "\n",
              "    .dataframe thead th {\n",
              "        text-align: right;\n",
              "    }\n",
              "</style>\n",
              "<table border=\"1\" class=\"dataframe\">\n",
              "  <thead>\n",
              "    <tr style=\"text-align: right;\">\n",
              "      <th></th>\n",
              "      <th>key</th>\n",
              "      <th>lval</th>\n",
              "    </tr>\n",
              "  </thead>\n",
              "  <tbody>\n",
              "    <tr>\n",
              "      <th>0</th>\n",
              "      <td>foo</td>\n",
              "      <td>1</td>\n",
              "    </tr>\n",
              "    <tr>\n",
              "      <th>1</th>\n",
              "      <td>foo</td>\n",
              "      <td>2</td>\n",
              "    </tr>\n",
              "  </tbody>\n",
              "</table>\n",
              "</div>"
            ],
            "text/plain": [
              "   key  lval\n",
              "0  foo     1\n",
              "1  foo     2"
            ]
          },
          "metadata": {
            "tags": []
          },
          "execution_count": 104
        }
      ]
    },
    {
      "cell_type": "code",
      "metadata": {
        "colab_type": "code",
        "id": "yg9oRrTA4ntI",
        "outputId": "409bdbed-21fa-4d76-bc32-3213610500c6",
        "colab": {
          "base_uri": "https://localhost:8080/",
          "height": 111
        }
      },
      "source": [
        "right"
      ],
      "execution_count": 105,
      "outputs": [
        {
          "output_type": "execute_result",
          "data": {
            "text/html": [
              "<div>\n",
              "<style scoped>\n",
              "    .dataframe tbody tr th:only-of-type {\n",
              "        vertical-align: middle;\n",
              "    }\n",
              "\n",
              "    .dataframe tbody tr th {\n",
              "        vertical-align: top;\n",
              "    }\n",
              "\n",
              "    .dataframe thead th {\n",
              "        text-align: right;\n",
              "    }\n",
              "</style>\n",
              "<table border=\"1\" class=\"dataframe\">\n",
              "  <thead>\n",
              "    <tr style=\"text-align: right;\">\n",
              "      <th></th>\n",
              "      <th>key</th>\n",
              "      <th>rval</th>\n",
              "    </tr>\n",
              "  </thead>\n",
              "  <tbody>\n",
              "    <tr>\n",
              "      <th>0</th>\n",
              "      <td>foo</td>\n",
              "      <td>4</td>\n",
              "    </tr>\n",
              "    <tr>\n",
              "      <th>1</th>\n",
              "      <td>foo</td>\n",
              "      <td>5</td>\n",
              "    </tr>\n",
              "  </tbody>\n",
              "</table>\n",
              "</div>"
            ],
            "text/plain": [
              "   key  rval\n",
              "0  foo     4\n",
              "1  foo     5"
            ]
          },
          "metadata": {
            "tags": []
          },
          "execution_count": 105
        }
      ]
    },
    {
      "cell_type": "code",
      "metadata": {
        "colab_type": "code",
        "id": "5fN8wCZl5qVv",
        "outputId": "657b1362-3917-47ed-bc05-0a8a3aa5e63c",
        "colab": {
          "base_uri": "https://localhost:8080/",
          "height": 173
        }
      },
      "source": [
        "pd.merge(left, right, on= 'key')"
      ],
      "execution_count": 106,
      "outputs": [
        {
          "output_type": "execute_result",
          "data": {
            "text/html": [
              "<div>\n",
              "<style scoped>\n",
              "    .dataframe tbody tr th:only-of-type {\n",
              "        vertical-align: middle;\n",
              "    }\n",
              "\n",
              "    .dataframe tbody tr th {\n",
              "        vertical-align: top;\n",
              "    }\n",
              "\n",
              "    .dataframe thead th {\n",
              "        text-align: right;\n",
              "    }\n",
              "</style>\n",
              "<table border=\"1\" class=\"dataframe\">\n",
              "  <thead>\n",
              "    <tr style=\"text-align: right;\">\n",
              "      <th></th>\n",
              "      <th>key</th>\n",
              "      <th>lval</th>\n",
              "      <th>rval</th>\n",
              "    </tr>\n",
              "  </thead>\n",
              "  <tbody>\n",
              "    <tr>\n",
              "      <th>0</th>\n",
              "      <td>foo</td>\n",
              "      <td>1</td>\n",
              "      <td>4</td>\n",
              "    </tr>\n",
              "    <tr>\n",
              "      <th>1</th>\n",
              "      <td>foo</td>\n",
              "      <td>1</td>\n",
              "      <td>5</td>\n",
              "    </tr>\n",
              "    <tr>\n",
              "      <th>2</th>\n",
              "      <td>foo</td>\n",
              "      <td>2</td>\n",
              "      <td>4</td>\n",
              "    </tr>\n",
              "    <tr>\n",
              "      <th>3</th>\n",
              "      <td>foo</td>\n",
              "      <td>2</td>\n",
              "      <td>5</td>\n",
              "    </tr>\n",
              "  </tbody>\n",
              "</table>\n",
              "</div>"
            ],
            "text/plain": [
              "   key  lval  rval\n",
              "0  foo     1     4\n",
              "1  foo     1     5\n",
              "2  foo     2     4\n",
              "3  foo     2     5"
            ]
          },
          "metadata": {
            "tags": []
          },
          "execution_count": 106
        }
      ]
    },
    {
      "cell_type": "markdown",
      "metadata": {
        "colab_type": "text",
        "id": "UEBAM4h6_gid"
      },
      "source": [
        "다른 예시입니다."
      ]
    },
    {
      "cell_type": "code",
      "metadata": {
        "colab_type": "code",
        "id": "h2Xlgd-o6xIx",
        "colab": {}
      },
      "source": [
        "left = pd.DataFrame({'key' : ['foo', 'bar'], 'lval' : [1, 2]})"
      ],
      "execution_count": 0,
      "outputs": []
    },
    {
      "cell_type": "code",
      "metadata": {
        "colab_type": "code",
        "id": "8FnaD9XoAtnd",
        "colab": {}
      },
      "source": [
        "right = pd.DataFrame({'key': ['foo', 'bar'], 'rval': [4, 5]})"
      ],
      "execution_count": 0,
      "outputs": []
    },
    {
      "cell_type": "code",
      "metadata": {
        "colab_type": "code",
        "id": "Y15ZVKlKA--o",
        "outputId": "bbeecea5-c885-4ef9-c372-b2a87726630f",
        "colab": {
          "base_uri": "https://localhost:8080/",
          "height": 111
        }
      },
      "source": [
        "left"
      ],
      "execution_count": 108,
      "outputs": [
        {
          "output_type": "execute_result",
          "data": {
            "text/html": [
              "<div>\n",
              "<style scoped>\n",
              "    .dataframe tbody tr th:only-of-type {\n",
              "        vertical-align: middle;\n",
              "    }\n",
              "\n",
              "    .dataframe tbody tr th {\n",
              "        vertical-align: top;\n",
              "    }\n",
              "\n",
              "    .dataframe thead th {\n",
              "        text-align: right;\n",
              "    }\n",
              "</style>\n",
              "<table border=\"1\" class=\"dataframe\">\n",
              "  <thead>\n",
              "    <tr style=\"text-align: right;\">\n",
              "      <th></th>\n",
              "      <th>key</th>\n",
              "      <th>lval</th>\n",
              "    </tr>\n",
              "  </thead>\n",
              "  <tbody>\n",
              "    <tr>\n",
              "      <th>0</th>\n",
              "      <td>foo</td>\n",
              "      <td>1</td>\n",
              "    </tr>\n",
              "    <tr>\n",
              "      <th>1</th>\n",
              "      <td>bar</td>\n",
              "      <td>2</td>\n",
              "    </tr>\n",
              "  </tbody>\n",
              "</table>\n",
              "</div>"
            ],
            "text/plain": [
              "   key  lval\n",
              "0  foo     1\n",
              "1  bar     2"
            ]
          },
          "metadata": {
            "tags": []
          },
          "execution_count": 108
        }
      ]
    },
    {
      "cell_type": "code",
      "metadata": {
        "colab_type": "code",
        "id": "ZRpNjm6wBCW0",
        "outputId": "0ca4718f-a624-482b-a3b6-272e96b9c130",
        "colab": {
          "base_uri": "https://localhost:8080/",
          "height": 111
        }
      },
      "source": [
        "right "
      ],
      "execution_count": 110,
      "outputs": [
        {
          "output_type": "execute_result",
          "data": {
            "text/html": [
              "<div>\n",
              "<style scoped>\n",
              "    .dataframe tbody tr th:only-of-type {\n",
              "        vertical-align: middle;\n",
              "    }\n",
              "\n",
              "    .dataframe tbody tr th {\n",
              "        vertical-align: top;\n",
              "    }\n",
              "\n",
              "    .dataframe thead th {\n",
              "        text-align: right;\n",
              "    }\n",
              "</style>\n",
              "<table border=\"1\" class=\"dataframe\">\n",
              "  <thead>\n",
              "    <tr style=\"text-align: right;\">\n",
              "      <th></th>\n",
              "      <th>key</th>\n",
              "      <th>rval</th>\n",
              "    </tr>\n",
              "  </thead>\n",
              "  <tbody>\n",
              "    <tr>\n",
              "      <th>0</th>\n",
              "      <td>foo</td>\n",
              "      <td>4</td>\n",
              "    </tr>\n",
              "    <tr>\n",
              "      <th>1</th>\n",
              "      <td>bar</td>\n",
              "      <td>5</td>\n",
              "    </tr>\n",
              "  </tbody>\n",
              "</table>\n",
              "</div>"
            ],
            "text/plain": [
              "   key  rval\n",
              "0  foo     4\n",
              "1  bar     5"
            ]
          },
          "metadata": {
            "tags": []
          },
          "execution_count": 110
        }
      ]
    },
    {
      "cell_type": "code",
      "metadata": {
        "colab_type": "code",
        "id": "duVQRnqnBFPe",
        "outputId": "665d2aa5-b50f-4288-8261-2ca2b2e07f5b",
        "colab": {
          "base_uri": "https://localhost:8080/",
          "height": 108
        }
      },
      "source": [
        "pd.merge(left, right, on= 'key')"
      ],
      "execution_count": 0,
      "outputs": [
        {
          "output_type": "execute_result",
          "data": {
            "text/html": [
              "<div>\n",
              "<style>\n",
              "    .dataframe thead tr:only-child th {\n",
              "        text-align: right;\n",
              "    }\n",
              "\n",
              "    .dataframe thead th {\n",
              "        text-align: left;\n",
              "    }\n",
              "\n",
              "    .dataframe tbody tr th {\n",
              "        vertical-align: top;\n",
              "    }\n",
              "</style>\n",
              "<table border=\"1\" class=\"dataframe\">\n",
              "  <thead>\n",
              "    <tr style=\"text-align: right;\">\n",
              "      <th></th>\n",
              "      <th>key</th>\n",
              "      <th>lval</th>\n",
              "      <th>rval</th>\n",
              "    </tr>\n",
              "  </thead>\n",
              "  <tbody>\n",
              "    <tr>\n",
              "      <th>0</th>\n",
              "      <td>foo</td>\n",
              "      <td>1</td>\n",
              "      <td>4</td>\n",
              "    </tr>\n",
              "    <tr>\n",
              "      <th>1</th>\n",
              "      <td>bar</td>\n",
              "      <td>2</td>\n",
              "      <td>5</td>\n",
              "    </tr>\n",
              "  </tbody>\n",
              "</table>\n",
              "</div>"
            ],
            "text/plain": [
              "   key  lval  rval\n",
              "0  foo     1     4\n",
              "1  bar     2     5"
            ]
          },
          "metadata": {
            "tags": []
          },
          "execution_count": 86
        }
      ]
    },
    {
      "cell_type": "markdown",
      "metadata": {
        "colab_type": "text",
        "id": "9-CsJ6kHLNjc"
      },
      "source": [
        "### Append (추가)"
      ]
    },
    {
      "cell_type": "markdown",
      "metadata": {
        "colab_type": "text",
        "id": "CQoQZg9aLNjc"
      },
      "source": [
        "데이터프레임에 행을 추가합니다. [Appending](https://pandas.pydata.org/pandas-docs/stable/merging.html#merging-concatenation) 부분을 참조하세요."
      ]
    },
    {
      "cell_type": "code",
      "metadata": {
        "colab_type": "code",
        "id": "DniPx4zTLNjc",
        "colab": {}
      },
      "source": [
        "df = pd.DataFrame(np.random.randn(8, 4), columns=['A', 'B', 'C', 'D'])"
      ],
      "execution_count": 0,
      "outputs": []
    },
    {
      "cell_type": "code",
      "metadata": {
        "colab_type": "code",
        "id": "Z83pFze46h4h",
        "outputId": "b9dfbcb8-8ef6-4c76-cc84-a56153ab1a42",
        "colab": {
          "base_uri": "https://localhost:8080/",
          "height": 297
        }
      },
      "source": [
        "df"
      ],
      "execution_count": 112,
      "outputs": [
        {
          "output_type": "execute_result",
          "data": {
            "text/html": [
              "<div>\n",
              "<style scoped>\n",
              "    .dataframe tbody tr th:only-of-type {\n",
              "        vertical-align: middle;\n",
              "    }\n",
              "\n",
              "    .dataframe tbody tr th {\n",
              "        vertical-align: top;\n",
              "    }\n",
              "\n",
              "    .dataframe thead th {\n",
              "        text-align: right;\n",
              "    }\n",
              "</style>\n",
              "<table border=\"1\" class=\"dataframe\">\n",
              "  <thead>\n",
              "    <tr style=\"text-align: right;\">\n",
              "      <th></th>\n",
              "      <th>A</th>\n",
              "      <th>B</th>\n",
              "      <th>C</th>\n",
              "      <th>D</th>\n",
              "    </tr>\n",
              "  </thead>\n",
              "  <tbody>\n",
              "    <tr>\n",
              "      <th>0</th>\n",
              "      <td>0.645876</td>\n",
              "      <td>-0.664599</td>\n",
              "      <td>-0.347353</td>\n",
              "      <td>-0.590678</td>\n",
              "    </tr>\n",
              "    <tr>\n",
              "      <th>1</th>\n",
              "      <td>-0.012097</td>\n",
              "      <td>-0.115394</td>\n",
              "      <td>-0.587308</td>\n",
              "      <td>1.092379</td>\n",
              "    </tr>\n",
              "    <tr>\n",
              "      <th>2</th>\n",
              "      <td>0.559986</td>\n",
              "      <td>1.042613</td>\n",
              "      <td>-0.285882</td>\n",
              "      <td>-0.884321</td>\n",
              "    </tr>\n",
              "    <tr>\n",
              "      <th>3</th>\n",
              "      <td>-0.760729</td>\n",
              "      <td>-0.336904</td>\n",
              "      <td>-0.721495</td>\n",
              "      <td>1.260296</td>\n",
              "    </tr>\n",
              "    <tr>\n",
              "      <th>4</th>\n",
              "      <td>1.993803</td>\n",
              "      <td>1.738671</td>\n",
              "      <td>-0.626784</td>\n",
              "      <td>0.838815</td>\n",
              "    </tr>\n",
              "    <tr>\n",
              "      <th>5</th>\n",
              "      <td>-0.894440</td>\n",
              "      <td>0.319730</td>\n",
              "      <td>-1.960803</td>\n",
              "      <td>-0.117893</td>\n",
              "    </tr>\n",
              "    <tr>\n",
              "      <th>6</th>\n",
              "      <td>-0.428472</td>\n",
              "      <td>-0.788451</td>\n",
              "      <td>-0.741548</td>\n",
              "      <td>-0.801041</td>\n",
              "    </tr>\n",
              "    <tr>\n",
              "      <th>7</th>\n",
              "      <td>1.488959</td>\n",
              "      <td>0.015121</td>\n",
              "      <td>-2.824825</td>\n",
              "      <td>-0.312635</td>\n",
              "    </tr>\n",
              "  </tbody>\n",
              "</table>\n",
              "</div>"
            ],
            "text/plain": [
              "          A         B         C         D\n",
              "0  0.645876 -0.664599 -0.347353 -0.590678\n",
              "1 -0.012097 -0.115394 -0.587308  1.092379\n",
              "2  0.559986  1.042613 -0.285882 -0.884321\n",
              "3 -0.760729 -0.336904 -0.721495  1.260296\n",
              "4  1.993803  1.738671 -0.626784  0.838815\n",
              "5 -0.894440  0.319730 -1.960803 -0.117893\n",
              "6 -0.428472 -0.788451 -0.741548 -0.801041\n",
              "7  1.488959  0.015121 -2.824825 -0.312635"
            ]
          },
          "metadata": {
            "tags": []
          },
          "execution_count": 112
        }
      ]
    },
    {
      "cell_type": "code",
      "metadata": {
        "colab_type": "code",
        "id": "Bqm6NMtW6j12",
        "colab": {}
      },
      "source": [
        "s = df.iloc[3]"
      ],
      "execution_count": 0,
      "outputs": []
    },
    {
      "cell_type": "code",
      "metadata": {
        "colab_type": "code",
        "id": "I3PtsAkF6lpI",
        "outputId": "6fbfe333-b18b-426b-eef0-49e472c9911f",
        "colab": {
          "base_uri": "https://localhost:8080/",
          "height": 328
        }
      },
      "source": [
        "df.append(s, ignore_index=True)"
      ],
      "execution_count": 114,
      "outputs": [
        {
          "output_type": "execute_result",
          "data": {
            "text/html": [
              "<div>\n",
              "<style scoped>\n",
              "    .dataframe tbody tr th:only-of-type {\n",
              "        vertical-align: middle;\n",
              "    }\n",
              "\n",
              "    .dataframe tbody tr th {\n",
              "        vertical-align: top;\n",
              "    }\n",
              "\n",
              "    .dataframe thead th {\n",
              "        text-align: right;\n",
              "    }\n",
              "</style>\n",
              "<table border=\"1\" class=\"dataframe\">\n",
              "  <thead>\n",
              "    <tr style=\"text-align: right;\">\n",
              "      <th></th>\n",
              "      <th>A</th>\n",
              "      <th>B</th>\n",
              "      <th>C</th>\n",
              "      <th>D</th>\n",
              "    </tr>\n",
              "  </thead>\n",
              "  <tbody>\n",
              "    <tr>\n",
              "      <th>0</th>\n",
              "      <td>0.645876</td>\n",
              "      <td>-0.664599</td>\n",
              "      <td>-0.347353</td>\n",
              "      <td>-0.590678</td>\n",
              "    </tr>\n",
              "    <tr>\n",
              "      <th>1</th>\n",
              "      <td>-0.012097</td>\n",
              "      <td>-0.115394</td>\n",
              "      <td>-0.587308</td>\n",
              "      <td>1.092379</td>\n",
              "    </tr>\n",
              "    <tr>\n",
              "      <th>2</th>\n",
              "      <td>0.559986</td>\n",
              "      <td>1.042613</td>\n",
              "      <td>-0.285882</td>\n",
              "      <td>-0.884321</td>\n",
              "    </tr>\n",
              "    <tr>\n",
              "      <th>3</th>\n",
              "      <td>-0.760729</td>\n",
              "      <td>-0.336904</td>\n",
              "      <td>-0.721495</td>\n",
              "      <td>1.260296</td>\n",
              "    </tr>\n",
              "    <tr>\n",
              "      <th>4</th>\n",
              "      <td>1.993803</td>\n",
              "      <td>1.738671</td>\n",
              "      <td>-0.626784</td>\n",
              "      <td>0.838815</td>\n",
              "    </tr>\n",
              "    <tr>\n",
              "      <th>5</th>\n",
              "      <td>-0.894440</td>\n",
              "      <td>0.319730</td>\n",
              "      <td>-1.960803</td>\n",
              "      <td>-0.117893</td>\n",
              "    </tr>\n",
              "    <tr>\n",
              "      <th>6</th>\n",
              "      <td>-0.428472</td>\n",
              "      <td>-0.788451</td>\n",
              "      <td>-0.741548</td>\n",
              "      <td>-0.801041</td>\n",
              "    </tr>\n",
              "    <tr>\n",
              "      <th>7</th>\n",
              "      <td>1.488959</td>\n",
              "      <td>0.015121</td>\n",
              "      <td>-2.824825</td>\n",
              "      <td>-0.312635</td>\n",
              "    </tr>\n",
              "    <tr>\n",
              "      <th>8</th>\n",
              "      <td>-0.760729</td>\n",
              "      <td>-0.336904</td>\n",
              "      <td>-0.721495</td>\n",
              "      <td>1.260296</td>\n",
              "    </tr>\n",
              "  </tbody>\n",
              "</table>\n",
              "</div>"
            ],
            "text/plain": [
              "          A         B         C         D\n",
              "0  0.645876 -0.664599 -0.347353 -0.590678\n",
              "1 -0.012097 -0.115394 -0.587308  1.092379\n",
              "2  0.559986  1.042613 -0.285882 -0.884321\n",
              "3 -0.760729 -0.336904 -0.721495  1.260296\n",
              "4  1.993803  1.738671 -0.626784  0.838815\n",
              "5 -0.894440  0.319730 -1.960803 -0.117893\n",
              "6 -0.428472 -0.788451 -0.741548 -0.801041\n",
              "7  1.488959  0.015121 -2.824825 -0.312635\n",
              "8 -0.760729 -0.336904 -0.721495  1.260296"
            ]
          },
          "metadata": {
            "tags": []
          },
          "execution_count": 114
        }
      ]
    },
    {
      "cell_type": "markdown",
      "metadata": {
        "colab_type": "text",
        "id": "6VaJ6ty_3v09"
      },
      "source": [
        "## Grouping (그룹화)"
      ]
    },
    {
      "cell_type": "markdown",
      "metadata": {
        "colab_type": "text",
        "id": "SwXynO524KcN"
      },
      "source": [
        "**그룹화**는 다음 단계 중 하나 이상을 포함하는 과정을 가리킵니다.\n",
        "\n",
        "- 몇몇 기준에 따라 여러 그룹으로 데이터를 **분할(Splitting)**\n",
        "- 각 그룹에 독립적으로 함수를 **적용(Applying)**\n",
        "- 결과물들을 하나의 데이터 구조로  **결합(Combining)**\n",
        "\n",
        "자세한 내용은 [그룹화](https://pandas.pydata.org/pandas-docs/stable/groupby.html#groupby) 부분을 참조하세요."
      ]
    },
    {
      "cell_type": "code",
      "metadata": {
        "colab_type": "code",
        "id": "pO0cOZtU4Mvl",
        "colab": {}
      },
      "source": [
        "df = pd.DataFrame(\n",
        "    {\n",
        "        'A' : ['foo', 'bar', 'foo', 'bar', 'foo', 'bar', 'foo', 'foo'],\n",
        "        'B' : ['one', 'one', 'two', 'three', 'two', 'two', 'one', 'three'],\n",
        "        'C' : np.random.randn(8),\n",
        "        'D' : np.random.randn(8)\n",
        "    })"
      ],
      "execution_count": 0,
      "outputs": []
    },
    {
      "cell_type": "code",
      "metadata": {
        "colab_type": "code",
        "id": "H1aI7vJB4P72",
        "outputId": "8c32dd94-a8d7-4abe-d01b-20f1eba2342e",
        "colab": {
          "base_uri": "https://localhost:8080/",
          "height": 297
        }
      },
      "source": [
        "df"
      ],
      "execution_count": 116,
      "outputs": [
        {
          "output_type": "execute_result",
          "data": {
            "text/html": [
              "<div>\n",
              "<style scoped>\n",
              "    .dataframe tbody tr th:only-of-type {\n",
              "        vertical-align: middle;\n",
              "    }\n",
              "\n",
              "    .dataframe tbody tr th {\n",
              "        vertical-align: top;\n",
              "    }\n",
              "\n",
              "    .dataframe thead th {\n",
              "        text-align: right;\n",
              "    }\n",
              "</style>\n",
              "<table border=\"1\" class=\"dataframe\">\n",
              "  <thead>\n",
              "    <tr style=\"text-align: right;\">\n",
              "      <th></th>\n",
              "      <th>A</th>\n",
              "      <th>B</th>\n",
              "      <th>C</th>\n",
              "      <th>D</th>\n",
              "    </tr>\n",
              "  </thead>\n",
              "  <tbody>\n",
              "    <tr>\n",
              "      <th>0</th>\n",
              "      <td>foo</td>\n",
              "      <td>one</td>\n",
              "      <td>1.132241</td>\n",
              "      <td>-1.880919</td>\n",
              "    </tr>\n",
              "    <tr>\n",
              "      <th>1</th>\n",
              "      <td>bar</td>\n",
              "      <td>one</td>\n",
              "      <td>2.027857</td>\n",
              "      <td>1.154570</td>\n",
              "    </tr>\n",
              "    <tr>\n",
              "      <th>2</th>\n",
              "      <td>foo</td>\n",
              "      <td>two</td>\n",
              "      <td>1.021069</td>\n",
              "      <td>-0.870133</td>\n",
              "    </tr>\n",
              "    <tr>\n",
              "      <th>3</th>\n",
              "      <td>bar</td>\n",
              "      <td>three</td>\n",
              "      <td>-0.031875</td>\n",
              "      <td>0.036056</td>\n",
              "    </tr>\n",
              "    <tr>\n",
              "      <th>4</th>\n",
              "      <td>foo</td>\n",
              "      <td>two</td>\n",
              "      <td>0.583905</td>\n",
              "      <td>-0.372371</td>\n",
              "    </tr>\n",
              "    <tr>\n",
              "      <th>5</th>\n",
              "      <td>bar</td>\n",
              "      <td>two</td>\n",
              "      <td>-1.279908</td>\n",
              "      <td>-1.959512</td>\n",
              "    </tr>\n",
              "    <tr>\n",
              "      <th>6</th>\n",
              "      <td>foo</td>\n",
              "      <td>one</td>\n",
              "      <td>-0.778141</td>\n",
              "      <td>0.198288</td>\n",
              "    </tr>\n",
              "    <tr>\n",
              "      <th>7</th>\n",
              "      <td>foo</td>\n",
              "      <td>three</td>\n",
              "      <td>0.353884</td>\n",
              "      <td>0.325420</td>\n",
              "    </tr>\n",
              "  </tbody>\n",
              "</table>\n",
              "</div>"
            ],
            "text/plain": [
              "     A      B         C         D\n",
              "0  foo    one  1.132241 -1.880919\n",
              "1  bar    one  2.027857  1.154570\n",
              "2  foo    two  1.021069 -0.870133\n",
              "3  bar  three -0.031875  0.036056\n",
              "4  foo    two  0.583905 -0.372371\n",
              "5  bar    two -1.279908 -1.959512\n",
              "6  foo    one -0.778141  0.198288\n",
              "7  foo  three  0.353884  0.325420"
            ]
          },
          "metadata": {
            "tags": []
          },
          "execution_count": 116
        }
      ]
    },
    {
      "cell_type": "markdown",
      "metadata": {
        "colab_type": "text",
        "id": "71rM8bizCRRB"
      },
      "source": [
        "(생성된 데이터프레임을) 그룹화한 후 각 그룹에 [sum()](https://pandas.pydata.org/pandas-docs/stable/generated/pandas.DataFrame.sum.html#pandas.DataFrame.sum) 함수를 적용합니다."
      ]
    },
    {
      "cell_type": "code",
      "metadata": {
        "colab_type": "code",
        "id": "dJ4kqsJe4RfY",
        "outputId": "be970eb7-3e91-4941-8a65-4bd374758ce5",
        "colab": {
          "base_uri": "https://localhost:8080/",
          "height": 142
        }
      },
      "source": [
        "df.groupby('A').sum()"
      ],
      "execution_count": 117,
      "outputs": [
        {
          "output_type": "execute_result",
          "data": {
            "text/html": [
              "<div>\n",
              "<style scoped>\n",
              "    .dataframe tbody tr th:only-of-type {\n",
              "        vertical-align: middle;\n",
              "    }\n",
              "\n",
              "    .dataframe tbody tr th {\n",
              "        vertical-align: top;\n",
              "    }\n",
              "\n",
              "    .dataframe thead th {\n",
              "        text-align: right;\n",
              "    }\n",
              "</style>\n",
              "<table border=\"1\" class=\"dataframe\">\n",
              "  <thead>\n",
              "    <tr style=\"text-align: right;\">\n",
              "      <th></th>\n",
              "      <th>C</th>\n",
              "      <th>D</th>\n",
              "    </tr>\n",
              "    <tr>\n",
              "      <th>A</th>\n",
              "      <th></th>\n",
              "      <th></th>\n",
              "    </tr>\n",
              "  </thead>\n",
              "  <tbody>\n",
              "    <tr>\n",
              "      <th>bar</th>\n",
              "      <td>0.716074</td>\n",
              "      <td>-0.768886</td>\n",
              "    </tr>\n",
              "    <tr>\n",
              "      <th>foo</th>\n",
              "      <td>2.312958</td>\n",
              "      <td>-2.599716</td>\n",
              "    </tr>\n",
              "  </tbody>\n",
              "</table>\n",
              "</div>"
            ],
            "text/plain": [
              "            C         D\n",
              "A                      \n",
              "bar  0.716074 -0.768886\n",
              "foo  2.312958 -2.599716"
            ]
          },
          "metadata": {
            "tags": []
          },
          "execution_count": 117
        }
      ]
    },
    {
      "cell_type": "markdown",
      "metadata": {
        "colab_type": "text",
        "id": "jap0wSpO4Sn4"
      },
      "source": [
        "여러 열을 기준으로 그룹화하면 계층적 인덱스가 형성됩니다. 여기에도 sum 함수를 적용할 수 있습니다."
      ]
    },
    {
      "cell_type": "code",
      "metadata": {
        "colab_type": "code",
        "id": "iRZP8UKC4TvZ",
        "outputId": "954ef84f-0f21-47ba-bfc1-1975140b33ec",
        "colab": {
          "base_uri": "https://localhost:8080/",
          "height": 266
        }
      },
      "source": [
        "df.groupby(['A','B']).sum()"
      ],
      "execution_count": 118,
      "outputs": [
        {
          "output_type": "execute_result",
          "data": {
            "text/html": [
              "<div>\n",
              "<style scoped>\n",
              "    .dataframe tbody tr th:only-of-type {\n",
              "        vertical-align: middle;\n",
              "    }\n",
              "\n",
              "    .dataframe tbody tr th {\n",
              "        vertical-align: top;\n",
              "    }\n",
              "\n",
              "    .dataframe thead th {\n",
              "        text-align: right;\n",
              "    }\n",
              "</style>\n",
              "<table border=\"1\" class=\"dataframe\">\n",
              "  <thead>\n",
              "    <tr style=\"text-align: right;\">\n",
              "      <th></th>\n",
              "      <th></th>\n",
              "      <th>C</th>\n",
              "      <th>D</th>\n",
              "    </tr>\n",
              "    <tr>\n",
              "      <th>A</th>\n",
              "      <th>B</th>\n",
              "      <th></th>\n",
              "      <th></th>\n",
              "    </tr>\n",
              "  </thead>\n",
              "  <tbody>\n",
              "    <tr>\n",
              "      <th rowspan=\"3\" valign=\"top\">bar</th>\n",
              "      <th>one</th>\n",
              "      <td>2.027857</td>\n",
              "      <td>1.154570</td>\n",
              "    </tr>\n",
              "    <tr>\n",
              "      <th>three</th>\n",
              "      <td>-0.031875</td>\n",
              "      <td>0.036056</td>\n",
              "    </tr>\n",
              "    <tr>\n",
              "      <th>two</th>\n",
              "      <td>-1.279908</td>\n",
              "      <td>-1.959512</td>\n",
              "    </tr>\n",
              "    <tr>\n",
              "      <th rowspan=\"3\" valign=\"top\">foo</th>\n",
              "      <th>one</th>\n",
              "      <td>0.354100</td>\n",
              "      <td>-1.682632</td>\n",
              "    </tr>\n",
              "    <tr>\n",
              "      <th>three</th>\n",
              "      <td>0.353884</td>\n",
              "      <td>0.325420</td>\n",
              "    </tr>\n",
              "    <tr>\n",
              "      <th>two</th>\n",
              "      <td>1.604974</td>\n",
              "      <td>-1.242504</td>\n",
              "    </tr>\n",
              "  </tbody>\n",
              "</table>\n",
              "</div>"
            ],
            "text/plain": [
              "                  C         D\n",
              "A   B                        \n",
              "bar one    2.027857  1.154570\n",
              "    three -0.031875  0.036056\n",
              "    two   -1.279908 -1.959512\n",
              "foo one    0.354100 -1.682632\n",
              "    three  0.353884  0.325420\n",
              "    two    1.604974 -1.242504"
            ]
          },
          "metadata": {
            "tags": []
          },
          "execution_count": 118
        }
      ]
    },
    {
      "cell_type": "markdown",
      "metadata": {
        "colab_type": "text",
        "id": "7tWQKNsJ3JeY"
      },
      "source": [
        "## Reshaping (변형)"
      ]
    },
    {
      "cell_type": "markdown",
      "metadata": {
        "colab_type": "text",
        "id": "ulRzrXGK3Ndc"
      },
      "source": [
        "[계층적 인덱싱](https://pandas.pydata.org/pandas-docs/stable/advanced.html#advanced-hierarchical) 및 [변형](https://pandas.pydata.org/pandas-docs/stable/reshaping.html#reshaping-stacking) 부분을 참조하세요."
      ]
    },
    {
      "cell_type": "markdown",
      "metadata": {
        "colab_type": "text",
        "id": "gZJGxemv3WWA"
      },
      "source": [
        "### Stack (스택)"
      ]
    },
    {
      "cell_type": "code",
      "metadata": {
        "colab_type": "code",
        "id": "Yd5vPwOV3arp",
        "colab": {}
      },
      "source": [
        "tuples = list(zip(*[['bar', 'bar', 'baz', 'baz',\n",
        "                     'foo', 'foo', 'qux', 'qux'],\n",
        "                    ['one', 'two', 'one', 'two',\n",
        "                     'one', 'two', 'one', 'two']]))"
      ],
      "execution_count": 0,
      "outputs": []
    },
    {
      "cell_type": "code",
      "metadata": {
        "colab_type": "code",
        "id": "cyRpaTGe3hJ-",
        "colab": {}
      },
      "source": [
        "index = pd.MultiIndex.from_tuples(tuples, names=['first', 'second'])"
      ],
      "execution_count": 0,
      "outputs": []
    },
    {
      "cell_type": "code",
      "metadata": {
        "colab_type": "code",
        "id": "Jj2RjG8r3h1B",
        "colab": {}
      },
      "source": [
        "df = pd.DataFrame(np.random.randn(8, 2), index=index, columns=['A', 'B'])"
      ],
      "execution_count": 0,
      "outputs": []
    },
    {
      "cell_type": "code",
      "metadata": {
        "colab_type": "code",
        "id": "I0H5P5Al3hxB",
        "colab": {}
      },
      "source": [
        "df2  =  df[:4]"
      ],
      "execution_count": 0,
      "outputs": []
    },
    {
      "cell_type": "code",
      "metadata": {
        "colab_type": "code",
        "id": "YlRK8VoH3htI",
        "outputId": "dedb69a3-fbef-4e50-f5c0-39cc7e1b2bb8",
        "colab": {
          "base_uri": "https://localhost:8080/",
          "height": 204
        }
      },
      "source": [
        "df2"
      ],
      "execution_count": 123,
      "outputs": [
        {
          "output_type": "execute_result",
          "data": {
            "text/html": [
              "<div>\n",
              "<style scoped>\n",
              "    .dataframe tbody tr th:only-of-type {\n",
              "        vertical-align: middle;\n",
              "    }\n",
              "\n",
              "    .dataframe tbody tr th {\n",
              "        vertical-align: top;\n",
              "    }\n",
              "\n",
              "    .dataframe thead th {\n",
              "        text-align: right;\n",
              "    }\n",
              "</style>\n",
              "<table border=\"1\" class=\"dataframe\">\n",
              "  <thead>\n",
              "    <tr style=\"text-align: right;\">\n",
              "      <th></th>\n",
              "      <th></th>\n",
              "      <th>A</th>\n",
              "      <th>B</th>\n",
              "    </tr>\n",
              "    <tr>\n",
              "      <th>first</th>\n",
              "      <th>second</th>\n",
              "      <th></th>\n",
              "      <th></th>\n",
              "    </tr>\n",
              "  </thead>\n",
              "  <tbody>\n",
              "    <tr>\n",
              "      <th rowspan=\"2\" valign=\"top\">bar</th>\n",
              "      <th>one</th>\n",
              "      <td>0.285535</td>\n",
              "      <td>-2.127926</td>\n",
              "    </tr>\n",
              "    <tr>\n",
              "      <th>two</th>\n",
              "      <td>-0.090294</td>\n",
              "      <td>1.451296</td>\n",
              "    </tr>\n",
              "    <tr>\n",
              "      <th rowspan=\"2\" valign=\"top\">baz</th>\n",
              "      <th>one</th>\n",
              "      <td>0.069479</td>\n",
              "      <td>-0.777419</td>\n",
              "    </tr>\n",
              "    <tr>\n",
              "      <th>two</th>\n",
              "      <td>0.496911</td>\n",
              "      <td>0.748966</td>\n",
              "    </tr>\n",
              "  </tbody>\n",
              "</table>\n",
              "</div>"
            ],
            "text/plain": [
              "                     A         B\n",
              "first second                    \n",
              "bar   one     0.285535 -2.127926\n",
              "      two    -0.090294  1.451296\n",
              "baz   one     0.069479 -0.777419\n",
              "      two     0.496911  0.748966"
            ]
          },
          "metadata": {
            "tags": []
          },
          "execution_count": 123
        }
      ]
    },
    {
      "cell_type": "markdown",
      "metadata": {
        "colab_type": "text",
        "id": "EdPsLy7B3o53"
      },
      "source": [
        "[stack()](https://pandas.pydata.org/pandas-docs/stable/generated/pandas.DataFrame.stack.html#pandas.DataFrame.stack) 메소드는 데이터프레임 열들의 계층을 \"압축\"합니다."
      ]
    },
    {
      "cell_type": "code",
      "metadata": {
        "colab_type": "code",
        "id": "yFIcJ4HE3r0A",
        "colab": {}
      },
      "source": [
        "stacked = df2.stack()"
      ],
      "execution_count": 0,
      "outputs": []
    },
    {
      "cell_type": "code",
      "metadata": {
        "colab_type": "code",
        "id": "4HZDs9pX3sEo",
        "outputId": "ee5ac0cc-0986-4fc1-974e-1ff277e72801",
        "colab": {
          "base_uri": "https://localhost:8080/",
          "height": 197
        }
      },
      "source": [
        "stacked"
      ],
      "execution_count": 125,
      "outputs": [
        {
          "output_type": "execute_result",
          "data": {
            "text/plain": [
              "first  second   \n",
              "bar    one     A    0.285535\n",
              "               B   -2.127926\n",
              "       two     A   -0.090294\n",
              "               B    1.451296\n",
              "baz    one     A    0.069479\n",
              "               B   -0.777419\n",
              "       two     A    0.496911\n",
              "               B    0.748966\n",
              "dtype: float64"
            ]
          },
          "metadata": {
            "tags": []
          },
          "execution_count": 125
        }
      ]
    },
    {
      "cell_type": "markdown",
      "metadata": {
        "colab_type": "text",
        "id": "AEuI6yvK3wXA"
      },
      "source": [
        "\"Stack된\" 데이터프레임 또는 (MultiIndex를 인덱스로 사용하는) Series인 경우, [stack()](https://pandas.pydata.org/pandas-docs/stable/generated/pandas.DataFrame.stack.html#pandas.DataFrame.stack)의 역 연산은 [unstack()](https://pandas.pydata.org/pandas-docs/stable/generated/pandas.DataFrame.unstack.html#pandas.DataFrame.unstack)이며, 기본적으로 **마지막 계층**을 unstack합니다."
      ]
    },
    {
      "cell_type": "code",
      "metadata": {
        "colab_type": "code",
        "id": "RlD00KLE3rvm",
        "outputId": "d4185065-386d-46f9-de27-4e4aff5b5650",
        "colab": {
          "base_uri": "https://localhost:8080/",
          "height": 204
        }
      },
      "source": [
        "stacked.unstack()"
      ],
      "execution_count": 126,
      "outputs": [
        {
          "output_type": "execute_result",
          "data": {
            "text/html": [
              "<div>\n",
              "<style scoped>\n",
              "    .dataframe tbody tr th:only-of-type {\n",
              "        vertical-align: middle;\n",
              "    }\n",
              "\n",
              "    .dataframe tbody tr th {\n",
              "        vertical-align: top;\n",
              "    }\n",
              "\n",
              "    .dataframe thead th {\n",
              "        text-align: right;\n",
              "    }\n",
              "</style>\n",
              "<table border=\"1\" class=\"dataframe\">\n",
              "  <thead>\n",
              "    <tr style=\"text-align: right;\">\n",
              "      <th></th>\n",
              "      <th></th>\n",
              "      <th>A</th>\n",
              "      <th>B</th>\n",
              "    </tr>\n",
              "    <tr>\n",
              "      <th>first</th>\n",
              "      <th>second</th>\n",
              "      <th></th>\n",
              "      <th></th>\n",
              "    </tr>\n",
              "  </thead>\n",
              "  <tbody>\n",
              "    <tr>\n",
              "      <th rowspan=\"2\" valign=\"top\">bar</th>\n",
              "      <th>one</th>\n",
              "      <td>0.285535</td>\n",
              "      <td>-2.127926</td>\n",
              "    </tr>\n",
              "    <tr>\n",
              "      <th>two</th>\n",
              "      <td>-0.090294</td>\n",
              "      <td>1.451296</td>\n",
              "    </tr>\n",
              "    <tr>\n",
              "      <th rowspan=\"2\" valign=\"top\">baz</th>\n",
              "      <th>one</th>\n",
              "      <td>0.069479</td>\n",
              "      <td>-0.777419</td>\n",
              "    </tr>\n",
              "    <tr>\n",
              "      <th>two</th>\n",
              "      <td>0.496911</td>\n",
              "      <td>0.748966</td>\n",
              "    </tr>\n",
              "  </tbody>\n",
              "</table>\n",
              "</div>"
            ],
            "text/plain": [
              "                     A         B\n",
              "first second                    \n",
              "bar   one     0.285535 -2.127926\n",
              "      two    -0.090294  1.451296\n",
              "baz   one     0.069479 -0.777419\n",
              "      two     0.496911  0.748966"
            ]
          },
          "metadata": {
            "tags": []
          },
          "execution_count": 126
        }
      ]
    },
    {
      "cell_type": "code",
      "metadata": {
        "colab_type": "code",
        "id": "kq8C75gl30xL",
        "outputId": "dec69a16-776a-4126-9f33-b04774f1d0b3",
        "colab": {
          "base_uri": "https://localhost:8080/",
          "height": 204
        }
      },
      "source": [
        "stacked.unstack(1)"
      ],
      "execution_count": 127,
      "outputs": [
        {
          "output_type": "execute_result",
          "data": {
            "text/html": [
              "<div>\n",
              "<style scoped>\n",
              "    .dataframe tbody tr th:only-of-type {\n",
              "        vertical-align: middle;\n",
              "    }\n",
              "\n",
              "    .dataframe tbody tr th {\n",
              "        vertical-align: top;\n",
              "    }\n",
              "\n",
              "    .dataframe thead th {\n",
              "        text-align: right;\n",
              "    }\n",
              "</style>\n",
              "<table border=\"1\" class=\"dataframe\">\n",
              "  <thead>\n",
              "    <tr style=\"text-align: right;\">\n",
              "      <th></th>\n",
              "      <th>second</th>\n",
              "      <th>one</th>\n",
              "      <th>two</th>\n",
              "    </tr>\n",
              "    <tr>\n",
              "      <th>first</th>\n",
              "      <th></th>\n",
              "      <th></th>\n",
              "      <th></th>\n",
              "    </tr>\n",
              "  </thead>\n",
              "  <tbody>\n",
              "    <tr>\n",
              "      <th rowspan=\"2\" valign=\"top\">bar</th>\n",
              "      <th>A</th>\n",
              "      <td>0.285535</td>\n",
              "      <td>-0.090294</td>\n",
              "    </tr>\n",
              "    <tr>\n",
              "      <th>B</th>\n",
              "      <td>-2.127926</td>\n",
              "      <td>1.451296</td>\n",
              "    </tr>\n",
              "    <tr>\n",
              "      <th rowspan=\"2\" valign=\"top\">baz</th>\n",
              "      <th>A</th>\n",
              "      <td>0.069479</td>\n",
              "      <td>0.496911</td>\n",
              "    </tr>\n",
              "    <tr>\n",
              "      <th>B</th>\n",
              "      <td>-0.777419</td>\n",
              "      <td>0.748966</td>\n",
              "    </tr>\n",
              "  </tbody>\n",
              "</table>\n",
              "</div>"
            ],
            "text/plain": [
              "second        one       two\n",
              "first                      \n",
              "bar   A  0.285535 -0.090294\n",
              "      B -2.127926  1.451296\n",
              "baz   A  0.069479  0.496911\n",
              "      B -0.777419  0.748966"
            ]
          },
          "metadata": {
            "tags": []
          },
          "execution_count": 127
        }
      ]
    },
    {
      "cell_type": "code",
      "metadata": {
        "colab_type": "code",
        "id": "SVz51y-F30tT",
        "outputId": "36bdf4f7-e515-4f35-923b-6c53a8b77ecc",
        "colab": {
          "base_uri": "https://localhost:8080/",
          "height": 204
        }
      },
      "source": [
        "stacked.unstack(0)"
      ],
      "execution_count": 128,
      "outputs": [
        {
          "output_type": "execute_result",
          "data": {
            "text/html": [
              "<div>\n",
              "<style scoped>\n",
              "    .dataframe tbody tr th:only-of-type {\n",
              "        vertical-align: middle;\n",
              "    }\n",
              "\n",
              "    .dataframe tbody tr th {\n",
              "        vertical-align: top;\n",
              "    }\n",
              "\n",
              "    .dataframe thead th {\n",
              "        text-align: right;\n",
              "    }\n",
              "</style>\n",
              "<table border=\"1\" class=\"dataframe\">\n",
              "  <thead>\n",
              "    <tr style=\"text-align: right;\">\n",
              "      <th></th>\n",
              "      <th>first</th>\n",
              "      <th>bar</th>\n",
              "      <th>baz</th>\n",
              "    </tr>\n",
              "    <tr>\n",
              "      <th>second</th>\n",
              "      <th></th>\n",
              "      <th></th>\n",
              "      <th></th>\n",
              "    </tr>\n",
              "  </thead>\n",
              "  <tbody>\n",
              "    <tr>\n",
              "      <th rowspan=\"2\" valign=\"top\">one</th>\n",
              "      <th>A</th>\n",
              "      <td>0.285535</td>\n",
              "      <td>0.069479</td>\n",
              "    </tr>\n",
              "    <tr>\n",
              "      <th>B</th>\n",
              "      <td>-2.127926</td>\n",
              "      <td>-0.777419</td>\n",
              "    </tr>\n",
              "    <tr>\n",
              "      <th rowspan=\"2\" valign=\"top\">two</th>\n",
              "      <th>A</th>\n",
              "      <td>-0.090294</td>\n",
              "      <td>0.496911</td>\n",
              "    </tr>\n",
              "    <tr>\n",
              "      <th>B</th>\n",
              "      <td>1.451296</td>\n",
              "      <td>0.748966</td>\n",
              "    </tr>\n",
              "  </tbody>\n",
              "</table>\n",
              "</div>"
            ],
            "text/plain": [
              "first          bar       baz\n",
              "second                      \n",
              "one    A  0.285535  0.069479\n",
              "       B -2.127926 -0.777419\n",
              "two    A -0.090294  0.496911\n",
              "       B  1.451296  0.748966"
            ]
          },
          "metadata": {
            "tags": []
          },
          "execution_count": 128
        }
      ]
    },
    {
      "cell_type": "markdown",
      "metadata": {
        "colab_type": "text",
        "id": "RZ_-viV34FE-"
      },
      "source": [
        "### Pivot Tables (피벗 테이블)"
      ]
    },
    {
      "cell_type": "markdown",
      "metadata": {
        "colab_type": "text",
        "id": "zWjNYxfD4Fhb"
      },
      "source": [
        "[피벗 테이블](https://pandas.pydata.org/pandas-docs/stable/reshaping.html#reshaping-pivot) 부분을 참조하세요."
      ]
    },
    {
      "cell_type": "code",
      "metadata": {
        "colab_type": "code",
        "id": "VBSzYL-R4MlI",
        "colab": {}
      },
      "source": [
        "df = pd.DataFrame({'A' : ['one', 'one', 'two', 'three'] * 3,\n",
        "                   'B' : ['A', 'B', 'C'] * 4,\n",
        "                   'C' : ['foo', 'foo', 'foo', 'bar', 'bar', 'bar'] * 2,\n",
        "                   'D' : np.random.randn(12),\n",
        "                   'E' : np.random.randn(12)})"
      ],
      "execution_count": 0,
      "outputs": []
    },
    {
      "cell_type": "code",
      "metadata": {
        "colab_type": "code",
        "id": "wRwnIrMC4MhQ",
        "outputId": "bd2953f8-9be4-4968-8dd3-0cd8ba35ccbb",
        "colab": {
          "base_uri": "https://localhost:8080/",
          "height": 421
        }
      },
      "source": [
        "df"
      ],
      "execution_count": 130,
      "outputs": [
        {
          "output_type": "execute_result",
          "data": {
            "text/html": [
              "<div>\n",
              "<style scoped>\n",
              "    .dataframe tbody tr th:only-of-type {\n",
              "        vertical-align: middle;\n",
              "    }\n",
              "\n",
              "    .dataframe tbody tr th {\n",
              "        vertical-align: top;\n",
              "    }\n",
              "\n",
              "    .dataframe thead th {\n",
              "        text-align: right;\n",
              "    }\n",
              "</style>\n",
              "<table border=\"1\" class=\"dataframe\">\n",
              "  <thead>\n",
              "    <tr style=\"text-align: right;\">\n",
              "      <th></th>\n",
              "      <th>A</th>\n",
              "      <th>B</th>\n",
              "      <th>C</th>\n",
              "      <th>D</th>\n",
              "      <th>E</th>\n",
              "    </tr>\n",
              "  </thead>\n",
              "  <tbody>\n",
              "    <tr>\n",
              "      <th>0</th>\n",
              "      <td>one</td>\n",
              "      <td>A</td>\n",
              "      <td>foo</td>\n",
              "      <td>0.265984</td>\n",
              "      <td>1.258176</td>\n",
              "    </tr>\n",
              "    <tr>\n",
              "      <th>1</th>\n",
              "      <td>one</td>\n",
              "      <td>B</td>\n",
              "      <td>foo</td>\n",
              "      <td>-0.945832</td>\n",
              "      <td>-1.031827</td>\n",
              "    </tr>\n",
              "    <tr>\n",
              "      <th>2</th>\n",
              "      <td>two</td>\n",
              "      <td>C</td>\n",
              "      <td>foo</td>\n",
              "      <td>-1.423433</td>\n",
              "      <td>-0.808181</td>\n",
              "    </tr>\n",
              "    <tr>\n",
              "      <th>3</th>\n",
              "      <td>three</td>\n",
              "      <td>A</td>\n",
              "      <td>bar</td>\n",
              "      <td>-0.370140</td>\n",
              "      <td>-0.155684</td>\n",
              "    </tr>\n",
              "    <tr>\n",
              "      <th>4</th>\n",
              "      <td>one</td>\n",
              "      <td>B</td>\n",
              "      <td>bar</td>\n",
              "      <td>0.123537</td>\n",
              "      <td>-1.177925</td>\n",
              "    </tr>\n",
              "    <tr>\n",
              "      <th>5</th>\n",
              "      <td>one</td>\n",
              "      <td>C</td>\n",
              "      <td>bar</td>\n",
              "      <td>-0.454138</td>\n",
              "      <td>1.483544</td>\n",
              "    </tr>\n",
              "    <tr>\n",
              "      <th>6</th>\n",
              "      <td>two</td>\n",
              "      <td>A</td>\n",
              "      <td>foo</td>\n",
              "      <td>0.471502</td>\n",
              "      <td>0.693415</td>\n",
              "    </tr>\n",
              "    <tr>\n",
              "      <th>7</th>\n",
              "      <td>three</td>\n",
              "      <td>B</td>\n",
              "      <td>foo</td>\n",
              "      <td>0.082662</td>\n",
              "      <td>0.219529</td>\n",
              "    </tr>\n",
              "    <tr>\n",
              "      <th>8</th>\n",
              "      <td>one</td>\n",
              "      <td>C</td>\n",
              "      <td>foo</td>\n",
              "      <td>1.232039</td>\n",
              "      <td>0.235725</td>\n",
              "    </tr>\n",
              "    <tr>\n",
              "      <th>9</th>\n",
              "      <td>one</td>\n",
              "      <td>A</td>\n",
              "      <td>bar</td>\n",
              "      <td>-0.407120</td>\n",
              "      <td>-1.945544</td>\n",
              "    </tr>\n",
              "    <tr>\n",
              "      <th>10</th>\n",
              "      <td>two</td>\n",
              "      <td>B</td>\n",
              "      <td>bar</td>\n",
              "      <td>0.925351</td>\n",
              "      <td>0.256310</td>\n",
              "    </tr>\n",
              "    <tr>\n",
              "      <th>11</th>\n",
              "      <td>three</td>\n",
              "      <td>C</td>\n",
              "      <td>bar</td>\n",
              "      <td>-0.880932</td>\n",
              "      <td>0.102495</td>\n",
              "    </tr>\n",
              "  </tbody>\n",
              "</table>\n",
              "</div>"
            ],
            "text/plain": [
              "        A  B    C         D         E\n",
              "0     one  A  foo  0.265984  1.258176\n",
              "1     one  B  foo -0.945832 -1.031827\n",
              "2     two  C  foo -1.423433 -0.808181\n",
              "3   three  A  bar -0.370140 -0.155684\n",
              "4     one  B  bar  0.123537 -1.177925\n",
              "5     one  C  bar -0.454138  1.483544\n",
              "6     two  A  foo  0.471502  0.693415\n",
              "7   three  B  foo  0.082662  0.219529\n",
              "8     one  C  foo  1.232039  0.235725\n",
              "9     one  A  bar -0.407120 -1.945544\n",
              "10    two  B  bar  0.925351  0.256310\n",
              "11  three  C  bar -0.880932  0.102495"
            ]
          },
          "metadata": {
            "tags": []
          },
          "execution_count": 130
        }
      ]
    },
    {
      "cell_type": "markdown",
      "metadata": {
        "colab_type": "text",
        "id": "d37WGaOO4Qjl"
      },
      "source": [
        "이 데이터로부터 피벗 테이블을 매우 쉽게 생성할 수 있습니다."
      ]
    },
    {
      "cell_type": "code",
      "metadata": {
        "colab_type": "code",
        "id": "x55H1koG4RSB",
        "outputId": "7fb2d6b4-6ce5-44c6-a835-05be05555776",
        "colab": {
          "base_uri": "https://localhost:8080/",
          "height": 359
        }
      },
      "source": [
        "pd.pivot_table(df, values='D', index=['A', 'B'], columns=['C'])"
      ],
      "execution_count": 132,
      "outputs": [
        {
          "output_type": "execute_result",
          "data": {
            "text/html": [
              "<div>\n",
              "<style scoped>\n",
              "    .dataframe tbody tr th:only-of-type {\n",
              "        vertical-align: middle;\n",
              "    }\n",
              "\n",
              "    .dataframe tbody tr th {\n",
              "        vertical-align: top;\n",
              "    }\n",
              "\n",
              "    .dataframe thead th {\n",
              "        text-align: right;\n",
              "    }\n",
              "</style>\n",
              "<table border=\"1\" class=\"dataframe\">\n",
              "  <thead>\n",
              "    <tr style=\"text-align: right;\">\n",
              "      <th></th>\n",
              "      <th>C</th>\n",
              "      <th>bar</th>\n",
              "      <th>foo</th>\n",
              "    </tr>\n",
              "    <tr>\n",
              "      <th>A</th>\n",
              "      <th>B</th>\n",
              "      <th></th>\n",
              "      <th></th>\n",
              "    </tr>\n",
              "  </thead>\n",
              "  <tbody>\n",
              "    <tr>\n",
              "      <th rowspan=\"3\" valign=\"top\">one</th>\n",
              "      <th>A</th>\n",
              "      <td>-0.407120</td>\n",
              "      <td>0.265984</td>\n",
              "    </tr>\n",
              "    <tr>\n",
              "      <th>B</th>\n",
              "      <td>0.123537</td>\n",
              "      <td>-0.945832</td>\n",
              "    </tr>\n",
              "    <tr>\n",
              "      <th>C</th>\n",
              "      <td>-0.454138</td>\n",
              "      <td>1.232039</td>\n",
              "    </tr>\n",
              "    <tr>\n",
              "      <th rowspan=\"3\" valign=\"top\">three</th>\n",
              "      <th>A</th>\n",
              "      <td>-0.370140</td>\n",
              "      <td>NaN</td>\n",
              "    </tr>\n",
              "    <tr>\n",
              "      <th>B</th>\n",
              "      <td>NaN</td>\n",
              "      <td>0.082662</td>\n",
              "    </tr>\n",
              "    <tr>\n",
              "      <th>C</th>\n",
              "      <td>-0.880932</td>\n",
              "      <td>NaN</td>\n",
              "    </tr>\n",
              "    <tr>\n",
              "      <th rowspan=\"3\" valign=\"top\">two</th>\n",
              "      <th>A</th>\n",
              "      <td>NaN</td>\n",
              "      <td>0.471502</td>\n",
              "    </tr>\n",
              "    <tr>\n",
              "      <th>B</th>\n",
              "      <td>0.925351</td>\n",
              "      <td>NaN</td>\n",
              "    </tr>\n",
              "    <tr>\n",
              "      <th>C</th>\n",
              "      <td>NaN</td>\n",
              "      <td>-1.423433</td>\n",
              "    </tr>\n",
              "  </tbody>\n",
              "</table>\n",
              "</div>"
            ],
            "text/plain": [
              "C             bar       foo\n",
              "A     B                    \n",
              "one   A -0.407120  0.265984\n",
              "      B  0.123537 -0.945832\n",
              "      C -0.454138  1.232039\n",
              "three A -0.370140       NaN\n",
              "      B       NaN  0.082662\n",
              "      C -0.880932       NaN\n",
              "two   A       NaN  0.471502\n",
              "      B  0.925351       NaN\n",
              "      C       NaN -1.423433"
            ]
          },
          "metadata": {
            "tags": []
          },
          "execution_count": 132
        }
      ]
    },
    {
      "cell_type": "markdown",
      "metadata": {
        "colab_type": "text",
        "id": "ZYenx0CU2Lvc"
      },
      "source": [
        "## Time Series (시계열)"
      ]
    },
    {
      "cell_type": "markdown",
      "metadata": {
        "colab_type": "text",
        "id": "y-awduy52QAH"
      },
      "source": [
        "pandas는 자주 일어나는 변환(예시 : 5분마다 일어나는 데이터에 대한 2차 데이터 변환) 사이에 수행하는 리샘플링 연산을 위한 간단하고, 강력하며, 효율적인 함수를 제공합니다. 이는 재무(금융) 응용에서 매우 일반적이지만 이에 국한되지는 않습니다. [시계열](https://pandas.pydata.org/pandas-docs/stable/timeseries.html#timeseries) 부분을 참고하세요."
      ]
    },
    {
      "cell_type": "code",
      "metadata": {
        "colab_type": "code",
        "id": "Y9eFwVdS2VP_",
        "colab": {}
      },
      "source": [
        "rng = pd.date_range('1/1/2012', periods=100, freq='S')"
      ],
      "execution_count": 0,
      "outputs": []
    },
    {
      "cell_type": "code",
      "metadata": {
        "colab_type": "code",
        "id": "Cyqthy0N2WlK",
        "colab": {}
      },
      "source": [
        "ts = pd.Series(np.random.randint(0, 500, len(rng)), index=rng)"
      ],
      "execution_count": 0,
      "outputs": []
    },
    {
      "cell_type": "code",
      "metadata": {
        "id": "O_S7Iwr6Kg3F",
        "colab_type": "code",
        "colab": {
          "base_uri": "https://localhost:8080/",
          "height": 233
        },
        "outputId": "175d1136-5388-431e-a2da-4ed775146bea"
      },
      "source": [
        "ts"
      ],
      "execution_count": 146,
      "outputs": [
        {
          "output_type": "execute_result",
          "data": {
            "text/plain": [
              "2012-01-01 00:00:00    137\n",
              "2012-01-01 00:00:01    253\n",
              "2012-01-01 00:00:02    292\n",
              "2012-01-01 00:00:03    284\n",
              "2012-01-01 00:00:04    379\n",
              "                      ... \n",
              "2012-01-01 00:01:35     31\n",
              "2012-01-01 00:01:36     11\n",
              "2012-01-01 00:01:37    379\n",
              "2012-01-01 00:01:38    281\n",
              "2012-01-01 00:01:39     54\n",
              "Freq: S, Length: 100, dtype: int64"
            ]
          },
          "metadata": {
            "tags": []
          },
          "execution_count": 146
        }
      ]
    },
    {
      "cell_type": "code",
      "metadata": {
        "colab_type": "code",
        "id": "ZISF14wx2WpQ",
        "outputId": "6e45e702-1115-4fc7-f373-38b37cc3ddaf",
        "colab": {
          "base_uri": "https://localhost:8080/",
          "height": 53
        }
      },
      "source": [
        "ts.resample('5Min').sum()"
      ],
      "execution_count": 135,
      "outputs": [
        {
          "output_type": "execute_result",
          "data": {
            "text/plain": [
              "2012-01-01    24752\n",
              "Freq: 5T, dtype: int64"
            ]
          },
          "metadata": {
            "tags": []
          },
          "execution_count": 135
        }
      ]
    },
    {
      "cell_type": "markdown",
      "metadata": {
        "colab_type": "text",
        "id": "3LcQGxvr2aBM"
      },
      "source": [
        "시간대를 표현합니다."
      ]
    },
    {
      "cell_type": "code",
      "metadata": {
        "colab_type": "code",
        "id": "N6uN3VkD2WyK",
        "colab": {}
      },
      "source": [
        "rng = pd.date_range('3/6/2012 00:00', periods=5, freq='D')"
      ],
      "execution_count": 0,
      "outputs": []
    },
    {
      "cell_type": "code",
      "metadata": {
        "colab_type": "code",
        "id": "zIMrP5Te2cht",
        "colab": {}
      },
      "source": [
        "ts = pd.Series(np.random.randn(len(rng)), rng)"
      ],
      "execution_count": 0,
      "outputs": []
    },
    {
      "cell_type": "code",
      "metadata": {
        "colab_type": "code",
        "id": "SmAOR9oR2Wtw",
        "outputId": "d962df34-7a6e-44e4-a412-fdbe51e7328d",
        "colab": {
          "base_uri": "https://localhost:8080/",
          "height": 233
        }
      },
      "source": [
        "ts"
      ],
      "execution_count": 147,
      "outputs": [
        {
          "output_type": "execute_result",
          "data": {
            "text/plain": [
              "2012-01-01 00:00:00    137\n",
              "2012-01-01 00:00:01    253\n",
              "2012-01-01 00:00:02    292\n",
              "2012-01-01 00:00:03    284\n",
              "2012-01-01 00:00:04    379\n",
              "                      ... \n",
              "2012-01-01 00:01:35     31\n",
              "2012-01-01 00:01:36     11\n",
              "2012-01-01 00:01:37    379\n",
              "2012-01-01 00:01:38    281\n",
              "2012-01-01 00:01:39     54\n",
              "Freq: S, Length: 100, dtype: int64"
            ]
          },
          "metadata": {
            "tags": []
          },
          "execution_count": 147
        }
      ]
    },
    {
      "cell_type": "code",
      "metadata": {
        "colab_type": "code",
        "id": "tSHoco6N2ezX",
        "colab": {}
      },
      "source": [
        "ts_utc = ts.tz_localize('UTC')"
      ],
      "execution_count": 0,
      "outputs": []
    },
    {
      "cell_type": "code",
      "metadata": {
        "colab_type": "code",
        "id": "YA5wOamF2e3c",
        "outputId": "867eb90a-063c-418c-83bd-8fd45fe18dc3",
        "colab": {
          "base_uri": "https://localhost:8080/",
          "height": 233
        }
      },
      "source": [
        "ts_utc"
      ],
      "execution_count": 149,
      "outputs": [
        {
          "output_type": "execute_result",
          "data": {
            "text/plain": [
              "2012-01-01 00:00:00+00:00    137\n",
              "2012-01-01 00:00:01+00:00    253\n",
              "2012-01-01 00:00:02+00:00    292\n",
              "2012-01-01 00:00:03+00:00    284\n",
              "2012-01-01 00:00:04+00:00    379\n",
              "                            ... \n",
              "2012-01-01 00:01:35+00:00     31\n",
              "2012-01-01 00:01:36+00:00     11\n",
              "2012-01-01 00:01:37+00:00    379\n",
              "2012-01-01 00:01:38+00:00    281\n",
              "2012-01-01 00:01:39+00:00     54\n",
              "Freq: S, Length: 100, dtype: int64"
            ]
          },
          "metadata": {
            "tags": []
          },
          "execution_count": 149
        }
      ]
    },
    {
      "cell_type": "markdown",
      "metadata": {
        "colab_type": "text",
        "id": "3vrPJFj12hUk"
      },
      "source": [
        "다른 시간대로 변환합니다."
      ]
    },
    {
      "cell_type": "code",
      "metadata": {
        "colab_type": "code",
        "id": "OQWgvsVo2e76",
        "outputId": "03259832-9569-4308-ee3e-f21012a55bd6",
        "colab": {
          "base_uri": "https://localhost:8080/",
          "height": 233
        }
      },
      "source": [
        "ts_utc.tz_convert('US/Eastern')"
      ],
      "execution_count": 150,
      "outputs": [
        {
          "output_type": "execute_result",
          "data": {
            "text/plain": [
              "2011-12-31 19:00:00-05:00    137\n",
              "2011-12-31 19:00:01-05:00    253\n",
              "2011-12-31 19:00:02-05:00    292\n",
              "2011-12-31 19:00:03-05:00    284\n",
              "2011-12-31 19:00:04-05:00    379\n",
              "                            ... \n",
              "2011-12-31 19:01:35-05:00     31\n",
              "2011-12-31 19:01:36-05:00     11\n",
              "2011-12-31 19:01:37-05:00    379\n",
              "2011-12-31 19:01:38-05:00    281\n",
              "2011-12-31 19:01:39-05:00     54\n",
              "Freq: S, Length: 100, dtype: int64"
            ]
          },
          "metadata": {
            "tags": []
          },
          "execution_count": 150
        }
      ]
    },
    {
      "cell_type": "markdown",
      "metadata": {
        "colab_type": "text",
        "id": "THfGaHND2kli"
      },
      "source": [
        "시간 표현 ↔ 기간 표현으로 변환합니다."
      ]
    },
    {
      "cell_type": "code",
      "metadata": {
        "colab_type": "code",
        "id": "bZPXGpSZ2lLt",
        "colab": {}
      },
      "source": [
        "rng = pd.date_range('1/1/2012', periods=5, freq='M')"
      ],
      "execution_count": 0,
      "outputs": []
    },
    {
      "cell_type": "code",
      "metadata": {
        "colab_type": "code",
        "id": "NCpFTZCz2e_7",
        "colab": {}
      },
      "source": [
        "ts = pd.Series(np.random.randn(len(rng)), index=rng)"
      ],
      "execution_count": 0,
      "outputs": []
    },
    {
      "cell_type": "code",
      "metadata": {
        "colab_type": "code",
        "id": "TFbL7np62obz",
        "outputId": "f59b9b56-f70c-4993-9bd1-2cf3a52a7bfb",
        "colab": {
          "base_uri": "https://localhost:8080/",
          "height": 125
        }
      },
      "source": [
        "ts"
      ],
      "execution_count": 154,
      "outputs": [
        {
          "output_type": "execute_result",
          "data": {
            "text/plain": [
              "2012-01-31   -1.565478\n",
              "2012-02-29    1.106819\n",
              "2012-03-31   -1.472995\n",
              "2012-04-30    0.956942\n",
              "2012-05-31   -0.528288\n",
              "Freq: M, dtype: float64"
            ]
          },
          "metadata": {
            "tags": []
          },
          "execution_count": 154
        }
      ]
    },
    {
      "cell_type": "code",
      "metadata": {
        "colab_type": "code",
        "id": "I30_LkrG2o_g",
        "colab": {}
      },
      "source": [
        "ps = ts.to_period()"
      ],
      "execution_count": 0,
      "outputs": []
    },
    {
      "cell_type": "code",
      "metadata": {
        "colab_type": "code",
        "id": "Ue18d1fv2pHh",
        "outputId": "a8a00adf-47d3-496a-d365-562d00d49c53",
        "colab": {
          "base_uri": "https://localhost:8080/",
          "height": 125
        }
      },
      "source": [
        "ps"
      ],
      "execution_count": 156,
      "outputs": [
        {
          "output_type": "execute_result",
          "data": {
            "text/plain": [
              "2012-01   -1.565478\n",
              "2012-02    1.106819\n",
              "2012-03   -1.472995\n",
              "2012-04    0.956942\n",
              "2012-05   -0.528288\n",
              "Freq: M, dtype: float64"
            ]
          },
          "metadata": {
            "tags": []
          },
          "execution_count": 156
        }
      ]
    },
    {
      "cell_type": "code",
      "metadata": {
        "colab_type": "code",
        "id": "YgdyzQNW2pQp",
        "outputId": "c40aea11-bb1b-4ff7-86c0-77c1ac59cdb6",
        "colab": {
          "base_uri": "https://localhost:8080/",
          "height": 125
        }
      },
      "source": [
        "ps.to_timestamp()"
      ],
      "execution_count": 157,
      "outputs": [
        {
          "output_type": "execute_result",
          "data": {
            "text/plain": [
              "2012-01-01   -1.565478\n",
              "2012-02-01    1.106819\n",
              "2012-03-01   -1.472995\n",
              "2012-04-01    0.956942\n",
              "2012-05-01   -0.528288\n",
              "Freq: MS, dtype: float64"
            ]
          },
          "metadata": {
            "tags": []
          },
          "execution_count": 157
        }
      ]
    },
    {
      "cell_type": "markdown",
      "metadata": {
        "colab_type": "text",
        "id": "mxuEnG7R2twf"
      },
      "source": [
        "기간 ↔ 시간 변환은 편리한 산술 기능들을 사용할 수 있도록 만들어줍니다. 다음 예제에서, 우리는 11월에 끝나는 연말 결산의 분기별 빈도를 분기말 익월의 월말일 오전 9시로 변환합니다."
      ]
    },
    {
      "cell_type": "code",
      "metadata": {
        "colab_type": "code",
        "id": "tPlpI7I02wU2",
        "colab": {}
      },
      "source": [
        "prng = pd.period_range('1990Q1', '2000Q4', freq='Q-NOV')"
      ],
      "execution_count": 0,
      "outputs": []
    },
    {
      "cell_type": "code",
      "metadata": {
        "colab_type": "code",
        "id": "HJrVQIbf2xnO",
        "colab": {}
      },
      "source": [
        "ts = pd.Series(np.random.randn(len(prng)), prng)"
      ],
      "execution_count": 0,
      "outputs": []
    },
    {
      "cell_type": "code",
      "metadata": {
        "colab_type": "code",
        "id": "0e5Bd6Nq23QY",
        "colab": {}
      },
      "source": [
        "ts.index = (prng.asfreq('M', 'e') + 1).asfreq('H', 's') + 9"
      ],
      "execution_count": 0,
      "outputs": []
    },
    {
      "cell_type": "code",
      "metadata": {
        "colab_type": "code",
        "id": "RecuXufR26SS",
        "outputId": "1a7cbbe9-1966-4907-fc77-71e446d31040",
        "colab": {
          "base_uri": "https://localhost:8080/",
          "height": 122
        }
      },
      "source": [
        "ts.head()"
      ],
      "execution_count": 0,
      "outputs": [
        {
          "output_type": "execute_result",
          "data": {
            "text/plain": [
              "1990-03-01 09:00    0.018325\n",
              "1990-06-01 09:00    1.330483\n",
              "1990-09-01 09:00    1.122604\n",
              "1990-12-01 09:00    0.288536\n",
              "1991-03-01 09:00    1.161760\n",
              "Freq: H, dtype: float64"
            ]
          },
          "metadata": {
            "tags": []
          },
          "execution_count": 132
        }
      ]
    },
    {
      "cell_type": "markdown",
      "metadata": {
        "colab_type": "text",
        "id": "8OfzvbgW28Hc"
      },
      "source": [
        "## Categoricals (범주화)"
      ]
    },
    {
      "cell_type": "markdown",
      "metadata": {
        "colab_type": "text",
        "id": "e3UtUKXU_P2R"
      },
      "source": [
        "pandas는 데이터프레임 내에 범주형 데이터를 포함할 수 있습니다. [범주형 소개](https://pandas.pydata.org/pandas-docs/stable/categorical.html#categorical) 와 [API 문서](https://pandas.pydata.org/pandas-docs/stable/api.html#api-categorical) 부분을 참조하세요."
      ]
    },
    {
      "cell_type": "code",
      "metadata": {
        "colab_type": "code",
        "id": "06N2dtiG_Syu",
        "colab": {}
      },
      "source": [
        "df = pd.DataFrame({\"id\":[1,2,3,4,5,6], \"raw_grade\":['a', 'b', 'b', 'a', 'a', 'e']})"
      ],
      "execution_count": 0,
      "outputs": []
    },
    {
      "cell_type": "markdown",
      "metadata": {
        "colab_type": "text",
        "id": "gDRaVjoD_j_o"
      },
      "source": [
        "가공하지 않은 성적을 범주형 데이터로 변환합니다."
      ]
    },
    {
      "cell_type": "code",
      "metadata": {
        "colab_type": "code",
        "id": "1SYkcjem_sGv",
        "colab": {}
      },
      "source": [
        "df[\"grade\"] = df[\"raw_grade\"].astype(\"category\")"
      ],
      "execution_count": 0,
      "outputs": []
    },
    {
      "cell_type": "code",
      "metadata": {
        "colab_type": "code",
        "id": "jydcy-_m_uzu",
        "outputId": "8ef881b3-12ed-4b62-a7f8-81d5f01d2b7f",
        "colab": {}
      },
      "source": [
        "df[\"grade\"]"
      ],
      "execution_count": 0,
      "outputs": [
        {
          "output_type": "execute_result",
          "data": {
            "text/plain": [
              "0    a\n",
              "1    b\n",
              "2    b\n",
              "3    a\n",
              "4    a\n",
              "5    e\n",
              "Name: grade, dtype: category\n",
              "Categories (3, object): [a, b, e]"
            ]
          },
          "metadata": {
            "tags": []
          },
          "execution_count": 135
        }
      ]
    },
    {
      "cell_type": "markdown",
      "metadata": {
        "colab_type": "text",
        "id": "42GBAJv5Bt1I"
      },
      "source": [
        "범주에 더 의미 있는 이름을 붙여주세요. (Series.cat.categories로 할당하는 것이 적합합니다!)"
      ]
    },
    {
      "cell_type": "code",
      "metadata": {
        "colab_type": "code",
        "id": "doobrAvYBudq",
        "colab": {}
      },
      "source": [
        "df[\"grade\"].cat.categories = [\"very good\", \"good\", \"very bad\"]"
      ],
      "execution_count": 0,
      "outputs": []
    },
    {
      "cell_type": "markdown",
      "metadata": {
        "colab_type": "text",
        "id": "vhhGHW7LBwYW"
      },
      "source": [
        "범주의 순서를 바꾸고 동시에 누락된 범주를 추가합니다. (Series.cat에 속하는 메소드는 기본적으로 새로운 Series를 반환합니다.)"
      ]
    },
    {
      "cell_type": "code",
      "metadata": {
        "colab_type": "code",
        "id": "lUcARnDbBw9g",
        "colab": {}
      },
      "source": [
        "df[\"grade\"] = df[\"grade\"].cat.set_categories([\"very bad\", \"bad\", \"medium\", \"good\", \"very good\"])"
      ],
      "execution_count": 0,
      "outputs": []
    },
    {
      "cell_type": "code",
      "metadata": {
        "colab_type": "code",
        "id": "RA_znfuKBy8q",
        "outputId": "f91bf6b0-7d04-484d-f193-458c1702fbb2",
        "colab": {}
      },
      "source": [
        "df[\"grade\"]"
      ],
      "execution_count": 0,
      "outputs": [
        {
          "output_type": "execute_result",
          "data": {
            "text/plain": [
              "0    very good\n",
              "1         good\n",
              "2         good\n",
              "3    very good\n",
              "4    very good\n",
              "5     very bad\n",
              "Name: grade, dtype: category\n",
              "Categories (5, object): [very bad, bad, medium, good, very good]"
            ]
          },
          "metadata": {
            "tags": []
          },
          "execution_count": 138
        }
      ]
    },
    {
      "cell_type": "markdown",
      "metadata": {
        "colab_type": "text",
        "id": "SPNrY_SE3Evr"
      },
      "source": [
        "정렬은 사전 순서가 아닌, 해당 범주에서 지정된 순서대로 배열합니다.\n",
        "\n",
        "*역자 주 : 131번에서 very bad, bad, medium, good, very good 의 순서로 기재되어 있기 때문에 정렬 결과도 해당 순서대로 배열됩니다.*"
      ]
    },
    {
      "cell_type": "code",
      "metadata": {
        "colab_type": "code",
        "id": "FuGS1e023A8g",
        "outputId": "53c5b797-c7f6-41f1-bb9c-b122038d23e4",
        "colab": {}
      },
      "source": [
        "df.sort_values(by=\"grade\")"
      ],
      "execution_count": 0,
      "outputs": [
        {
          "output_type": "execute_result",
          "data": {
            "text/html": [
              "<div>\n",
              "<style>\n",
              "    .dataframe thead tr:only-child th {\n",
              "        text-align: right;\n",
              "    }\n",
              "\n",
              "    .dataframe thead th {\n",
              "        text-align: left;\n",
              "    }\n",
              "\n",
              "    .dataframe tbody tr th {\n",
              "        vertical-align: top;\n",
              "    }\n",
              "</style>\n",
              "<table border=\"1\" class=\"dataframe\">\n",
              "  <thead>\n",
              "    <tr style=\"text-align: right;\">\n",
              "      <th></th>\n",
              "      <th>id</th>\n",
              "      <th>raw_grade</th>\n",
              "      <th>grade</th>\n",
              "    </tr>\n",
              "  </thead>\n",
              "  <tbody>\n",
              "    <tr>\n",
              "      <th>5</th>\n",
              "      <td>6</td>\n",
              "      <td>e</td>\n",
              "      <td>very bad</td>\n",
              "    </tr>\n",
              "    <tr>\n",
              "      <th>1</th>\n",
              "      <td>2</td>\n",
              "      <td>b</td>\n",
              "      <td>good</td>\n",
              "    </tr>\n",
              "    <tr>\n",
              "      <th>2</th>\n",
              "      <td>3</td>\n",
              "      <td>b</td>\n",
              "      <td>good</td>\n",
              "    </tr>\n",
              "    <tr>\n",
              "      <th>0</th>\n",
              "      <td>1</td>\n",
              "      <td>a</td>\n",
              "      <td>very good</td>\n",
              "    </tr>\n",
              "    <tr>\n",
              "      <th>3</th>\n",
              "      <td>4</td>\n",
              "      <td>a</td>\n",
              "      <td>very good</td>\n",
              "    </tr>\n",
              "    <tr>\n",
              "      <th>4</th>\n",
              "      <td>5</td>\n",
              "      <td>a</td>\n",
              "      <td>very good</td>\n",
              "    </tr>\n",
              "  </tbody>\n",
              "</table>\n",
              "</div>"
            ],
            "text/plain": [
              "   id raw_grade      grade\n",
              "5   6         e   very bad\n",
              "1   2         b       good\n",
              "2   3         b       good\n",
              "0   1         a  very good\n",
              "3   4         a  very good\n",
              "4   5         a  very good"
            ]
          },
          "metadata": {
            "tags": []
          },
          "execution_count": 139
        }
      ]
    },
    {
      "cell_type": "markdown",
      "metadata": {
        "colab_type": "text",
        "id": "tl3VskO43Hd9"
      },
      "source": [
        "범주의 열을 기준으로 그룹화하면 빈 범주도 표시됩니다."
      ]
    },
    {
      "cell_type": "code",
      "metadata": {
        "colab_type": "code",
        "id": "pD-EDBKN3KNk",
        "outputId": "e238f08f-2950-414c-dfa2-8494ddc3e50f",
        "colab": {}
      },
      "source": [
        "df.groupby(\"grade\").size()"
      ],
      "execution_count": 0,
      "outputs": [
        {
          "output_type": "execute_result",
          "data": {
            "text/plain": [
              "grade\n",
              "very bad     1\n",
              "bad          0\n",
              "medium       0\n",
              "good         2\n",
              "very good    3\n",
              "dtype: int64"
            ]
          },
          "metadata": {
            "tags": []
          },
          "execution_count": 140
        }
      ]
    },
    {
      "cell_type": "markdown",
      "metadata": {
        "colab_type": "text",
        "id": "LDarUbRI1K9c"
      },
      "source": [
        "## Plotting"
      ]
    },
    {
      "cell_type": "markdown",
      "metadata": {
        "colab_type": "text",
        "id": "pi9t1o4-1X2Q"
      },
      "source": [
        "[Plotting](https://pandas.pydata.org/pandas-docs/stable/visualization.html#visualization) 부분을 참조하세요."
      ]
    },
    {
      "cell_type": "code",
      "metadata": {
        "colab_type": "code",
        "id": "ypfwa2Zy1WrL",
        "colab": {}
      },
      "source": [
        "ts = pd.Series(np.random.randn(1000), index=pd.date_range('1/1/2000', periods=1000))"
      ],
      "execution_count": 0,
      "outputs": []
    },
    {
      "cell_type": "code",
      "metadata": {
        "colab_type": "code",
        "id": "Ai8kXvor1cSZ",
        "colab": {}
      },
      "source": [
        "ts = ts.cumsum()"
      ],
      "execution_count": 0,
      "outputs": []
    },
    {
      "cell_type": "code",
      "metadata": {
        "colab_type": "code",
        "id": "sfICp0cs1gXu",
        "outputId": "c6009633-5e9a-47b6-e94d-217c6a93c646",
        "colab": {
          "base_uri": "https://localhost:8080/",
          "height": 377
        }
      },
      "source": [
        "ts.plot()"
      ],
      "execution_count": 0,
      "outputs": [
        {
          "output_type": "execute_result",
          "data": {
            "text/plain": [
              "<matplotlib.axes._subplots.AxesSubplot at 0x9974fd0>"
            ]
          },
          "metadata": {
            "tags": []
          },
          "execution_count": 143
        }
      ]
    },
    {
      "cell_type": "markdown",
      "metadata": {
        "colab_type": "text",
        "id": "iOsgd7LK1kXK"
      },
      "source": [
        "데이터프레임에서 [plot()](https://pandas.pydata.org/pandas-docs/stable/generated/pandas.DataFrame.plot.html#pandas.DataFrame.plot) 메소드는 라벨이 존재하는 모든 열을 그릴 때 편리합니다."
      ]
    },
    {
      "cell_type": "code",
      "metadata": {
        "colab_type": "code",
        "id": "LHvapoGC1pPT",
        "colab": {}
      },
      "source": [
        "df = pd.DataFrame(np.random.randn(1000, 4), index=ts.index,\n",
        "                  columns=['A', 'B', 'C', 'D'])  "
      ],
      "execution_count": 0,
      "outputs": []
    },
    {
      "cell_type": "code",
      "metadata": {
        "colab_type": "code",
        "id": "g6ebCUZa1rKu",
        "colab": {}
      },
      "source": [
        "df = df.cumsum()"
      ],
      "execution_count": 0,
      "outputs": []
    },
    {
      "cell_type": "code",
      "metadata": {
        "colab_type": "code",
        "id": "Qfil41-P1uMu",
        "outputId": "941e5874-1699-4f75-c209-ac22d06accd9",
        "colab": {
          "base_uri": "https://localhost:8080/",
          "height": 396
        }
      },
      "source": [
        "plt.figure(); df.plot(); plt.legend(loc='best')"
      ],
      "execution_count": 0,
      "outputs": [
        {
          "output_type": "execute_result",
          "data": {
            "text/plain": [
              "<matplotlib.legend.Legend at 0x9b10208>"
            ]
          },
          "metadata": {
            "tags": []
          },
          "execution_count": 146
        }
      ]
    },
    {
      "cell_type": "markdown",
      "metadata": {
        "colab_type": "text",
        "id": "6orrhxzC2vJh"
      },
      "source": [
        "## Getting Data In/Out (데이터 입/출력)"
      ]
    },
    {
      "cell_type": "markdown",
      "metadata": {
        "colab_type": "text",
        "id": "bYZJgW252vq2"
      },
      "source": [
        "### CSV"
      ]
    },
    {
      "cell_type": "markdown",
      "metadata": {
        "colab_type": "text",
        "id": "Z7q2-xWD_YkP"
      },
      "source": [
        "[csv 파일에 씁니다.](https://pandas.pydata.org/pandas-docs/stable/io.html#io-store-in-csv)"
      ]
    },
    {
      "cell_type": "code",
      "metadata": {
        "colab_type": "code",
        "id": "1iet_DHP_XSk",
        "colab": {}
      },
      "source": [
        "df.to_csv('foo.csv')"
      ],
      "execution_count": 0,
      "outputs": []
    },
    {
      "cell_type": "markdown",
      "metadata": {
        "colab_type": "text",
        "id": "7luq7S6OANk_"
      },
      "source": [
        "[csv 파일을 읽습니다.](https://pandas.pydata.org/pandas-docs/stable/io.html#io-read-csv-table)"
      ]
    },
    {
      "cell_type": "code",
      "metadata": {
        "colab_type": "code",
        "id": "NE2Xhx-MAW45",
        "outputId": "8c7a769b-d1d5-4c30-99b1-2338036e5e8f",
        "colab": {
          "base_uri": "https://localhost:8080/",
          "height": 1949
        }
      },
      "source": [
        "pd.read_csv('foo.csv')"
      ],
      "execution_count": 0,
      "outputs": [
        {
          "output_type": "execute_result",
          "data": {
            "text/html": [
              "<div>\n",
              "<style>\n",
              "    .dataframe thead tr:only-child th {\n",
              "        text-align: right;\n",
              "    }\n",
              "\n",
              "    .dataframe thead th {\n",
              "        text-align: left;\n",
              "    }\n",
              "\n",
              "    .dataframe tbody tr th {\n",
              "        vertical-align: top;\n",
              "    }\n",
              "</style>\n",
              "<table border=\"1\" class=\"dataframe\">\n",
              "  <thead>\n",
              "    <tr style=\"text-align: right;\">\n",
              "      <th></th>\n",
              "      <th>Unnamed: 0</th>\n",
              "      <th>A</th>\n",
              "      <th>B</th>\n",
              "      <th>C</th>\n",
              "      <th>D</th>\n",
              "    </tr>\n",
              "  </thead>\n",
              "  <tbody>\n",
              "    <tr>\n",
              "      <th>0</th>\n",
              "      <td>2000-01-01</td>\n",
              "      <td>-1.170941</td>\n",
              "      <td>0.688051</td>\n",
              "      <td>-0.383810</td>\n",
              "      <td>0.837035</td>\n",
              "    </tr>\n",
              "    <tr>\n",
              "      <th>1</th>\n",
              "      <td>2000-01-02</td>\n",
              "      <td>-1.325416</td>\n",
              "      <td>0.061442</td>\n",
              "      <td>-1.080497</td>\n",
              "      <td>0.281412</td>\n",
              "    </tr>\n",
              "    <tr>\n",
              "      <th>2</th>\n",
              "      <td>2000-01-03</td>\n",
              "      <td>-0.687276</td>\n",
              "      <td>0.916830</td>\n",
              "      <td>-2.839985</td>\n",
              "      <td>1.852432</td>\n",
              "    </tr>\n",
              "    <tr>\n",
              "      <th>3</th>\n",
              "      <td>2000-01-04</td>\n",
              "      <td>-1.288728</td>\n",
              "      <td>-0.242376</td>\n",
              "      <td>-3.791390</td>\n",
              "      <td>1.309750</td>\n",
              "    </tr>\n",
              "    <tr>\n",
              "      <th>4</th>\n",
              "      <td>2000-01-05</td>\n",
              "      <td>-0.937522</td>\n",
              "      <td>-0.779122</td>\n",
              "      <td>-5.202554</td>\n",
              "      <td>2.219908</td>\n",
              "    </tr>\n",
              "    <tr>\n",
              "      <th>5</th>\n",
              "      <td>2000-01-06</td>\n",
              "      <td>-2.136242</td>\n",
              "      <td>-0.693236</td>\n",
              "      <td>-6.256821</td>\n",
              "      <td>3.015780</td>\n",
              "    </tr>\n",
              "    <tr>\n",
              "      <th>6</th>\n",
              "      <td>2000-01-07</td>\n",
              "      <td>-1.412520</td>\n",
              "      <td>-2.517668</td>\n",
              "      <td>-5.712015</td>\n",
              "      <td>3.805923</td>\n",
              "    </tr>\n",
              "    <tr>\n",
              "      <th>7</th>\n",
              "      <td>2000-01-08</td>\n",
              "      <td>-0.049283</td>\n",
              "      <td>-1.716615</td>\n",
              "      <td>-7.405345</td>\n",
              "      <td>4.770589</td>\n",
              "    </tr>\n",
              "    <tr>\n",
              "      <th>8</th>\n",
              "      <td>2000-01-09</td>\n",
              "      <td>0.592184</td>\n",
              "      <td>-0.617583</td>\n",
              "      <td>-7.339519</td>\n",
              "      <td>3.694828</td>\n",
              "    </tr>\n",
              "    <tr>\n",
              "      <th>9</th>\n",
              "      <td>2000-01-10</td>\n",
              "      <td>1.378037</td>\n",
              "      <td>0.110647</td>\n",
              "      <td>-5.297688</td>\n",
              "      <td>3.467191</td>\n",
              "    </tr>\n",
              "    <tr>\n",
              "      <th>10</th>\n",
              "      <td>2000-01-11</td>\n",
              "      <td>2.474387</td>\n",
              "      <td>-0.083230</td>\n",
              "      <td>-4.153509</td>\n",
              "      <td>3.091714</td>\n",
              "    </tr>\n",
              "    <tr>\n",
              "      <th>11</th>\n",
              "      <td>2000-01-12</td>\n",
              "      <td>1.621882</td>\n",
              "      <td>0.016834</td>\n",
              "      <td>-7.112481</td>\n",
              "      <td>1.237205</td>\n",
              "    </tr>\n",
              "    <tr>\n",
              "      <th>12</th>\n",
              "      <td>2000-01-13</td>\n",
              "      <td>1.246822</td>\n",
              "      <td>-1.368471</td>\n",
              "      <td>-5.531885</td>\n",
              "      <td>0.338128</td>\n",
              "    </tr>\n",
              "    <tr>\n",
              "      <th>13</th>\n",
              "      <td>2000-01-14</td>\n",
              "      <td>1.978975</td>\n",
              "      <td>-0.527194</td>\n",
              "      <td>-5.112244</td>\n",
              "      <td>1.466986</td>\n",
              "    </tr>\n",
              "    <tr>\n",
              "      <th>14</th>\n",
              "      <td>2000-01-15</td>\n",
              "      <td>1.450342</td>\n",
              "      <td>0.450082</td>\n",
              "      <td>-4.731543</td>\n",
              "      <td>3.673504</td>\n",
              "    </tr>\n",
              "    <tr>\n",
              "      <th>15</th>\n",
              "      <td>2000-01-16</td>\n",
              "      <td>1.948955</td>\n",
              "      <td>1.059912</td>\n",
              "      <td>-6.297084</td>\n",
              "      <td>4.191426</td>\n",
              "    </tr>\n",
              "    <tr>\n",
              "      <th>16</th>\n",
              "      <td>2000-01-17</td>\n",
              "      <td>2.035009</td>\n",
              "      <td>2.273572</td>\n",
              "      <td>-6.637326</td>\n",
              "      <td>3.746256</td>\n",
              "    </tr>\n",
              "    <tr>\n",
              "      <th>17</th>\n",
              "      <td>2000-01-18</td>\n",
              "      <td>1.550255</td>\n",
              "      <td>3.503449</td>\n",
              "      <td>-6.578056</td>\n",
              "      <td>4.099211</td>\n",
              "    </tr>\n",
              "    <tr>\n",
              "      <th>18</th>\n",
              "      <td>2000-01-19</td>\n",
              "      <td>1.864008</td>\n",
              "      <td>4.212954</td>\n",
              "      <td>-7.183693</td>\n",
              "      <td>2.888867</td>\n",
              "    </tr>\n",
              "    <tr>\n",
              "      <th>19</th>\n",
              "      <td>2000-01-20</td>\n",
              "      <td>-0.075277</td>\n",
              "      <td>5.007933</td>\n",
              "      <td>-7.093309</td>\n",
              "      <td>4.735946</td>\n",
              "    </tr>\n",
              "    <tr>\n",
              "      <th>20</th>\n",
              "      <td>2000-01-21</td>\n",
              "      <td>-1.140021</td>\n",
              "      <td>6.814976</td>\n",
              "      <td>-6.716311</td>\n",
              "      <td>5.306338</td>\n",
              "    </tr>\n",
              "    <tr>\n",
              "      <th>21</th>\n",
              "      <td>2000-01-22</td>\n",
              "      <td>1.162872</td>\n",
              "      <td>6.534765</td>\n",
              "      <td>-6.110653</td>\n",
              "      <td>5.233384</td>\n",
              "    </tr>\n",
              "    <tr>\n",
              "      <th>22</th>\n",
              "      <td>2000-01-23</td>\n",
              "      <td>1.760717</td>\n",
              "      <td>5.714708</td>\n",
              "      <td>-4.054118</td>\n",
              "      <td>4.785703</td>\n",
              "    </tr>\n",
              "    <tr>\n",
              "      <th>23</th>\n",
              "      <td>2000-01-24</td>\n",
              "      <td>0.536450</td>\n",
              "      <td>5.849652</td>\n",
              "      <td>-3.765441</td>\n",
              "      <td>3.989357</td>\n",
              "    </tr>\n",
              "    <tr>\n",
              "      <th>24</th>\n",
              "      <td>2000-01-25</td>\n",
              "      <td>0.506539</td>\n",
              "      <td>6.692062</td>\n",
              "      <td>-4.821839</td>\n",
              "      <td>3.023168</td>\n",
              "    </tr>\n",
              "    <tr>\n",
              "      <th>25</th>\n",
              "      <td>2000-01-26</td>\n",
              "      <td>0.958889</td>\n",
              "      <td>6.568955</td>\n",
              "      <td>-4.259598</td>\n",
              "      <td>2.421934</td>\n",
              "    </tr>\n",
              "    <tr>\n",
              "      <th>26</th>\n",
              "      <td>2000-01-27</td>\n",
              "      <td>-0.172696</td>\n",
              "      <td>4.921587</td>\n",
              "      <td>-4.413335</td>\n",
              "      <td>2.314551</td>\n",
              "    </tr>\n",
              "    <tr>\n",
              "      <th>27</th>\n",
              "      <td>2000-01-28</td>\n",
              "      <td>0.165740</td>\n",
              "      <td>5.134014</td>\n",
              "      <td>-3.341849</td>\n",
              "      <td>1.133864</td>\n",
              "    </tr>\n",
              "    <tr>\n",
              "      <th>28</th>\n",
              "      <td>2000-01-29</td>\n",
              "      <td>0.093579</td>\n",
              "      <td>4.991880</td>\n",
              "      <td>-4.020020</td>\n",
              "      <td>2.081721</td>\n",
              "    </tr>\n",
              "    <tr>\n",
              "      <th>29</th>\n",
              "      <td>2000-01-30</td>\n",
              "      <td>0.424503</td>\n",
              "      <td>4.328352</td>\n",
              "      <td>-3.503704</td>\n",
              "      <td>2.303425</td>\n",
              "    </tr>\n",
              "    <tr>\n",
              "      <th>...</th>\n",
              "      <td>...</td>\n",
              "      <td>...</td>\n",
              "      <td>...</td>\n",
              "      <td>...</td>\n",
              "      <td>...</td>\n",
              "    </tr>\n",
              "    <tr>\n",
              "      <th>970</th>\n",
              "      <td>2002-08-28</td>\n",
              "      <td>-9.441308</td>\n",
              "      <td>-10.407354</td>\n",
              "      <td>60.908649</td>\n",
              "      <td>-3.372065</td>\n",
              "    </tr>\n",
              "    <tr>\n",
              "      <th>971</th>\n",
              "      <td>2002-08-29</td>\n",
              "      <td>-10.022290</td>\n",
              "      <td>-10.300304</td>\n",
              "      <td>59.022868</td>\n",
              "      <td>-4.729307</td>\n",
              "    </tr>\n",
              "    <tr>\n",
              "      <th>972</th>\n",
              "      <td>2002-08-30</td>\n",
              "      <td>-10.771862</td>\n",
              "      <td>-10.121161</td>\n",
              "      <td>59.190720</td>\n",
              "      <td>-4.776657</td>\n",
              "    </tr>\n",
              "    <tr>\n",
              "      <th>973</th>\n",
              "      <td>2002-08-31</td>\n",
              "      <td>-11.397452</td>\n",
              "      <td>-10.721580</td>\n",
              "      <td>59.955429</td>\n",
              "      <td>-4.837409</td>\n",
              "    </tr>\n",
              "    <tr>\n",
              "      <th>974</th>\n",
              "      <td>2002-09-01</td>\n",
              "      <td>-12.606183</td>\n",
              "      <td>-12.794658</td>\n",
              "      <td>60.073882</td>\n",
              "      <td>-6.897691</td>\n",
              "    </tr>\n",
              "    <tr>\n",
              "      <th>975</th>\n",
              "      <td>2002-09-02</td>\n",
              "      <td>-11.490124</td>\n",
              "      <td>-12.763907</td>\n",
              "      <td>60.835452</td>\n",
              "      <td>-6.677909</td>\n",
              "    </tr>\n",
              "    <tr>\n",
              "      <th>976</th>\n",
              "      <td>2002-09-03</td>\n",
              "      <td>-11.985902</td>\n",
              "      <td>-12.161442</td>\n",
              "      <td>60.848448</td>\n",
              "      <td>-6.248310</td>\n",
              "    </tr>\n",
              "    <tr>\n",
              "      <th>977</th>\n",
              "      <td>2002-09-04</td>\n",
              "      <td>-12.581613</td>\n",
              "      <td>-11.248297</td>\n",
              "      <td>60.504354</td>\n",
              "      <td>-6.408271</td>\n",
              "    </tr>\n",
              "    <tr>\n",
              "      <th>978</th>\n",
              "      <td>2002-09-05</td>\n",
              "      <td>-13.733525</td>\n",
              "      <td>-10.625722</td>\n",
              "      <td>58.903688</td>\n",
              "      <td>-5.788621</td>\n",
              "    </tr>\n",
              "    <tr>\n",
              "      <th>979</th>\n",
              "      <td>2002-09-06</td>\n",
              "      <td>-13.257015</td>\n",
              "      <td>-10.091945</td>\n",
              "      <td>58.625660</td>\n",
              "      <td>-4.776391</td>\n",
              "    </tr>\n",
              "    <tr>\n",
              "      <th>980</th>\n",
              "      <td>2002-09-07</td>\n",
              "      <td>-12.855639</td>\n",
              "      <td>-8.795421</td>\n",
              "      <td>59.073399</td>\n",
              "      <td>-4.017372</td>\n",
              "    </tr>\n",
              "    <tr>\n",
              "      <th>981</th>\n",
              "      <td>2002-09-08</td>\n",
              "      <td>-11.482862</td>\n",
              "      <td>-9.402805</td>\n",
              "      <td>58.042510</td>\n",
              "      <td>-3.530595</td>\n",
              "    </tr>\n",
              "    <tr>\n",
              "      <th>982</th>\n",
              "      <td>2002-09-09</td>\n",
              "      <td>-10.850022</td>\n",
              "      <td>-9.553852</td>\n",
              "      <td>57.214538</td>\n",
              "      <td>-4.053349</td>\n",
              "    </tr>\n",
              "    <tr>\n",
              "      <th>983</th>\n",
              "      <td>2002-09-10</td>\n",
              "      <td>-12.208049</td>\n",
              "      <td>-9.259484</td>\n",
              "      <td>58.237309</td>\n",
              "      <td>-3.971102</td>\n",
              "    </tr>\n",
              "    <tr>\n",
              "      <th>984</th>\n",
              "      <td>2002-09-11</td>\n",
              "      <td>-12.401630</td>\n",
              "      <td>-9.367988</td>\n",
              "      <td>58.999006</td>\n",
              "      <td>-3.615675</td>\n",
              "    </tr>\n",
              "    <tr>\n",
              "      <th>985</th>\n",
              "      <td>2002-09-12</td>\n",
              "      <td>-14.382630</td>\n",
              "      <td>-7.615701</td>\n",
              "      <td>61.633138</td>\n",
              "      <td>-2.822245</td>\n",
              "    </tr>\n",
              "    <tr>\n",
              "      <th>986</th>\n",
              "      <td>2002-09-13</td>\n",
              "      <td>-14.385503</td>\n",
              "      <td>-5.825456</td>\n",
              "      <td>62.643005</td>\n",
              "      <td>-2.631831</td>\n",
              "    </tr>\n",
              "    <tr>\n",
              "      <th>987</th>\n",
              "      <td>2002-09-14</td>\n",
              "      <td>-14.670608</td>\n",
              "      <td>-6.534945</td>\n",
              "      <td>63.046983</td>\n",
              "      <td>-2.521697</td>\n",
              "    </tr>\n",
              "    <tr>\n",
              "      <th>988</th>\n",
              "      <td>2002-09-15</td>\n",
              "      <td>-15.424981</td>\n",
              "      <td>-6.552120</td>\n",
              "      <td>64.461886</td>\n",
              "      <td>-3.493400</td>\n",
              "    </tr>\n",
              "    <tr>\n",
              "      <th>989</th>\n",
              "      <td>2002-09-16</td>\n",
              "      <td>-13.875303</td>\n",
              "      <td>-7.511547</td>\n",
              "      <td>64.741750</td>\n",
              "      <td>-4.255253</td>\n",
              "    </tr>\n",
              "    <tr>\n",
              "      <th>990</th>\n",
              "      <td>2002-09-17</td>\n",
              "      <td>-13.574444</td>\n",
              "      <td>-7.407093</td>\n",
              "      <td>64.003745</td>\n",
              "      <td>-3.096605</td>\n",
              "    </tr>\n",
              "    <tr>\n",
              "      <th>991</th>\n",
              "      <td>2002-09-18</td>\n",
              "      <td>-13.843896</td>\n",
              "      <td>-7.287694</td>\n",
              "      <td>64.860323</td>\n",
              "      <td>-3.211695</td>\n",
              "    </tr>\n",
              "    <tr>\n",
              "      <th>992</th>\n",
              "      <td>2002-09-19</td>\n",
              "      <td>-13.444606</td>\n",
              "      <td>-8.069938</td>\n",
              "      <td>66.156664</td>\n",
              "      <td>-3.679680</td>\n",
              "    </tr>\n",
              "    <tr>\n",
              "      <th>993</th>\n",
              "      <td>2002-09-20</td>\n",
              "      <td>-14.319578</td>\n",
              "      <td>-6.771972</td>\n",
              "      <td>64.871045</td>\n",
              "      <td>-4.633304</td>\n",
              "    </tr>\n",
              "    <tr>\n",
              "      <th>994</th>\n",
              "      <td>2002-09-21</td>\n",
              "      <td>-15.126463</td>\n",
              "      <td>-7.993281</td>\n",
              "      <td>65.080881</td>\n",
              "      <td>-3.497950</td>\n",
              "    </tr>\n",
              "    <tr>\n",
              "      <th>995</th>\n",
              "      <td>2002-09-22</td>\n",
              "      <td>-14.717619</td>\n",
              "      <td>-8.359075</td>\n",
              "      <td>65.765170</td>\n",
              "      <td>-5.577461</td>\n",
              "    </tr>\n",
              "    <tr>\n",
              "      <th>996</th>\n",
              "      <td>2002-09-23</td>\n",
              "      <td>-13.763743</td>\n",
              "      <td>-8.046417</td>\n",
              "      <td>66.821624</td>\n",
              "      <td>-5.256422</td>\n",
              "    </tr>\n",
              "    <tr>\n",
              "      <th>997</th>\n",
              "      <td>2002-09-24</td>\n",
              "      <td>-15.111257</td>\n",
              "      <td>-5.814779</td>\n",
              "      <td>66.104899</td>\n",
              "      <td>-6.185853</td>\n",
              "    </tr>\n",
              "    <tr>\n",
              "      <th>998</th>\n",
              "      <td>2002-09-25</td>\n",
              "      <td>-14.890142</td>\n",
              "      <td>-5.402545</td>\n",
              "      <td>65.420458</td>\n",
              "      <td>-5.578971</td>\n",
              "    </tr>\n",
              "    <tr>\n",
              "      <th>999</th>\n",
              "      <td>2002-09-26</td>\n",
              "      <td>-14.917314</td>\n",
              "      <td>-5.732310</td>\n",
              "      <td>63.944766</td>\n",
              "      <td>-6.181776</td>\n",
              "    </tr>\n",
              "  </tbody>\n",
              "</table>\n",
              "<p>1000 rows × 5 columns</p>\n",
              "</div>"
            ],
            "text/plain": [
              "     Unnamed: 0          A          B          C         D\n",
              "0    2000-01-01  -1.170941   0.688051  -0.383810  0.837035\n",
              "1    2000-01-02  -1.325416   0.061442  -1.080497  0.281412\n",
              "2    2000-01-03  -0.687276   0.916830  -2.839985  1.852432\n",
              "3    2000-01-04  -1.288728  -0.242376  -3.791390  1.309750\n",
              "4    2000-01-05  -0.937522  -0.779122  -5.202554  2.219908\n",
              "5    2000-01-06  -2.136242  -0.693236  -6.256821  3.015780\n",
              "6    2000-01-07  -1.412520  -2.517668  -5.712015  3.805923\n",
              "7    2000-01-08  -0.049283  -1.716615  -7.405345  4.770589\n",
              "8    2000-01-09   0.592184  -0.617583  -7.339519  3.694828\n",
              "9    2000-01-10   1.378037   0.110647  -5.297688  3.467191\n",
              "10   2000-01-11   2.474387  -0.083230  -4.153509  3.091714\n",
              "11   2000-01-12   1.621882   0.016834  -7.112481  1.237205\n",
              "12   2000-01-13   1.246822  -1.368471  -5.531885  0.338128\n",
              "13   2000-01-14   1.978975  -0.527194  -5.112244  1.466986\n",
              "14   2000-01-15   1.450342   0.450082  -4.731543  3.673504\n",
              "15   2000-01-16   1.948955   1.059912  -6.297084  4.191426\n",
              "16   2000-01-17   2.035009   2.273572  -6.637326  3.746256\n",
              "17   2000-01-18   1.550255   3.503449  -6.578056  4.099211\n",
              "18   2000-01-19   1.864008   4.212954  -7.183693  2.888867\n",
              "19   2000-01-20  -0.075277   5.007933  -7.093309  4.735946\n",
              "20   2000-01-21  -1.140021   6.814976  -6.716311  5.306338\n",
              "21   2000-01-22   1.162872   6.534765  -6.110653  5.233384\n",
              "22   2000-01-23   1.760717   5.714708  -4.054118  4.785703\n",
              "23   2000-01-24   0.536450   5.849652  -3.765441  3.989357\n",
              "24   2000-01-25   0.506539   6.692062  -4.821839  3.023168\n",
              "25   2000-01-26   0.958889   6.568955  -4.259598  2.421934\n",
              "26   2000-01-27  -0.172696   4.921587  -4.413335  2.314551\n",
              "27   2000-01-28   0.165740   5.134014  -3.341849  1.133864\n",
              "28   2000-01-29   0.093579   4.991880  -4.020020  2.081721\n",
              "29   2000-01-30   0.424503   4.328352  -3.503704  2.303425\n",
              "..          ...        ...        ...        ...       ...\n",
              "970  2002-08-28  -9.441308 -10.407354  60.908649 -3.372065\n",
              "971  2002-08-29 -10.022290 -10.300304  59.022868 -4.729307\n",
              "972  2002-08-30 -10.771862 -10.121161  59.190720 -4.776657\n",
              "973  2002-08-31 -11.397452 -10.721580  59.955429 -4.837409\n",
              "974  2002-09-01 -12.606183 -12.794658  60.073882 -6.897691\n",
              "975  2002-09-02 -11.490124 -12.763907  60.835452 -6.677909\n",
              "976  2002-09-03 -11.985902 -12.161442  60.848448 -6.248310\n",
              "977  2002-09-04 -12.581613 -11.248297  60.504354 -6.408271\n",
              "978  2002-09-05 -13.733525 -10.625722  58.903688 -5.788621\n",
              "979  2002-09-06 -13.257015 -10.091945  58.625660 -4.776391\n",
              "980  2002-09-07 -12.855639  -8.795421  59.073399 -4.017372\n",
              "981  2002-09-08 -11.482862  -9.402805  58.042510 -3.530595\n",
              "982  2002-09-09 -10.850022  -9.553852  57.214538 -4.053349\n",
              "983  2002-09-10 -12.208049  -9.259484  58.237309 -3.971102\n",
              "984  2002-09-11 -12.401630  -9.367988  58.999006 -3.615675\n",
              "985  2002-09-12 -14.382630  -7.615701  61.633138 -2.822245\n",
              "986  2002-09-13 -14.385503  -5.825456  62.643005 -2.631831\n",
              "987  2002-09-14 -14.670608  -6.534945  63.046983 -2.521697\n",
              "988  2002-09-15 -15.424981  -6.552120  64.461886 -3.493400\n",
              "989  2002-09-16 -13.875303  -7.511547  64.741750 -4.255253\n",
              "990  2002-09-17 -13.574444  -7.407093  64.003745 -3.096605\n",
              "991  2002-09-18 -13.843896  -7.287694  64.860323 -3.211695\n",
              "992  2002-09-19 -13.444606  -8.069938  66.156664 -3.679680\n",
              "993  2002-09-20 -14.319578  -6.771972  64.871045 -4.633304\n",
              "994  2002-09-21 -15.126463  -7.993281  65.080881 -3.497950\n",
              "995  2002-09-22 -14.717619  -8.359075  65.765170 -5.577461\n",
              "996  2002-09-23 -13.763743  -8.046417  66.821624 -5.256422\n",
              "997  2002-09-24 -15.111257  -5.814779  66.104899 -6.185853\n",
              "998  2002-09-25 -14.890142  -5.402545  65.420458 -5.578971\n",
              "999  2002-09-26 -14.917314  -5.732310  63.944766 -6.181776\n",
              "\n",
              "[1000 rows x 5 columns]"
            ]
          },
          "metadata": {
            "tags": []
          },
          "execution_count": 148
        }
      ]
    },
    {
      "cell_type": "markdown",
      "metadata": {
        "colab_type": "text",
        "id": "P9knaZtu24Nj"
      },
      "source": [
        "### HDF5"
      ]
    },
    {
      "cell_type": "markdown",
      "metadata": {
        "colab_type": "text",
        "id": "tHW2rtWWkHNd"
      },
      "source": [
        "[HDFStores](https://pandas.pydata.org/pandas-docs/stable/io.html#io-hdf5)에 읽고 씁니다."
      ]
    },
    {
      "cell_type": "markdown",
      "metadata": {
        "colab_type": "text",
        "id": "Mzz9k4TQkHNe"
      },
      "source": [
        "HDF5 Store에 씁니다."
      ]
    },
    {
      "cell_type": "code",
      "metadata": {
        "colab_type": "code",
        "id": "R0VSHXW30H9a",
        "colab": {}
      },
      "source": [
        "df.to_hdf('foo.h5','df')"
      ],
      "execution_count": 0,
      "outputs": []
    },
    {
      "cell_type": "markdown",
      "metadata": {
        "colab_type": "text",
        "id": "tw3vxS450MpB"
      },
      "source": [
        "HDF5 Store에서 읽어옵니다."
      ]
    },
    {
      "cell_type": "code",
      "metadata": {
        "colab_type": "code",
        "id": "QXqtNXK8zx0f",
        "outputId": "b2651a35-a12b-44b8-93cd-ecd14ae968cf",
        "colab": {
          "base_uri": "https://localhost:8080/",
          "height": 278
        }
      },
      "source": [
        "pd.read_hdf('foo.h5','df')"
      ],
      "execution_count": 0,
      "outputs": [
        {
          "output_type": "execute_result",
          "data": {
            "text/html": [
              "<div>\n",
              "<style>\n",
              "    .dataframe thead tr:only-child th {\n",
              "        text-align: right;\n",
              "    }\n",
              "\n",
              "    .dataframe thead th {\n",
              "        text-align: left;\n",
              "    }\n",
              "\n",
              "    .dataframe tbody tr th {\n",
              "        vertical-align: top;\n",
              "    }\n",
              "</style>\n",
              "<table border=\"1\" class=\"dataframe\">\n",
              "  <thead>\n",
              "    <tr style=\"text-align: right;\">\n",
              "      <th></th>\n",
              "      <th>A</th>\n",
              "      <th>B</th>\n",
              "      <th>C</th>\n",
              "      <th>D</th>\n",
              "    </tr>\n",
              "  </thead>\n",
              "  <tbody>\n",
              "    <tr>\n",
              "      <th>2000-01-01</th>\n",
              "      <td>-1.170941</td>\n",
              "      <td>0.688051</td>\n",
              "      <td>-0.383810</td>\n",
              "      <td>0.837035</td>\n",
              "    </tr>\n",
              "    <tr>\n",
              "      <th>2000-01-02</th>\n",
              "      <td>-1.325416</td>\n",
              "      <td>0.061442</td>\n",
              "      <td>-1.080497</td>\n",
              "      <td>0.281412</td>\n",
              "    </tr>\n",
              "    <tr>\n",
              "      <th>2000-01-03</th>\n",
              "      <td>-0.687276</td>\n",
              "      <td>0.916830</td>\n",
              "      <td>-2.839985</td>\n",
              "      <td>1.852432</td>\n",
              "    </tr>\n",
              "    <tr>\n",
              "      <th>2000-01-04</th>\n",
              "      <td>-1.288728</td>\n",
              "      <td>-0.242376</td>\n",
              "      <td>-3.791390</td>\n",
              "      <td>1.309750</td>\n",
              "    </tr>\n",
              "    <tr>\n",
              "      <th>2000-01-05</th>\n",
              "      <td>-0.937522</td>\n",
              "      <td>-0.779122</td>\n",
              "      <td>-5.202554</td>\n",
              "      <td>2.219908</td>\n",
              "    </tr>\n",
              "    <tr>\n",
              "      <th>2000-01-06</th>\n",
              "      <td>-2.136242</td>\n",
              "      <td>-0.693236</td>\n",
              "      <td>-6.256821</td>\n",
              "      <td>3.015780</td>\n",
              "    </tr>\n",
              "    <tr>\n",
              "      <th>2000-01-07</th>\n",
              "      <td>-1.412520</td>\n",
              "      <td>-2.517668</td>\n",
              "      <td>-5.712015</td>\n",
              "      <td>3.805923</td>\n",
              "    </tr>\n",
              "    <tr>\n",
              "      <th>2000-01-08</th>\n",
              "      <td>-0.049283</td>\n",
              "      <td>-1.716615</td>\n",
              "      <td>-7.405345</td>\n",
              "      <td>4.770589</td>\n",
              "    </tr>\n",
              "    <tr>\n",
              "      <th>2000-01-09</th>\n",
              "      <td>0.592184</td>\n",
              "      <td>-0.617583</td>\n",
              "      <td>-7.339519</td>\n",
              "      <td>3.694828</td>\n",
              "    </tr>\n",
              "    <tr>\n",
              "      <th>2000-01-10</th>\n",
              "      <td>1.378037</td>\n",
              "      <td>0.110647</td>\n",
              "      <td>-5.297688</td>\n",
              "      <td>3.467191</td>\n",
              "    </tr>\n",
              "    <tr>\n",
              "      <th>2000-01-11</th>\n",
              "      <td>2.474387</td>\n",
              "      <td>-0.083230</td>\n",
              "      <td>-4.153509</td>\n",
              "      <td>3.091714</td>\n",
              "    </tr>\n",
              "    <tr>\n",
              "      <th>2000-01-12</th>\n",
              "      <td>1.621882</td>\n",
              "      <td>0.016834</td>\n",
              "      <td>-7.112481</td>\n",
              "      <td>1.237205</td>\n",
              "    </tr>\n",
              "    <tr>\n",
              "      <th>2000-01-13</th>\n",
              "      <td>1.246822</td>\n",
              "      <td>-1.368471</td>\n",
              "      <td>-5.531885</td>\n",
              "      <td>0.338128</td>\n",
              "    </tr>\n",
              "    <tr>\n",
              "      <th>2000-01-14</th>\n",
              "      <td>1.978975</td>\n",
              "      <td>-0.527194</td>\n",
              "      <td>-5.112244</td>\n",
              "      <td>1.466986</td>\n",
              "    </tr>\n",
              "    <tr>\n",
              "      <th>2000-01-15</th>\n",
              "      <td>1.450342</td>\n",
              "      <td>0.450082</td>\n",
              "      <td>-4.731543</td>\n",
              "      <td>3.673504</td>\n",
              "    </tr>\n",
              "    <tr>\n",
              "      <th>2000-01-16</th>\n",
              "      <td>1.948955</td>\n",
              "      <td>1.059912</td>\n",
              "      <td>-6.297084</td>\n",
              "      <td>4.191426</td>\n",
              "    </tr>\n",
              "    <tr>\n",
              "      <th>2000-01-17</th>\n",
              "      <td>2.035009</td>\n",
              "      <td>2.273572</td>\n",
              "      <td>-6.637326</td>\n",
              "      <td>3.746256</td>\n",
              "    </tr>\n",
              "    <tr>\n",
              "      <th>2000-01-18</th>\n",
              "      <td>1.550255</td>\n",
              "      <td>3.503449</td>\n",
              "      <td>-6.578056</td>\n",
              "      <td>4.099211</td>\n",
              "    </tr>\n",
              "    <tr>\n",
              "      <th>2000-01-19</th>\n",
              "      <td>1.864008</td>\n",
              "      <td>4.212954</td>\n",
              "      <td>-7.183693</td>\n",
              "      <td>2.888867</td>\n",
              "    </tr>\n",
              "    <tr>\n",
              "      <th>2000-01-20</th>\n",
              "      <td>-0.075277</td>\n",
              "      <td>5.007933</td>\n",
              "      <td>-7.093309</td>\n",
              "      <td>4.735946</td>\n",
              "    </tr>\n",
              "    <tr>\n",
              "      <th>2000-01-21</th>\n",
              "      <td>-1.140021</td>\n",
              "      <td>6.814976</td>\n",
              "      <td>-6.716311</td>\n",
              "      <td>5.306338</td>\n",
              "    </tr>\n",
              "    <tr>\n",
              "      <th>2000-01-22</th>\n",
              "      <td>1.162872</td>\n",
              "      <td>6.534765</td>\n",
              "      <td>-6.110653</td>\n",
              "      <td>5.233384</td>\n",
              "    </tr>\n",
              "    <tr>\n",
              "      <th>2000-01-23</th>\n",
              "      <td>1.760717</td>\n",
              "      <td>5.714708</td>\n",
              "      <td>-4.054118</td>\n",
              "      <td>4.785703</td>\n",
              "    </tr>\n",
              "    <tr>\n",
              "      <th>2000-01-24</th>\n",
              "      <td>0.536450</td>\n",
              "      <td>5.849652</td>\n",
              "      <td>-3.765441</td>\n",
              "      <td>3.989357</td>\n",
              "    </tr>\n",
              "    <tr>\n",
              "      <th>2000-01-25</th>\n",
              "      <td>0.506539</td>\n",
              "      <td>6.692062</td>\n",
              "      <td>-4.821839</td>\n",
              "      <td>3.023168</td>\n",
              "    </tr>\n",
              "    <tr>\n",
              "      <th>2000-01-26</th>\n",
              "      <td>0.958889</td>\n",
              "      <td>6.568955</td>\n",
              "      <td>-4.259598</td>\n",
              "      <td>2.421934</td>\n",
              "    </tr>\n",
              "    <tr>\n",
              "      <th>2000-01-27</th>\n",
              "      <td>-0.172696</td>\n",
              "      <td>4.921587</td>\n",
              "      <td>-4.413335</td>\n",
              "      <td>2.314551</td>\n",
              "    </tr>\n",
              "    <tr>\n",
              "      <th>2000-01-28</th>\n",
              "      <td>0.165740</td>\n",
              "      <td>5.134014</td>\n",
              "      <td>-3.341849</td>\n",
              "      <td>1.133864</td>\n",
              "    </tr>\n",
              "    <tr>\n",
              "      <th>2000-01-29</th>\n",
              "      <td>0.093579</td>\n",
              "      <td>4.991880</td>\n",
              "      <td>-4.020020</td>\n",
              "      <td>2.081721</td>\n",
              "    </tr>\n",
              "    <tr>\n",
              "      <th>2000-01-30</th>\n",
              "      <td>0.424503</td>\n",
              "      <td>4.328352</td>\n",
              "      <td>-3.503704</td>\n",
              "      <td>2.303425</td>\n",
              "    </tr>\n",
              "    <tr>\n",
              "      <th>...</th>\n",
              "      <td>...</td>\n",
              "      <td>...</td>\n",
              "      <td>...</td>\n",
              "      <td>...</td>\n",
              "    </tr>\n",
              "    <tr>\n",
              "      <th>2002-08-28</th>\n",
              "      <td>-9.441308</td>\n",
              "      <td>-10.407354</td>\n",
              "      <td>60.908649</td>\n",
              "      <td>-3.372065</td>\n",
              "    </tr>\n",
              "    <tr>\n",
              "      <th>2002-08-29</th>\n",
              "      <td>-10.022290</td>\n",
              "      <td>-10.300304</td>\n",
              "      <td>59.022868</td>\n",
              "      <td>-4.729307</td>\n",
              "    </tr>\n",
              "    <tr>\n",
              "      <th>2002-08-30</th>\n",
              "      <td>-10.771862</td>\n",
              "      <td>-10.121161</td>\n",
              "      <td>59.190720</td>\n",
              "      <td>-4.776657</td>\n",
              "    </tr>\n",
              "    <tr>\n",
              "      <th>2002-08-31</th>\n",
              "      <td>-11.397452</td>\n",
              "      <td>-10.721580</td>\n",
              "      <td>59.955429</td>\n",
              "      <td>-4.837409</td>\n",
              "    </tr>\n",
              "    <tr>\n",
              "      <th>2002-09-01</th>\n",
              "      <td>-12.606183</td>\n",
              "      <td>-12.794658</td>\n",
              "      <td>60.073882</td>\n",
              "      <td>-6.897691</td>\n",
              "    </tr>\n",
              "    <tr>\n",
              "      <th>2002-09-02</th>\n",
              "      <td>-11.490124</td>\n",
              "      <td>-12.763907</td>\n",
              "      <td>60.835452</td>\n",
              "      <td>-6.677909</td>\n",
              "    </tr>\n",
              "    <tr>\n",
              "      <th>2002-09-03</th>\n",
              "      <td>-11.985902</td>\n",
              "      <td>-12.161442</td>\n",
              "      <td>60.848448</td>\n",
              "      <td>-6.248310</td>\n",
              "    </tr>\n",
              "    <tr>\n",
              "      <th>2002-09-04</th>\n",
              "      <td>-12.581613</td>\n",
              "      <td>-11.248297</td>\n",
              "      <td>60.504354</td>\n",
              "      <td>-6.408271</td>\n",
              "    </tr>\n",
              "    <tr>\n",
              "      <th>2002-09-05</th>\n",
              "      <td>-13.733525</td>\n",
              "      <td>-10.625722</td>\n",
              "      <td>58.903688</td>\n",
              "      <td>-5.788621</td>\n",
              "    </tr>\n",
              "    <tr>\n",
              "      <th>2002-09-06</th>\n",
              "      <td>-13.257015</td>\n",
              "      <td>-10.091945</td>\n",
              "      <td>58.625660</td>\n",
              "      <td>-4.776391</td>\n",
              "    </tr>\n",
              "    <tr>\n",
              "      <th>2002-09-07</th>\n",
              "      <td>-12.855639</td>\n",
              "      <td>-8.795421</td>\n",
              "      <td>59.073399</td>\n",
              "      <td>-4.017372</td>\n",
              "    </tr>\n",
              "    <tr>\n",
              "      <th>2002-09-08</th>\n",
              "      <td>-11.482862</td>\n",
              "      <td>-9.402805</td>\n",
              "      <td>58.042510</td>\n",
              "      <td>-3.530595</td>\n",
              "    </tr>\n",
              "    <tr>\n",
              "      <th>2002-09-09</th>\n",
              "      <td>-10.850022</td>\n",
              "      <td>-9.553852</td>\n",
              "      <td>57.214538</td>\n",
              "      <td>-4.053349</td>\n",
              "    </tr>\n",
              "    <tr>\n",
              "      <th>2002-09-10</th>\n",
              "      <td>-12.208049</td>\n",
              "      <td>-9.259484</td>\n",
              "      <td>58.237309</td>\n",
              "      <td>-3.971102</td>\n",
              "    </tr>\n",
              "    <tr>\n",
              "      <th>2002-09-11</th>\n",
              "      <td>-12.401630</td>\n",
              "      <td>-9.367988</td>\n",
              "      <td>58.999006</td>\n",
              "      <td>-3.615675</td>\n",
              "    </tr>\n",
              "    <tr>\n",
              "      <th>2002-09-12</th>\n",
              "      <td>-14.382630</td>\n",
              "      <td>-7.615701</td>\n",
              "      <td>61.633138</td>\n",
              "      <td>-2.822245</td>\n",
              "    </tr>\n",
              "    <tr>\n",
              "      <th>2002-09-13</th>\n",
              "      <td>-14.385503</td>\n",
              "      <td>-5.825456</td>\n",
              "      <td>62.643005</td>\n",
              "      <td>-2.631831</td>\n",
              "    </tr>\n",
              "    <tr>\n",
              "      <th>2002-09-14</th>\n",
              "      <td>-14.670608</td>\n",
              "      <td>-6.534945</td>\n",
              "      <td>63.046983</td>\n",
              "      <td>-2.521697</td>\n",
              "    </tr>\n",
              "    <tr>\n",
              "      <th>2002-09-15</th>\n",
              "      <td>-15.424981</td>\n",
              "      <td>-6.552120</td>\n",
              "      <td>64.461886</td>\n",
              "      <td>-3.493400</td>\n",
              "    </tr>\n",
              "    <tr>\n",
              "      <th>2002-09-16</th>\n",
              "      <td>-13.875303</td>\n",
              "      <td>-7.511547</td>\n",
              "      <td>64.741750</td>\n",
              "      <td>-4.255253</td>\n",
              "    </tr>\n",
              "    <tr>\n",
              "      <th>2002-09-17</th>\n",
              "      <td>-13.574444</td>\n",
              "      <td>-7.407093</td>\n",
              "      <td>64.003745</td>\n",
              "      <td>-3.096605</td>\n",
              "    </tr>\n",
              "    <tr>\n",
              "      <th>2002-09-18</th>\n",
              "      <td>-13.843896</td>\n",
              "      <td>-7.287694</td>\n",
              "      <td>64.860323</td>\n",
              "      <td>-3.211695</td>\n",
              "    </tr>\n",
              "    <tr>\n",
              "      <th>2002-09-19</th>\n",
              "      <td>-13.444606</td>\n",
              "      <td>-8.069938</td>\n",
              "      <td>66.156664</td>\n",
              "      <td>-3.679680</td>\n",
              "    </tr>\n",
              "    <tr>\n",
              "      <th>2002-09-20</th>\n",
              "      <td>-14.319578</td>\n",
              "      <td>-6.771972</td>\n",
              "      <td>64.871045</td>\n",
              "      <td>-4.633304</td>\n",
              "    </tr>\n",
              "    <tr>\n",
              "      <th>2002-09-21</th>\n",
              "      <td>-15.126463</td>\n",
              "      <td>-7.993281</td>\n",
              "      <td>65.080881</td>\n",
              "      <td>-3.497950</td>\n",
              "    </tr>\n",
              "    <tr>\n",
              "      <th>2002-09-22</th>\n",
              "      <td>-14.717619</td>\n",
              "      <td>-8.359075</td>\n",
              "      <td>65.765170</td>\n",
              "      <td>-5.577461</td>\n",
              "    </tr>\n",
              "    <tr>\n",
              "      <th>2002-09-23</th>\n",
              "      <td>-13.763743</td>\n",
              "      <td>-8.046417</td>\n",
              "      <td>66.821624</td>\n",
              "      <td>-5.256422</td>\n",
              "    </tr>\n",
              "    <tr>\n",
              "      <th>2002-09-24</th>\n",
              "      <td>-15.111257</td>\n",
              "      <td>-5.814779</td>\n",
              "      <td>66.104899</td>\n",
              "      <td>-6.185853</td>\n",
              "    </tr>\n",
              "    <tr>\n",
              "      <th>2002-09-25</th>\n",
              "      <td>-14.890142</td>\n",
              "      <td>-5.402545</td>\n",
              "      <td>65.420458</td>\n",
              "      <td>-5.578971</td>\n",
              "    </tr>\n",
              "    <tr>\n",
              "      <th>2002-09-26</th>\n",
              "      <td>-14.917314</td>\n",
              "      <td>-5.732310</td>\n",
              "      <td>63.944766</td>\n",
              "      <td>-6.181776</td>\n",
              "    </tr>\n",
              "  </tbody>\n",
              "</table>\n",
              "<p>1000 rows × 4 columns</p>\n",
              "</div>"
            ],
            "text/plain": [
              "                    A          B          C         D\n",
              "2000-01-01  -1.170941   0.688051  -0.383810  0.837035\n",
              "2000-01-02  -1.325416   0.061442  -1.080497  0.281412\n",
              "2000-01-03  -0.687276   0.916830  -2.839985  1.852432\n",
              "2000-01-04  -1.288728  -0.242376  -3.791390  1.309750\n",
              "2000-01-05  -0.937522  -0.779122  -5.202554  2.219908\n",
              "2000-01-06  -2.136242  -0.693236  -6.256821  3.015780\n",
              "2000-01-07  -1.412520  -2.517668  -5.712015  3.805923\n",
              "2000-01-08  -0.049283  -1.716615  -7.405345  4.770589\n",
              "2000-01-09   0.592184  -0.617583  -7.339519  3.694828\n",
              "2000-01-10   1.378037   0.110647  -5.297688  3.467191\n",
              "2000-01-11   2.474387  -0.083230  -4.153509  3.091714\n",
              "2000-01-12   1.621882   0.016834  -7.112481  1.237205\n",
              "2000-01-13   1.246822  -1.368471  -5.531885  0.338128\n",
              "2000-01-14   1.978975  -0.527194  -5.112244  1.466986\n",
              "2000-01-15   1.450342   0.450082  -4.731543  3.673504\n",
              "2000-01-16   1.948955   1.059912  -6.297084  4.191426\n",
              "2000-01-17   2.035009   2.273572  -6.637326  3.746256\n",
              "2000-01-18   1.550255   3.503449  -6.578056  4.099211\n",
              "2000-01-19   1.864008   4.212954  -7.183693  2.888867\n",
              "2000-01-20  -0.075277   5.007933  -7.093309  4.735946\n",
              "2000-01-21  -1.140021   6.814976  -6.716311  5.306338\n",
              "2000-01-22   1.162872   6.534765  -6.110653  5.233384\n",
              "2000-01-23   1.760717   5.714708  -4.054118  4.785703\n",
              "2000-01-24   0.536450   5.849652  -3.765441  3.989357\n",
              "2000-01-25   0.506539   6.692062  -4.821839  3.023168\n",
              "2000-01-26   0.958889   6.568955  -4.259598  2.421934\n",
              "2000-01-27  -0.172696   4.921587  -4.413335  2.314551\n",
              "2000-01-28   0.165740   5.134014  -3.341849  1.133864\n",
              "2000-01-29   0.093579   4.991880  -4.020020  2.081721\n",
              "2000-01-30   0.424503   4.328352  -3.503704  2.303425\n",
              "...               ...        ...        ...       ...\n",
              "2002-08-28  -9.441308 -10.407354  60.908649 -3.372065\n",
              "2002-08-29 -10.022290 -10.300304  59.022868 -4.729307\n",
              "2002-08-30 -10.771862 -10.121161  59.190720 -4.776657\n",
              "2002-08-31 -11.397452 -10.721580  59.955429 -4.837409\n",
              "2002-09-01 -12.606183 -12.794658  60.073882 -6.897691\n",
              "2002-09-02 -11.490124 -12.763907  60.835452 -6.677909\n",
              "2002-09-03 -11.985902 -12.161442  60.848448 -6.248310\n",
              "2002-09-04 -12.581613 -11.248297  60.504354 -6.408271\n",
              "2002-09-05 -13.733525 -10.625722  58.903688 -5.788621\n",
              "2002-09-06 -13.257015 -10.091945  58.625660 -4.776391\n",
              "2002-09-07 -12.855639  -8.795421  59.073399 -4.017372\n",
              "2002-09-08 -11.482862  -9.402805  58.042510 -3.530595\n",
              "2002-09-09 -10.850022  -9.553852  57.214538 -4.053349\n",
              "2002-09-10 -12.208049  -9.259484  58.237309 -3.971102\n",
              "2002-09-11 -12.401630  -9.367988  58.999006 -3.615675\n",
              "2002-09-12 -14.382630  -7.615701  61.633138 -2.822245\n",
              "2002-09-13 -14.385503  -5.825456  62.643005 -2.631831\n",
              "2002-09-14 -14.670608  -6.534945  63.046983 -2.521697\n",
              "2002-09-15 -15.424981  -6.552120  64.461886 -3.493400\n",
              "2002-09-16 -13.875303  -7.511547  64.741750 -4.255253\n",
              "2002-09-17 -13.574444  -7.407093  64.003745 -3.096605\n",
              "2002-09-18 -13.843896  -7.287694  64.860323 -3.211695\n",
              "2002-09-19 -13.444606  -8.069938  66.156664 -3.679680\n",
              "2002-09-20 -14.319578  -6.771972  64.871045 -4.633304\n",
              "2002-09-21 -15.126463  -7.993281  65.080881 -3.497950\n",
              "2002-09-22 -14.717619  -8.359075  65.765170 -5.577461\n",
              "2002-09-23 -13.763743  -8.046417  66.821624 -5.256422\n",
              "2002-09-24 -15.111257  -5.814779  66.104899 -6.185853\n",
              "2002-09-25 -14.890142  -5.402545  65.420458 -5.578971\n",
              "2002-09-26 -14.917314  -5.732310  63.944766 -6.181776\n",
              "\n",
              "[1000 rows x 4 columns]"
            ]
          },
          "metadata": {
            "tags": []
          },
          "execution_count": 150
        }
      ]
    },
    {
      "cell_type": "markdown",
      "metadata": {
        "colab_type": "text",
        "id": "PPEdwZcg3AHk"
      },
      "source": [
        "### Excel\n",
        "[MS Excel](https://pandas.pydata.org/pandas-docs/stable/io.html#io-excel)에 읽고 씁니다. \n",
        "\n",
        "엑셀 파일에 씁니다. \n"
      ]
    },
    {
      "cell_type": "code",
      "metadata": {
        "colab_type": "code",
        "id": "TcFx1mGk3tdT",
        "colab": {}
      },
      "source": [
        "df.to_excel('foo.xlsx', sheet_name='Sheet1')"
      ],
      "execution_count": 0,
      "outputs": []
    },
    {
      "cell_type": "markdown",
      "metadata": {
        "colab_type": "text",
        "id": "Eqr2I0bk3yDg"
      },
      "source": [
        "엑셀 파일을 읽어옵니다."
      ]
    },
    {
      "cell_type": "code",
      "metadata": {
        "colab_type": "code",
        "id": "znXQzTWX31-1",
        "outputId": "cc3eee2d-545a-4725-b41e-69fdd4832bf3",
        "colab": {
          "base_uri": "https://localhost:8080/",
          "height": 1949
        }
      },
      "source": [
        "pd.read_excel('foo.xlsx', 'Sheet1', index_col=None, na_values=['NA'])"
      ],
      "execution_count": 0,
      "outputs": [
        {
          "output_type": "execute_result",
          "data": {
            "text/html": [
              "<div>\n",
              "<style>\n",
              "    .dataframe thead tr:only-child th {\n",
              "        text-align: right;\n",
              "    }\n",
              "\n",
              "    .dataframe thead th {\n",
              "        text-align: left;\n",
              "    }\n",
              "\n",
              "    .dataframe tbody tr th {\n",
              "        vertical-align: top;\n",
              "    }\n",
              "</style>\n",
              "<table border=\"1\" class=\"dataframe\">\n",
              "  <thead>\n",
              "    <tr style=\"text-align: right;\">\n",
              "      <th></th>\n",
              "      <th>A</th>\n",
              "      <th>B</th>\n",
              "      <th>C</th>\n",
              "      <th>D</th>\n",
              "    </tr>\n",
              "  </thead>\n",
              "  <tbody>\n",
              "    <tr>\n",
              "      <th>2000-01-01</th>\n",
              "      <td>-1.170941</td>\n",
              "      <td>0.688051</td>\n",
              "      <td>-0.383810</td>\n",
              "      <td>0.837035</td>\n",
              "    </tr>\n",
              "    <tr>\n",
              "      <th>2000-01-02</th>\n",
              "      <td>-1.325416</td>\n",
              "      <td>0.061442</td>\n",
              "      <td>-1.080497</td>\n",
              "      <td>0.281412</td>\n",
              "    </tr>\n",
              "    <tr>\n",
              "      <th>2000-01-03</th>\n",
              "      <td>-0.687276</td>\n",
              "      <td>0.916830</td>\n",
              "      <td>-2.839985</td>\n",
              "      <td>1.852432</td>\n",
              "    </tr>\n",
              "    <tr>\n",
              "      <th>2000-01-04</th>\n",
              "      <td>-1.288728</td>\n",
              "      <td>-0.242376</td>\n",
              "      <td>-3.791390</td>\n",
              "      <td>1.309750</td>\n",
              "    </tr>\n",
              "    <tr>\n",
              "      <th>2000-01-05</th>\n",
              "      <td>-0.937522</td>\n",
              "      <td>-0.779122</td>\n",
              "      <td>-5.202554</td>\n",
              "      <td>2.219908</td>\n",
              "    </tr>\n",
              "    <tr>\n",
              "      <th>2000-01-06</th>\n",
              "      <td>-2.136242</td>\n",
              "      <td>-0.693236</td>\n",
              "      <td>-6.256821</td>\n",
              "      <td>3.015780</td>\n",
              "    </tr>\n",
              "    <tr>\n",
              "      <th>2000-01-07</th>\n",
              "      <td>-1.412520</td>\n",
              "      <td>-2.517668</td>\n",
              "      <td>-5.712015</td>\n",
              "      <td>3.805923</td>\n",
              "    </tr>\n",
              "    <tr>\n",
              "      <th>2000-01-08</th>\n",
              "      <td>-0.049283</td>\n",
              "      <td>-1.716615</td>\n",
              "      <td>-7.405345</td>\n",
              "      <td>4.770589</td>\n",
              "    </tr>\n",
              "    <tr>\n",
              "      <th>2000-01-09</th>\n",
              "      <td>0.592184</td>\n",
              "      <td>-0.617583</td>\n",
              "      <td>-7.339519</td>\n",
              "      <td>3.694828</td>\n",
              "    </tr>\n",
              "    <tr>\n",
              "      <th>2000-01-10</th>\n",
              "      <td>1.378037</td>\n",
              "      <td>0.110647</td>\n",
              "      <td>-5.297688</td>\n",
              "      <td>3.467191</td>\n",
              "    </tr>\n",
              "    <tr>\n",
              "      <th>2000-01-11</th>\n",
              "      <td>2.474387</td>\n",
              "      <td>-0.083230</td>\n",
              "      <td>-4.153509</td>\n",
              "      <td>3.091714</td>\n",
              "    </tr>\n",
              "    <tr>\n",
              "      <th>2000-01-12</th>\n",
              "      <td>1.621882</td>\n",
              "      <td>0.016834</td>\n",
              "      <td>-7.112481</td>\n",
              "      <td>1.237205</td>\n",
              "    </tr>\n",
              "    <tr>\n",
              "      <th>2000-01-13</th>\n",
              "      <td>1.246822</td>\n",
              "      <td>-1.368471</td>\n",
              "      <td>-5.531885</td>\n",
              "      <td>0.338128</td>\n",
              "    </tr>\n",
              "    <tr>\n",
              "      <th>2000-01-14</th>\n",
              "      <td>1.978975</td>\n",
              "      <td>-0.527194</td>\n",
              "      <td>-5.112244</td>\n",
              "      <td>1.466986</td>\n",
              "    </tr>\n",
              "    <tr>\n",
              "      <th>2000-01-15</th>\n",
              "      <td>1.450342</td>\n",
              "      <td>0.450082</td>\n",
              "      <td>-4.731543</td>\n",
              "      <td>3.673504</td>\n",
              "    </tr>\n",
              "    <tr>\n",
              "      <th>2000-01-16</th>\n",
              "      <td>1.948955</td>\n",
              "      <td>1.059912</td>\n",
              "      <td>-6.297084</td>\n",
              "      <td>4.191426</td>\n",
              "    </tr>\n",
              "    <tr>\n",
              "      <th>2000-01-17</th>\n",
              "      <td>2.035009</td>\n",
              "      <td>2.273572</td>\n",
              "      <td>-6.637326</td>\n",
              "      <td>3.746256</td>\n",
              "    </tr>\n",
              "    <tr>\n",
              "      <th>2000-01-18</th>\n",
              "      <td>1.550255</td>\n",
              "      <td>3.503449</td>\n",
              "      <td>-6.578056</td>\n",
              "      <td>4.099211</td>\n",
              "    </tr>\n",
              "    <tr>\n",
              "      <th>2000-01-19</th>\n",
              "      <td>1.864008</td>\n",
              "      <td>4.212954</td>\n",
              "      <td>-7.183693</td>\n",
              "      <td>2.888867</td>\n",
              "    </tr>\n",
              "    <tr>\n",
              "      <th>2000-01-20</th>\n",
              "      <td>-0.075277</td>\n",
              "      <td>5.007933</td>\n",
              "      <td>-7.093309</td>\n",
              "      <td>4.735946</td>\n",
              "    </tr>\n",
              "    <tr>\n",
              "      <th>2000-01-21</th>\n",
              "      <td>-1.140021</td>\n",
              "      <td>6.814976</td>\n",
              "      <td>-6.716311</td>\n",
              "      <td>5.306338</td>\n",
              "    </tr>\n",
              "    <tr>\n",
              "      <th>2000-01-22</th>\n",
              "      <td>1.162872</td>\n",
              "      <td>6.534765</td>\n",
              "      <td>-6.110653</td>\n",
              "      <td>5.233384</td>\n",
              "    </tr>\n",
              "    <tr>\n",
              "      <th>2000-01-23</th>\n",
              "      <td>1.760717</td>\n",
              "      <td>5.714708</td>\n",
              "      <td>-4.054118</td>\n",
              "      <td>4.785703</td>\n",
              "    </tr>\n",
              "    <tr>\n",
              "      <th>2000-01-24</th>\n",
              "      <td>0.536450</td>\n",
              "      <td>5.849652</td>\n",
              "      <td>-3.765441</td>\n",
              "      <td>3.989357</td>\n",
              "    </tr>\n",
              "    <tr>\n",
              "      <th>2000-01-25</th>\n",
              "      <td>0.506539</td>\n",
              "      <td>6.692062</td>\n",
              "      <td>-4.821839</td>\n",
              "      <td>3.023168</td>\n",
              "    </tr>\n",
              "    <tr>\n",
              "      <th>2000-01-26</th>\n",
              "      <td>0.958889</td>\n",
              "      <td>6.568955</td>\n",
              "      <td>-4.259598</td>\n",
              "      <td>2.421934</td>\n",
              "    </tr>\n",
              "    <tr>\n",
              "      <th>2000-01-27</th>\n",
              "      <td>-0.172696</td>\n",
              "      <td>4.921587</td>\n",
              "      <td>-4.413335</td>\n",
              "      <td>2.314551</td>\n",
              "    </tr>\n",
              "    <tr>\n",
              "      <th>2000-01-28</th>\n",
              "      <td>0.165740</td>\n",
              "      <td>5.134014</td>\n",
              "      <td>-3.341849</td>\n",
              "      <td>1.133864</td>\n",
              "    </tr>\n",
              "    <tr>\n",
              "      <th>2000-01-29</th>\n",
              "      <td>0.093579</td>\n",
              "      <td>4.991880</td>\n",
              "      <td>-4.020020</td>\n",
              "      <td>2.081721</td>\n",
              "    </tr>\n",
              "    <tr>\n",
              "      <th>2000-01-30</th>\n",
              "      <td>0.424503</td>\n",
              "      <td>4.328352</td>\n",
              "      <td>-3.503704</td>\n",
              "      <td>2.303425</td>\n",
              "    </tr>\n",
              "    <tr>\n",
              "      <th>...</th>\n",
              "      <td>...</td>\n",
              "      <td>...</td>\n",
              "      <td>...</td>\n",
              "      <td>...</td>\n",
              "    </tr>\n",
              "    <tr>\n",
              "      <th>2002-08-28</th>\n",
              "      <td>-9.441308</td>\n",
              "      <td>-10.407354</td>\n",
              "      <td>60.908649</td>\n",
              "      <td>-3.372065</td>\n",
              "    </tr>\n",
              "    <tr>\n",
              "      <th>2002-08-29</th>\n",
              "      <td>-10.022290</td>\n",
              "      <td>-10.300304</td>\n",
              "      <td>59.022868</td>\n",
              "      <td>-4.729307</td>\n",
              "    </tr>\n",
              "    <tr>\n",
              "      <th>2002-08-30</th>\n",
              "      <td>-10.771862</td>\n",
              "      <td>-10.121161</td>\n",
              "      <td>59.190720</td>\n",
              "      <td>-4.776657</td>\n",
              "    </tr>\n",
              "    <tr>\n",
              "      <th>2002-08-31</th>\n",
              "      <td>-11.397452</td>\n",
              "      <td>-10.721580</td>\n",
              "      <td>59.955429</td>\n",
              "      <td>-4.837409</td>\n",
              "    </tr>\n",
              "    <tr>\n",
              "      <th>2002-09-01</th>\n",
              "      <td>-12.606183</td>\n",
              "      <td>-12.794658</td>\n",
              "      <td>60.073882</td>\n",
              "      <td>-6.897691</td>\n",
              "    </tr>\n",
              "    <tr>\n",
              "      <th>2002-09-02</th>\n",
              "      <td>-11.490124</td>\n",
              "      <td>-12.763907</td>\n",
              "      <td>60.835452</td>\n",
              "      <td>-6.677909</td>\n",
              "    </tr>\n",
              "    <tr>\n",
              "      <th>2002-09-03</th>\n",
              "      <td>-11.985902</td>\n",
              "      <td>-12.161442</td>\n",
              "      <td>60.848448</td>\n",
              "      <td>-6.248310</td>\n",
              "    </tr>\n",
              "    <tr>\n",
              "      <th>2002-09-04</th>\n",
              "      <td>-12.581613</td>\n",
              "      <td>-11.248297</td>\n",
              "      <td>60.504354</td>\n",
              "      <td>-6.408271</td>\n",
              "    </tr>\n",
              "    <tr>\n",
              "      <th>2002-09-05</th>\n",
              "      <td>-13.733525</td>\n",
              "      <td>-10.625722</td>\n",
              "      <td>58.903688</td>\n",
              "      <td>-5.788621</td>\n",
              "    </tr>\n",
              "    <tr>\n",
              "      <th>2002-09-06</th>\n",
              "      <td>-13.257015</td>\n",
              "      <td>-10.091945</td>\n",
              "      <td>58.625660</td>\n",
              "      <td>-4.776391</td>\n",
              "    </tr>\n",
              "    <tr>\n",
              "      <th>2002-09-07</th>\n",
              "      <td>-12.855639</td>\n",
              "      <td>-8.795421</td>\n",
              "      <td>59.073399</td>\n",
              "      <td>-4.017372</td>\n",
              "    </tr>\n",
              "    <tr>\n",
              "      <th>2002-09-08</th>\n",
              "      <td>-11.482862</td>\n",
              "      <td>-9.402805</td>\n",
              "      <td>58.042510</td>\n",
              "      <td>-3.530595</td>\n",
              "    </tr>\n",
              "    <tr>\n",
              "      <th>2002-09-09</th>\n",
              "      <td>-10.850022</td>\n",
              "      <td>-9.553852</td>\n",
              "      <td>57.214538</td>\n",
              "      <td>-4.053349</td>\n",
              "    </tr>\n",
              "    <tr>\n",
              "      <th>2002-09-10</th>\n",
              "      <td>-12.208049</td>\n",
              "      <td>-9.259484</td>\n",
              "      <td>58.237309</td>\n",
              "      <td>-3.971102</td>\n",
              "    </tr>\n",
              "    <tr>\n",
              "      <th>2002-09-11</th>\n",
              "      <td>-12.401630</td>\n",
              "      <td>-9.367988</td>\n",
              "      <td>58.999006</td>\n",
              "      <td>-3.615675</td>\n",
              "    </tr>\n",
              "    <tr>\n",
              "      <th>2002-09-12</th>\n",
              "      <td>-14.382630</td>\n",
              "      <td>-7.615701</td>\n",
              "      <td>61.633138</td>\n",
              "      <td>-2.822245</td>\n",
              "    </tr>\n",
              "    <tr>\n",
              "      <th>2002-09-13</th>\n",
              "      <td>-14.385503</td>\n",
              "      <td>-5.825456</td>\n",
              "      <td>62.643005</td>\n",
              "      <td>-2.631831</td>\n",
              "    </tr>\n",
              "    <tr>\n",
              "      <th>2002-09-14</th>\n",
              "      <td>-14.670608</td>\n",
              "      <td>-6.534945</td>\n",
              "      <td>63.046983</td>\n",
              "      <td>-2.521697</td>\n",
              "    </tr>\n",
              "    <tr>\n",
              "      <th>2002-09-15</th>\n",
              "      <td>-15.424981</td>\n",
              "      <td>-6.552120</td>\n",
              "      <td>64.461886</td>\n",
              "      <td>-3.493400</td>\n",
              "    </tr>\n",
              "    <tr>\n",
              "      <th>2002-09-16</th>\n",
              "      <td>-13.875303</td>\n",
              "      <td>-7.511547</td>\n",
              "      <td>64.741750</td>\n",
              "      <td>-4.255253</td>\n",
              "    </tr>\n",
              "    <tr>\n",
              "      <th>2002-09-17</th>\n",
              "      <td>-13.574444</td>\n",
              "      <td>-7.407093</td>\n",
              "      <td>64.003745</td>\n",
              "      <td>-3.096605</td>\n",
              "    </tr>\n",
              "    <tr>\n",
              "      <th>2002-09-18</th>\n",
              "      <td>-13.843896</td>\n",
              "      <td>-7.287694</td>\n",
              "      <td>64.860323</td>\n",
              "      <td>-3.211695</td>\n",
              "    </tr>\n",
              "    <tr>\n",
              "      <th>2002-09-19</th>\n",
              "      <td>-13.444606</td>\n",
              "      <td>-8.069938</td>\n",
              "      <td>66.156664</td>\n",
              "      <td>-3.679680</td>\n",
              "    </tr>\n",
              "    <tr>\n",
              "      <th>2002-09-20</th>\n",
              "      <td>-14.319578</td>\n",
              "      <td>-6.771972</td>\n",
              "      <td>64.871045</td>\n",
              "      <td>-4.633304</td>\n",
              "    </tr>\n",
              "    <tr>\n",
              "      <th>2002-09-21</th>\n",
              "      <td>-15.126463</td>\n",
              "      <td>-7.993281</td>\n",
              "      <td>65.080881</td>\n",
              "      <td>-3.497950</td>\n",
              "    </tr>\n",
              "    <tr>\n",
              "      <th>2002-09-22</th>\n",
              "      <td>-14.717619</td>\n",
              "      <td>-8.359075</td>\n",
              "      <td>65.765170</td>\n",
              "      <td>-5.577461</td>\n",
              "    </tr>\n",
              "    <tr>\n",
              "      <th>2002-09-23</th>\n",
              "      <td>-13.763743</td>\n",
              "      <td>-8.046417</td>\n",
              "      <td>66.821624</td>\n",
              "      <td>-5.256422</td>\n",
              "    </tr>\n",
              "    <tr>\n",
              "      <th>2002-09-24</th>\n",
              "      <td>-15.111257</td>\n",
              "      <td>-5.814779</td>\n",
              "      <td>66.104899</td>\n",
              "      <td>-6.185853</td>\n",
              "    </tr>\n",
              "    <tr>\n",
              "      <th>2002-09-25</th>\n",
              "      <td>-14.890142</td>\n",
              "      <td>-5.402545</td>\n",
              "      <td>65.420458</td>\n",
              "      <td>-5.578971</td>\n",
              "    </tr>\n",
              "    <tr>\n",
              "      <th>2002-09-26</th>\n",
              "      <td>-14.917314</td>\n",
              "      <td>-5.732310</td>\n",
              "      <td>63.944766</td>\n",
              "      <td>-6.181776</td>\n",
              "    </tr>\n",
              "  </tbody>\n",
              "</table>\n",
              "<p>1000 rows × 4 columns</p>\n",
              "</div>"
            ],
            "text/plain": [
              "                    A          B          C         D\n",
              "2000-01-01  -1.170941   0.688051  -0.383810  0.837035\n",
              "2000-01-02  -1.325416   0.061442  -1.080497  0.281412\n",
              "2000-01-03  -0.687276   0.916830  -2.839985  1.852432\n",
              "2000-01-04  -1.288728  -0.242376  -3.791390  1.309750\n",
              "2000-01-05  -0.937522  -0.779122  -5.202554  2.219908\n",
              "2000-01-06  -2.136242  -0.693236  -6.256821  3.015780\n",
              "2000-01-07  -1.412520  -2.517668  -5.712015  3.805923\n",
              "2000-01-08  -0.049283  -1.716615  -7.405345  4.770589\n",
              "2000-01-09   0.592184  -0.617583  -7.339519  3.694828\n",
              "2000-01-10   1.378037   0.110647  -5.297688  3.467191\n",
              "2000-01-11   2.474387  -0.083230  -4.153509  3.091714\n",
              "2000-01-12   1.621882   0.016834  -7.112481  1.237205\n",
              "2000-01-13   1.246822  -1.368471  -5.531885  0.338128\n",
              "2000-01-14   1.978975  -0.527194  -5.112244  1.466986\n",
              "2000-01-15   1.450342   0.450082  -4.731543  3.673504\n",
              "2000-01-16   1.948955   1.059912  -6.297084  4.191426\n",
              "2000-01-17   2.035009   2.273572  -6.637326  3.746256\n",
              "2000-01-18   1.550255   3.503449  -6.578056  4.099211\n",
              "2000-01-19   1.864008   4.212954  -7.183693  2.888867\n",
              "2000-01-20  -0.075277   5.007933  -7.093309  4.735946\n",
              "2000-01-21  -1.140021   6.814976  -6.716311  5.306338\n",
              "2000-01-22   1.162872   6.534765  -6.110653  5.233384\n",
              "2000-01-23   1.760717   5.714708  -4.054118  4.785703\n",
              "2000-01-24   0.536450   5.849652  -3.765441  3.989357\n",
              "2000-01-25   0.506539   6.692062  -4.821839  3.023168\n",
              "2000-01-26   0.958889   6.568955  -4.259598  2.421934\n",
              "2000-01-27  -0.172696   4.921587  -4.413335  2.314551\n",
              "2000-01-28   0.165740   5.134014  -3.341849  1.133864\n",
              "2000-01-29   0.093579   4.991880  -4.020020  2.081721\n",
              "2000-01-30   0.424503   4.328352  -3.503704  2.303425\n",
              "...               ...        ...        ...       ...\n",
              "2002-08-28  -9.441308 -10.407354  60.908649 -3.372065\n",
              "2002-08-29 -10.022290 -10.300304  59.022868 -4.729307\n",
              "2002-08-30 -10.771862 -10.121161  59.190720 -4.776657\n",
              "2002-08-31 -11.397452 -10.721580  59.955429 -4.837409\n",
              "2002-09-01 -12.606183 -12.794658  60.073882 -6.897691\n",
              "2002-09-02 -11.490124 -12.763907  60.835452 -6.677909\n",
              "2002-09-03 -11.985902 -12.161442  60.848448 -6.248310\n",
              "2002-09-04 -12.581613 -11.248297  60.504354 -6.408271\n",
              "2002-09-05 -13.733525 -10.625722  58.903688 -5.788621\n",
              "2002-09-06 -13.257015 -10.091945  58.625660 -4.776391\n",
              "2002-09-07 -12.855639  -8.795421  59.073399 -4.017372\n",
              "2002-09-08 -11.482862  -9.402805  58.042510 -3.530595\n",
              "2002-09-09 -10.850022  -9.553852  57.214538 -4.053349\n",
              "2002-09-10 -12.208049  -9.259484  58.237309 -3.971102\n",
              "2002-09-11 -12.401630  -9.367988  58.999006 -3.615675\n",
              "2002-09-12 -14.382630  -7.615701  61.633138 -2.822245\n",
              "2002-09-13 -14.385503  -5.825456  62.643005 -2.631831\n",
              "2002-09-14 -14.670608  -6.534945  63.046983 -2.521697\n",
              "2002-09-15 -15.424981  -6.552120  64.461886 -3.493400\n",
              "2002-09-16 -13.875303  -7.511547  64.741750 -4.255253\n",
              "2002-09-17 -13.574444  -7.407093  64.003745 -3.096605\n",
              "2002-09-18 -13.843896  -7.287694  64.860323 -3.211695\n",
              "2002-09-19 -13.444606  -8.069938  66.156664 -3.679680\n",
              "2002-09-20 -14.319578  -6.771972  64.871045 -4.633304\n",
              "2002-09-21 -15.126463  -7.993281  65.080881 -3.497950\n",
              "2002-09-22 -14.717619  -8.359075  65.765170 -5.577461\n",
              "2002-09-23 -13.763743  -8.046417  66.821624 -5.256422\n",
              "2002-09-24 -15.111257  -5.814779  66.104899 -6.185853\n",
              "2002-09-25 -14.890142  -5.402545  65.420458 -5.578971\n",
              "2002-09-26 -14.917314  -5.732310  63.944766 -6.181776\n",
              "\n",
              "[1000 rows x 4 columns]"
            ]
          },
          "metadata": {
            "tags": []
          },
          "execution_count": 152
        }
      ]
    },
    {
      "cell_type": "markdown",
      "metadata": {
        "colab_type": "text",
        "id": "fBibp76_3IjV"
      },
      "source": [
        "## Gotchas (잡았다!)"
      ]
    },
    {
      "cell_type": "markdown",
      "metadata": {
        "colab_type": "text",
        "id": "IwTGemuB31es"
      },
      "source": [
        "연산을 수행하기 위해 시도하면 다음과 같은 예외 상황을 볼 수도 있습니다."
      ]
    },
    {
      "cell_type": "code",
      "metadata": {
        "colab_type": "code",
        "id": "7Pl6ilbuLNju",
        "outputId": "bacf7033-4d39-418f-d128-a25eb517b02a",
        "colab": {}
      },
      "source": [
        "if pd.Series([False, True, False]):\n",
        "    print(\"I was true\")"
      ],
      "execution_count": 0,
      "outputs": [
        {
          "output_type": "error",
          "ename": "ValueError",
          "evalue": "The truth value of a Series is ambiguous. Use a.empty, a.bool(), a.item(), a.any() or a.all().",
          "traceback": [
            "\u001b[1;31m---------------------------------------------------------------------------\u001b[0m",
            "\u001b[1;31mValueError\u001b[0m                                Traceback (most recent call last)",
            "\u001b[1;32m<ipython-input-153-9cae3ab0f79f>\u001b[0m in \u001b[0;36m<module>\u001b[1;34m()\u001b[0m\n\u001b[1;32m----> 1\u001b[1;33m \u001b[1;32mif\u001b[0m \u001b[0mpd\u001b[0m\u001b[1;33m.\u001b[0m\u001b[0mSeries\u001b[0m\u001b[1;33m(\u001b[0m\u001b[1;33m[\u001b[0m\u001b[1;32mFalse\u001b[0m\u001b[1;33m,\u001b[0m \u001b[1;32mTrue\u001b[0m\u001b[1;33m,\u001b[0m \u001b[1;32mFalse\u001b[0m\u001b[1;33m]\u001b[0m\u001b[1;33m)\u001b[0m\u001b[1;33m:\u001b[0m\u001b[1;33m\u001b[0m\u001b[0m\n\u001b[0m\u001b[0;32m      2\u001b[0m     \u001b[0mprint\u001b[0m\u001b[1;33m(\u001b[0m\u001b[1;34m\"I was true\"\u001b[0m\u001b[1;33m)\u001b[0m\u001b[1;33m\u001b[0m\u001b[0m\n",
            "\u001b[1;32mC:\\Users\\Admin\\Anaconda3\\lib\\site-packages\\pandas\\core\\generic.py\u001b[0m in \u001b[0;36m__nonzero__\u001b[1;34m(self)\u001b[0m\n\u001b[0;32m    951\u001b[0m         raise ValueError(\"The truth value of a {0} is ambiguous. \"\n\u001b[0;32m    952\u001b[0m                          \u001b[1;34m\"Use a.empty, a.bool(), a.item(), a.any() or a.all().\"\u001b[0m\u001b[1;33m\u001b[0m\u001b[0m\n\u001b[1;32m--> 953\u001b[1;33m                          .format(self.__class__.__name__))\n\u001b[0m\u001b[0;32m    954\u001b[0m \u001b[1;33m\u001b[0m\u001b[0m\n\u001b[0;32m    955\u001b[0m     \u001b[0m__bool__\u001b[0m \u001b[1;33m=\u001b[0m \u001b[0m__nonzero__\u001b[0m\u001b[1;33m\u001b[0m\u001b[0m\n",
            "\u001b[1;31mValueError\u001b[0m: The truth value of a Series is ambiguous. Use a.empty, a.bool(), a.item(), a.any() or a.all()."
          ]
        }
      ]
    },
    {
      "cell_type": "markdown",
      "metadata": {
        "id": "oiA4BhCcJPxJ",
        "colab_type": "text"
      },
      "source": [
        "이러한 경우에는, any(), all() or empty 등을 사용해서 무엇을 원하는지를 선택(반영)해주어야 합니다."
      ]
    },
    {
      "cell_type": "code",
      "metadata": {
        "id": "GwsJW43XJPxJ",
        "colab_type": "code",
        "colab": {}
      },
      "source": [
        "if pd.Series([False, True, False])is not None:\n",
        "      print(\"I was not None\")"
      ],
      "execution_count": 0,
      "outputs": []
    },
    {
      "cell_type": "markdown",
      "metadata": {
        "colab_type": "text",
        "id": "8wpBt_ePLNjy"
      },
      "source": [
        "설명과 무엇을 해야하는지에 대해서는 [비교](https://pandas.pydata.org/pandas-docs/stable/basics.html#basics-compare) 부분을 참조하세요.\n",
        "\n",
        "[Gotchas](https://pandas.pydata.org/pandas-docs/stable/gotchas.html#gotchas) 부분도 참조하세요."
      ]
    }
  ]
}